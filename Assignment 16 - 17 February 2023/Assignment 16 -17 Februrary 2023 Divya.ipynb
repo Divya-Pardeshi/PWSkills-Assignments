{
 "cells": [
  {
   "cell_type": "markdown",
   "id": "f4c282d7-f1e2-48f6-9978-439831bc4907",
   "metadata": {},
   "source": [
    "## Assignment 16 - 17 February 2023 : Divya Pardeshi"
   ]
  },
  {
   "cell_type": "markdown",
   "id": "686267af-d210-45f4-b02a-192bd21ca122",
   "metadata": {},
   "source": [
    "**Q1. What is MongoDB? Explain Non-Relational Databases in Short. In Which Scenarios is it Preferred to Use MongoDB Over SQL Databases?**\n"
   ]
  },
  {
   "cell_type": "markdown",
   "id": "15100f17-a29b-4988-a962-7dc1065dab77",
   "metadata": {},
   "source": [
    "**MongoDB:**\n",
    "\n",
    "MongoDB is a NoSQL database that stores data in a flexible, JSON-like format called BSON (Binary JSON).\n",
    "It is a document-oriented database, meaning it stores data in documents that can have nested structures, arrays, and various data types.\n",
    "\n",
    "***Non-Relational Databases:***\n",
    "\n",
    "Non-relational databases, also known as NoSQL databases, do not use the traditional table-based schema of relational databases.\n",
    "They can store data in various formats like key-value pairs, documents, graphs, or wide-columns.\n",
    "They offer flexible schemas, horizontal scalability, and are optimized for specific use cases like big data and real-time applications.\n",
    "\n",
    "***When to Use MongoDB Over SQL Databases:***\n",
    "\n",
    "When dealing with unstructured or semi-structured data.\n",
    "For applications that require fast, iterative development and frequent schema changes.\n",
    "When horizontal scalability and distributed data storage are needed.\n",
    "For use cases involving large volumes of data, real-time analytics, or big data.\n"
   ]
  },
  {
   "cell_type": "markdown",
   "id": "da451015-a376-444b-981d-2e7993296de6",
   "metadata": {},
   "source": [
    "**Q2. State and Explain the features of MongoDB.**"
   ]
  },
  {
   "cell_type": "markdown",
   "id": "9583b4fd-e495-4709-a701-6de997bbaeca",
   "metadata": {},
   "source": [
    "\n",
    "* Document-Oriented:\n",
    "Stores data in BSON format (Binary JSON), allowing embedded documents and arrays.\n",
    "\n",
    "* Schema-less:\n",
    "Collections do not enforce document structure, offering flexibility in data modeling.\n",
    "\n",
    "* Scalability:\n",
    "Supports horizontal scaling through sharding, distributing data across multiple servers.\n",
    "\n",
    "* High Performance:\n",
    "Optimized for read and write operations, suitable for high-traffic applications.\n",
    "\n",
    "* Indexing:\n",
    "Supports various indexing options to improve query performance.\n",
    "\n",
    "* Aggregation Framework:\n",
    "Provides powerful tools for data aggregation and analysis.\n",
    "\n",
    "* Replication:\n",
    "Supports replica sets for high availability and data redundancy.\n",
    "\n",
    "* Ad-hoc Queries:\n",
    "Allows dynamic queries, supporting a wide range of query expressions.\n",
    "\n"
   ]
  },
  {
   "cell_type": "markdown",
   "id": "65e53409-c8b3-46c1-87f9-b71e2ca2f68d",
   "metadata": {},
   "source": [
    "**Q3. Write a code to connect MongoDB to Python. Also, create a database and a collection in MongoDB.**"
   ]
  },
  {
   "cell_type": "code",
   "execution_count": null,
   "id": "7d1bad7b-8d9c-4b14-a3ac-34adadac6347",
   "metadata": {},
   "outputs": [],
   "source": [
    "from pymongo import MongoClient\n",
    "\n",
    "# Connect to MongoDB\n",
    "client = MongoClient('mongodb://localhost:27017/')\n",
    "\n",
    "# Create a database\n",
    "db = client['mydatabase']\n",
    "\n",
    "# Create a collection\n",
    "collection = db['mycollection']\n",
    "\n",
    "print(\"Database and collection created successfully!\")\n"
   ]
  },
  {
   "cell_type": "markdown",
   "id": "3d6cf5ff-461b-455d-8ee1-5e26ae2a20ef",
   "metadata": {},
   "source": [
    "**Q4. Using the database and the collection created in question number 3, write a code to insert one record,\n",
    "and insert many records. Use the find() and find_one() methods to print the inserted record.**"
   ]
  },
  {
   "cell_type": "code",
   "execution_count": null,
   "id": "6a298174-4b54-4d6b-8255-993f736cb434",
   "metadata": {},
   "outputs": [],
   "source": [
    "# Insert one record\n",
    "record = {\"name\": \"John Doe\", \"age\": 30, \"city\": \"New York\"}\n",
    "collection.insert_one(record)\n",
    "\n",
    "# Insert many records\n",
    "records = [\n",
    "    {\"name\": \"Jane Doe\", \"age\": 25, \"city\": \"Los Angeles\"},\n",
    "    {\"name\": \"Mike Smith\", \"age\": 35, \"city\": \"Chicago\"},\n",
    "    {\"name\": \"Emily Jones\", \"age\": 22, \"city\": \"Houston\"}\n",
    "]\n",
    "collection.insert_many(records)\n",
    "\n",
    "# Find one record\n",
    "print(\"Find one record:\")\n",
    "print(collection.find_one({\"name\": \"John Doe\"}))\n",
    "\n",
    "# Find all records\n",
    "print(\"\\nFind all records:\")\n",
    "for doc in collection.find():\n",
    "    print(doc)\n"
   ]
  },
  {
   "cell_type": "markdown",
   "id": "98e0d76f-5a25-42bc-998c-b66373b15908",
   "metadata": {},
   "source": [
    "**Q5. Explain how you can use the find() method to query the MongoDB database. Write a simple code to\n",
    "demonstrate this.**"
   ]
  },
  {
   "cell_type": "code",
   "execution_count": null,
   "id": "a2701170-edb9-4410-a974-4acc47494c14",
   "metadata": {},
   "outputs": [],
   "source": [
    "# Querying all documents in the collection\n",
    "for doc in collection.find():\n",
    "    print(doc)\n",
    "\n",
    "# Querying documents with specific criteria\n",
    "for doc in collection.find({\"age\": {\"$gt\": 25}}):\n",
    "    print(doc)\n"
   ]
  },
  {
   "cell_type": "markdown",
   "id": "4d2dea4b-dc88-42d4-9374-aa1eb2e2012e",
   "metadata": {},
   "source": [
    "**Q6. Explain the sort() method. Give an example to demonstrate sorting in MongoDB.**"
   ]
  },
  {
   "cell_type": "code",
   "execution_count": null,
   "id": "372df16c-0b2e-4fc8-b62d-f7ce5f298923",
   "metadata": {},
   "outputs": [],
   "source": [
    "The sort() method is used to sort the results of a query in ascending or descending order.\n",
    "\n",
    "# Sorting by age in ascending order\n",
    "for doc in collection.find().sort(\"age\", 1):\n",
    "    print(doc)\n",
    "\n",
    "# Sorting by age in descending order\n",
    "for doc in collection.find().sort(\"age\", -1):\n",
    "    print(doc)\n"
   ]
  },
  {
   "cell_type": "markdown",
   "id": "ccf00c21-4f89-4e4d-9dfe-0a0053b103c5",
   "metadata": {},
   "source": [
    "**Q7. Using delete_one(), delete_many(), and drop()**"
   ]
  },
  {
   "cell_type": "code",
   "execution_count": null,
   "id": "7e13247d-a2c6-4af5-93b8-d1e3aa180135",
   "metadata": {},
   "outputs": [],
   "source": [
    "delete_one(): Deletes a single document that matches the query criteria.\n",
    "\n",
    "# Delete one document\n",
    "collection.delete_one({\"name\": \"John Doe\"})\n",
    "    \n",
    "delete_many(): Deletes all documents that match the query criteria.\n",
    "\n",
    "# Delete many documents\n",
    "collection.delete_many({\"age\": {\"$lt\": 30}})\n",
    "    \n",
    "drop(): Deletes the entire collection.\n",
    "\n",
    "# Drop the collection\n",
    "collection.drop()"
   ]
  }
 ],
 "metadata": {
  "kernelspec": {
   "display_name": "Python 3 (ipykernel)",
   "language": "python",
   "name": "python3"
  },
  "language_info": {
   "codemirror_mode": {
    "name": "ipython",
    "version": 3
   },
   "file_extension": ".py",
   "mimetype": "text/x-python",
   "name": "python",
   "nbconvert_exporter": "python",
   "pygments_lexer": "ipython3",
   "version": "3.11.7"
  }
 },
 "nbformat": 4,
 "nbformat_minor": 5
}
