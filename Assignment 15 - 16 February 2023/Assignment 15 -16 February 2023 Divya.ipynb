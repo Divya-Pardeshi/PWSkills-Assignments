{
 "cells": [
  {
   "cell_type": "markdown",
   "id": "76516866-b201-4f9d-802e-8fe9376acd45",
   "metadata": {},
   "source": [
    "## Assignment 15 - 16 February 2023 : Divya Pardeshi"
   ]
  },
  {
   "cell_type": "markdown",
   "id": "55f778b2-8a08-46d9-aab9-77b2964d4c90",
   "metadata": {},
   "source": [
    "**Q1. What is a database? Differentiate between SQL and NoSQL databases.**"
   ]
  },
  {
   "cell_type": "markdown",
   "id": "f934c28e-9c76-4c76-8359-b34eb20f9150",
   "metadata": {},
   "source": [
    "**Ans**\n",
    "A database is an organized collection of structured information, or data, typically stored electronically in a computer system. A database is usually controlled by a database management system (DBMS). Together, the data and the DBMS, along with the applications that are associated with them, are referred to as a database system, often shortened to just database.\n",
    "\n",
    "***SQL vs NoSQL Databases***\n",
    "\n",
    "***SQL Databases:***\n",
    "* Relational: SQL databases are relational databases, meaning they store data in tables that are related to each other.\n",
    "* Schema-Based: They use a predefined schema to organize data into tables with rows and columns.\n",
    "* Examples: MySQL, PostgreSQL, SQLite, and Microsoft SQL Server.\n",
    "* Complex Queries: Suitable for complex queries and transactions.\n",
    "* ACID Properties: Ensure ACID (Atomicity, Consistency, Isolation, Durability) properties, which guarantee reliable transactions.\n",
    "\n",
    "***NoSQL Databases:***\n",
    "* Non-Relational: NoSQL databases are non-relational or distributed databases, meaning they do not use tables to store data.\n",
    "* Schema-Free: They do not require a fixed schema and can store data in various formats such as key-value pairs, documents, graphs, or wide-columns.\n",
    "* Examples: MongoDB, Cassandra, Redis, and Neo4j.\n",
    "* Horizontal Scaling: Designed for horizontal scaling and large-scale data distribution.\n",
    "* Flexibility: Provide flexibility in data modeling and are optimized for specific use cases like big data, real-time web applications, and more.\t"
   ]
  },
  {
   "cell_type": "markdown",
   "id": "7693e76e-cd54-492b-9b45-fc36aa3842a3",
   "metadata": {},
   "source": [
    "**Q2. What is DDL? Explain why CREATE, DROP, ALTER, and TRUNCATE are used with an example.**\n",
    "\n",
    "**Ans**\n",
    "DDL (Data Definition Language)\n",
    "DDL is a subset of SQL used to define the structure of database objects like tables, indexes, views, and schemas. It's used to create, modify, and delete these database objects.\n",
    "\n",
    "* CREATE: Used to create new database objects.\n",
    "\n",
    "* Example: CREATE TABLE Customers (CustomerID INT PRIMARY KEY, CustomerName VARCHAR(255), ContactName VARCHAR(255), Address VARCHAR(255), City VARCHAR(255));\n",
    "\n",
    "* DROP: Used to delete existing database objects.\n",
    "\n",
    "* Example: DROP TABLE Customers;\n",
    "\n",
    "* ALTER: Used to modify the structure of an existing database object.\n",
    "\n",
    "* Example: ALTER TABLE Customers ADD Email VARCHAR(255);\n",
    "\n",
    "* TRUNCATE: Used to remove all data from a table but keeps the table structure.\n",
    "\n",
    "* Example: TRUNCATE TABLE Customers;"
   ]
  },
  {
   "cell_type": "markdown",
   "id": "67b7e0f6-6d0d-4bcd-b066-15113e2f2901",
   "metadata": {},
   "source": [
    "**Q3. What is DML? Explain INSERT, UPDATE, and DELETE with an example.**\n",
    "\n",
    "**Ans**\n",
    "***DML (Data Manipulation Language)*** \n",
    "\n",
    "DML is a subset of SQL used to manipulate data within database tables. It's used to insert, update, and delete records.\n",
    "\n",
    "* INSERT: Used to add new records to a table.\n",
    "\n",
    "* Example: INSERT INTO Customers (CustomerID, CustomerName, ContactName) VALUES (1, 'Alfreds Futterkiste', 'Maria Anders');\n",
    "\n",
    "* UPDATE: Used to modify existing records in a table.\n",
    "\n",
    "* Example: UPDATE Customers SET ContactName = 'Peter Svensson' WHERE CustomerID = 4;\n",
    "\n",
    "* DELETE: Used to remove records from a table.\n",
    "\n",
    "* Example: DELETE FROM Customers WHERE CustomerID = 5;"
   ]
  },
  {
   "cell_type": "markdown",
   "id": "7c403b8d-987b-41c9-b2dc-6e106901cec7",
   "metadata": {},
   "source": [
    "**Q4. What is DQL? Explain SELECT with an example.**\n",
    "\n",
    "**Ans**\n",
    "DQL (Data Query Language)\n",
    "DQL is a subset of SQL used to retrieve data from a database.\n",
    "\n",
    "* SELECT: Used to extract data from one or more tables.\n",
    "\n",
    "* Example: SELECT CustomerName, ContactName FROM Customers;"
   ]
  },
  {
   "cell_type": "markdown",
   "id": "bd6c5df7-7d4d-4fa3-a873-47bf087009ca",
   "metadata": {},
   "source": [
    "**Q5. Explain Primary Key and Foreign Key.**\n",
    "\n",
    "**Ans**\n",
    "* Primary Key: A unique identifier for each record in a table.\n",
    "It must contain unique values and cannot be null.\n",
    "\n",
    "* Foreign Key: A column in one table that refers to the primary key in another table. \n",
    "It establishes a link between two tables."
   ]
  },
  {
   "cell_type": "markdown",
   "id": "84555768-4724-4631-9eae-708f77b4e279",
   "metadata": {},
   "source": [
    "**Q6. Write a python code to connect MySQL to python. Explain the cursor() and execute() method.**"
   ]
  },
  {
   "cell_type": "code",
   "execution_count": null,
   "id": "43e366ce-6907-49a2-aec9-86ff22ae2964",
   "metadata": {},
   "outputs": [],
   "source": [
    "import mysql.connector\n",
    "\n",
    "mydb = mysql.connector.connect(\n",
    "  host=\"your_host\",\n",
    "  user=\"your_user\",\n",
    "  password=\"your_password\",\n",
    "  database=\"your_database\"\n",
    ")\n",
    "\n",
    "mycursor = mydb.cursor()\n",
    "\n",
    "mycursor.execute(\"SELECT   \n",
    " * FROM Customers\")\n",
    "\n",
    "myresult = mycursor.fetchall()\n",
    "\n",
    "for x in myresult:\n",
    "  print(x) "
   ]
  },
  {
   "cell_type": "code",
   "execution_count": null,
   "id": "ef6f2835-8885-4c65-8c08-e4878e5aa226",
   "metadata": {},
   "outputs": [],
   "source": []
  }
 ],
 "metadata": {
  "kernelspec": {
   "display_name": "Python 3 (ipykernel)",
   "language": "python",
   "name": "python3"
  },
  "language_info": {
   "codemirror_mode": {
    "name": "ipython",
    "version": 3
   },
   "file_extension": ".py",
   "mimetype": "text/x-python",
   "name": "python",
   "nbconvert_exporter": "python",
   "pygments_lexer": "ipython3",
   "version": "3.11.7"
  }
 },
 "nbformat": 4,
 "nbformat_minor": 5
}
