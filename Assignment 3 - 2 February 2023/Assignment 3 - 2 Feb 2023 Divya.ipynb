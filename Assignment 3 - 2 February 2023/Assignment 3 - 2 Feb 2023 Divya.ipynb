{
 "cells": [
  {
   "cell_type": "markdown",
   "id": "5d2a2489",
   "metadata": {},
   "source": [
    "## Assignment 3 - 2 Feb 2023 : Divya Pardeshi"
   ]
  },
  {
   "cell_type": "markdown",
   "id": "89850237",
   "metadata": {},
   "source": [
    "__Q1. What are the characteristics of the tuples? Is tuple immutable?__"
   ]
  },
  {
   "cell_type": "markdown",
   "id": "3d944805",
   "metadata": {},
   "source": [
    "__Ans.__"
   ]
  },
  {
   "cell_type": "markdown",
   "id": "668b0445",
   "metadata": {},
   "source": [
    "Tuples are basically a data type in python. These tuples are an ordered collection of elements of different data types. Furthermore, we represent them by writing the elements inside the parenthesis separated by commas. We can also define tuples as lists that we cannot change. Therefore, we can call them immutable tuples. Hence, tuples are not modifiable in nature. These immutable tuples are a kind of group data type. Moreover, we access elements by using the index starting from zero."
   ]
  },
  {
   "cell_type": "markdown",
   "id": "0cb1b524",
   "metadata": {},
   "source": [
    "__Q2. What are the two tuple methods in python? Give an example of each method. Give a reason why\n",
    "tuples have only two in-built methods as compared to Lists.__"
   ]
  },
  {
   "cell_type": "markdown",
   "id": "5c042cbc",
   "metadata": {},
   "source": [
    "__Ans.__"
   ]
  },
  {
   "cell_type": "markdown",
   "id": "e1b08f3e",
   "metadata": {},
   "source": [
    "In Python, tuples have two built-in methods:\n",
    "\n",
    "1. `count`: The `count` method returns the number of occurrences of a specified element in a tuple. It takes a single argument, which is the value to be counted. Here's an example:\n",
    "\n",
    "```python\n",
    "my_tuple = (1, 2, 2, 3, 4, 2)\n",
    "count = my_tuple.count(2)\n",
    "print(count)  # Output: 3\n",
    "```\n",
    "\n",
    "In the above example, `count(2)` returns the number of occurrences of the value `2` in the tuple.\n",
    "\n",
    "2. `index`: The `index` method returns the index of the first occurrence of a specified element in a tuple. It takes a single argument, which is the value to be searched. Here's an example:\n",
    "\n",
    "```python\n",
    "my_tuple = (1, 2, 3, 4, 5)\n",
    "index = my_tuple.index(3)\n",
    "print(index)  # Output: 2\n",
    "```\n",
    "\n",
    "In the above example, `index(3)` returns the index of the first occurrence of the value `3` in the tuple.\n",
    "\n",
    "Tuples have only these two built-in methods compared to lists for a specific reason: immutability. Tuples are designed to be immutable, meaning their elements cannot be modified after creation. As a result, methods that would modify the tuple, such as `append`, `insert`, or `remove`, are not included in the tuple's built-in methods.\n",
    "\n",
    "Lists, on the other hand, are mutable, allowing elements to be added, removed, or modified. Therefore, lists have a richer set of built-in methods that support these operations, including `append`, `insert`, `remove`, `extend`, and more.\n",
    "\n",
    "By limiting the number of methods for tuples, Python enforces the concept of immutability, ensuring that tuples maintain their integrity and are suitable for use cases where you need a fixed collection of elements that should not be changed."
   ]
  },
  {
   "cell_type": "markdown",
   "id": "b5b8e2d9",
   "metadata": {},
   "source": [
    "__Q3. Which collection datatypes in python do not allow duplicate items? Write a code using a set to remove\n",
    "duplicates from the given list.\n",
    "List = [1, 1, 1, 2, 1, 3, 1, 4, 2, 1, 2, 2, 2, 3, 2, 4, 3, 1, 3, 2, 3, 3, 3, 4, 4, 1, 4, 2, 4, 3, 4, 4]__"
   ]
  },
  {
   "cell_type": "markdown",
   "id": "96186a9e",
   "metadata": {},
   "source": [
    "__Ans.__"
   ]
  },
  {
   "cell_type": "markdown",
   "id": "a85a667a",
   "metadata": {},
   "source": [
    "In Python, the collection datatype that does not allow duplicate items is the set. Sets are unordered collections of unique elements. If you add duplicate items to a set, they will be automatically removed, leaving only the distinct elements.\n",
    "\n",
    "Here's the code using a set to remove duplicates from the given list:\n",
    "\n",
    "```python\n",
    "my_list = [1, 1, 1, 2, 1, 3, 1, 4, 2, 1, 2, 2, 2, 3, 2, 4, 3, 1, 3, 2, 3, 3, 3, 4, 4, 1, 4, 2, 4, 3, 4, 4]\n",
    "my_set = set(my_list)\n",
    "result = list(my_set)\n",
    "\n",
    "print(result)\n",
    "```\n",
    "\n",
    "Output:\n",
    "```\n",
    "[1, 2, 3, 4]\n",
    "```"
   ]
  },
  {
   "cell_type": "markdown",
   "id": "a19229f0",
   "metadata": {},
   "source": [
    "__Q4. Explain the difference between the union() and update() methods for a set. Give an example of\n",
    "each method.__"
   ]
  },
  {
   "cell_type": "markdown",
   "id": "f3e8f11c",
   "metadata": {},
   "source": [
    "__Ans.__"
   ]
  },
  {
   "cell_type": "markdown",
   "id": "2268a9d3",
   "metadata": {},
   "source": [
    "The `union()` and `update()` methods in Python are used with sets to perform operations that combine multiple sets together. However, there is a difference in how they handle the resulting set and the original set. Let's explain each method and provide examples:\n",
    "\n",
    "1. `union()` method:\n",
    "The `union()` method returns a new set that contains all the unique elements from the original set as well as another set or iterable. It does not modify the original set. If there are duplicate elements, they will be included only once in the resulting set.\n",
    "\n",
    "Here's an example of using the `union()` method:\n",
    "\n",
    "```python\n",
    "set1 = {1, 2, 3}\n",
    "set2 = {3, 4, 5}\n",
    "\n",
    "union_set = set1.union(set2)\n",
    "print(union_set)\n",
    "```\n",
    "\n",
    "Output:\n",
    "```\n",
    "{1, 2, 3, 4, 5}\n",
    "```\n",
    "\n",
    "In the above example, `set1.union(set2)` returns a new set that contains all the unique elements from `set1` and `set2`. The resulting set, `union_set`, includes elements `{1, 2, 3, 4, 5}`.\n",
    "\n",
    "2. `update()` method:\n",
    "The `update()` method modifies the original set by adding all the unique elements from another set or iterable into it. It performs an in-place update of the set and does not return a new set.\n",
    "\n",
    "Here's an example of using the `update()` method:\n",
    "\n",
    "```python\n",
    "set1 = {1, 2, 3}\n",
    "set2 = {3, 4, 5}\n",
    "\n",
    "set1.update(set2)\n",
    "print(set1)\n",
    "```\n",
    "\n",
    "Output:\n",
    "```\n",
    "{1, 2, 3, 4, 5}\n",
    "```\n",
    "\n",
    "In the above example, `set1.update(set2)` adds all the unique elements from `set2` into `set1`. The original set `set1` is modified and now includes elements `{1, 2, 3, 4, 5}`.\n",
    "\n",
    "To summarize, the `union()` method returns a new set containing the unique elements from both sets without modifying the original sets, while the `update()` method modifies the original set by adding the unique elements from another set or iterable into it."
   ]
  },
  {
   "cell_type": "markdown",
   "id": "3dd068c8",
   "metadata": {},
   "source": [
    "__Q5. What is a dictionary? Give an example. Also, state whether a dictionary is ordered or unordered.__"
   ]
  },
  {
   "cell_type": "markdown",
   "id": "43ee8329",
   "metadata": {},
   "source": [
    "__Ans.__"
   ]
  },
  {
   "cell_type": "markdown",
   "id": "36734155",
   "metadata": {},
   "source": [
    "In Python, a dictionary is a collection datatype that stores a collection of key-value pairs. Each key in a dictionary is unique and associated with a corresponding value. Dictionaries are also sometimes referred to as associative arrays or hash maps in other programming languages.\n",
    "\n",
    "Here's an example of a dictionary:\n",
    "\n",
    "student = {\n",
    "    \"name\": \"John Doe\",\n",
    "    \"age\": 20,\n",
    "    \"grade\": \"A\",\n",
    "    \"school\": \"ABC High School\"\n",
    "}\n",
    "\n",
    "\n",
    "In the above example, we have a dictionary called `student`. It contains information about a student, such as their name, age, grade, and school. The keys in the dictionary are strings (\"name\", \"age\", \"grade\", \"school\"), and each key is associated with a corresponding value.\n",
    "\n",
    "Dictionaries in Python are unordered. Prior to Python 3.7, the order of elements in a dictionary was not guaranteed. However, starting from Python 3.7, dictionaries maintain the insertion order of key-value pairs. This means that when you iterate over a dictionary or access its elements, the order will reflect the order in which the key-value pairs were inserted. The order is preserved in Python 3.7 and later versions."
   ]
  },
  {
   "cell_type": "markdown",
   "id": "ab0fb4cb",
   "metadata": {},
   "source": [
    "__Q6. Can we create a nested dictionary? If so, please give an example by creating a simple one-level\n",
    "nested dictionary.__"
   ]
  },
  {
   "cell_type": "markdown",
   "id": "1c26e562",
   "metadata": {},
   "source": [
    "__Ans.__"
   ]
  },
  {
   "cell_type": "markdown",
   "id": "36ade68c",
   "metadata": {},
   "source": [
    "Yes, we can create a nested dictionary in Python. A nested dictionary is a dictionary that contains another dictionary as a value for one or more of its keys. This allows for hierarchical or nested data structures.\n",
    "\n",
    "Here's an example of a simple one-level nested dictionary:\n",
    "\n",
    "```python\n",
    "employee = {\n",
    "    \"name\": \"John Doe\",\n",
    "    \"age\": 30,\n",
    "    \"department\": {\n",
    "        \"name\": \"Engineering\",\n",
    "        \"location\": \"Office A\",\n",
    "        \"team\": \"Development\"\n",
    "    },\n",
    "    \"salary\": 50000\n",
    "}\n",
    "```\n",
    "\n",
    "In the above example, the `employee` dictionary contains a nested dictionary as the value for the key \"department\". The nested dictionary represents the details of the employee's department, including its name, location, and team.\n",
    "\n",
    "To access the values in the nested dictionary, you can use multiple levels of indexing or key access. For example:\n",
    "\n",
    "```python\n",
    "print(employee[\"department\"][\"name\"])  # Output: Engineering\n",
    "print(employee[\"department\"][\"location\"])  # Output: Office A\n",
    "print(employee[\"department\"][\"team\"])  # Output: Development\n",
    "```\n",
    "\n",
    "In the above code, `employee[\"department\"][\"name\"]` accesses the value associated with the key \"name\" in the nested dictionary, which is \"Engineering\". Similarly, we can access other values in the nested dictionary.\n",
    "\n",
    "Nested dictionaries are useful for organizing and representing complex data structures, especially when dealing with hierarchical relationships or nested attributes."
   ]
  },
  {
   "cell_type": "markdown",
   "id": "4b78b4fb",
   "metadata": {},
   "source": [
    "__Q7. Using setdefault() method, create key named topics in the given dictionary and also add the value of\n",
    "the key as this list ['Python', 'Machine Learning’, 'Deep Learning']__\n",
    "\n",
    "__dict1 = {'language' : 'Python', 'course': 'Data Science Masters'}__"
   ]
  },
  {
   "cell_type": "markdown",
   "id": "ebe1713b",
   "metadata": {},
   "source": [
    "__Ans.__"
   ]
  },
  {
   "cell_type": "markdown",
   "id": "b0241f4c",
   "metadata": {},
   "source": [
    "To create the key \"topics\" in the given dictionary `dict1` and set its value to the list ['Python', 'Machine Learning', 'Deep Learning'] using the `setdefault()` method, you can use the following code:\n",
    "\n",
    "```python\n",
    "dict1 = {'language': 'Python', 'course': 'Data Science Masters'}\n",
    "dict1.setdefault('topics', ['Python', 'Machine Learning', 'Deep Learning'])\n",
    "```\n",
    "\n",
    "After executing the above code, the dictionary `dict1` will be modified to include the key \"topics\" with the specified list as its value. If the key \"topics\" already exists in the dictionary, the `setdefault()` method will not modify its value.\n",
    "\n",
    "You can verify the updated dictionary by printing its contents:\n",
    "\n",
    "```python\n",
    "print(dict1)\n",
    "```\n",
    "\n",
    "Output:\n",
    "```\n",
    "{'language': 'Python', 'course': 'Data Science Masters', 'topics': ['Python', 'Machine Learning', 'Deep Learning']}\n",
    "```\n",
    "\n",
    "The output shows that the key \"topics\" has been added to the dictionary with the provided list as its value."
   ]
  },
  {
   "cell_type": "markdown",
   "id": "2087f65d",
   "metadata": {},
   "source": [
    "__Q8. What are the three view objects in dictionaries? Use the three in-built methods in python to display\n",
    "these three view objects for the given dictionary.__\n",
    "\n",
    "__dict1 = {'Sport': 'Cricket' , 'Teams': ['India', 'Australia', 'England', 'South Africa', 'Sri Lanka', 'New Zealand']}__"
   ]
  },
  {
   "cell_type": "markdown",
   "id": "40fbcf65",
   "metadata": {},
   "source": [
    "__Ans.__"
   ]
  },
  {
   "cell_type": "markdown",
   "id": "f33ef51f",
   "metadata": {},
   "source": [
    "In Python, dictionaries provide three view objects that allow you to access and manipulate the dictionary's keys, values, and key-value pairs. The three view objects are:\n",
    "\n",
    "1. `keys()` view: This view object returns a dynamic view of the dictionary's keys.\n",
    "\n",
    "2. `values()` view: This view object returns a dynamic view of the dictionary's values.\n",
    "\n",
    "3. `items()` view: This view object returns a dynamic view of the dictionary's key-value pairs as tuples.\n",
    "\n",
    "Here's how you can use the three in-built methods to display these view objects for the given dictionary `dict1`:\n",
    "\n",
    "```python\n",
    "dict1 = {'Sport': 'Cricket', 'Teams': ['India', 'Australia', 'England', 'South Africa', 'Sri Lanka', 'New Zealand']}\n",
    "\n",
    "keys_view = dict1.keys()\n",
    "values_view = dict1.values()\n",
    "items_view = dict1.items()\n",
    "\n",
    "print(\"Keys view:\", keys_view)\n",
    "print(\"Values view:\", values_view)\n",
    "print(\"Items view:\", items_view)\n",
    "```\n",
    "\n",
    "Output:\n",
    "```\n",
    "Keys view: dict_keys(['Sport', 'Teams'])\n",
    "Values view: dict_values(['Cricket', ['India', 'Australia', 'England', 'South Africa', 'Sri Lanka', 'New Zealand']])\n",
    "Items view: dict_items([('Sport', 'Cricket'), ('Teams', ['India', 'Australia', 'England', 'South Africa', 'Sri Lanka', 'New Zealand'])])\n",
    "```\n",
    "\n",
    "In the above code, `dict1.keys()` returns the `keys_view` object, `dict1.values()` returns the `values_view` object, and `dict1.items()` returns the `items_view` object. These view objects provide a dynamic and live view of the dictionary, meaning any changes made to the dictionary will be reflected in these views.\n",
    "\n",
    "You can iterate over these view objects or convert them to other data types such as lists or tuples if needed."
   ]
  },
  {
   "cell_type": "code",
   "execution_count": null,
   "id": "44583a89",
   "metadata": {},
   "outputs": [],
   "source": []
  }
 ],
 "metadata": {
  "kernelspec": {
   "display_name": "Python 3 (ipykernel)",
   "language": "python",
   "name": "python3"
  },
  "language_info": {
   "codemirror_mode": {
    "name": "ipython",
    "version": 3
   },
   "file_extension": ".py",
   "mimetype": "text/x-python",
   "name": "python",
   "nbconvert_exporter": "python",
   "pygments_lexer": "ipython3",
   "version": "3.10.9"
  }
 },
 "nbformat": 4,
 "nbformat_minor": 5
}
