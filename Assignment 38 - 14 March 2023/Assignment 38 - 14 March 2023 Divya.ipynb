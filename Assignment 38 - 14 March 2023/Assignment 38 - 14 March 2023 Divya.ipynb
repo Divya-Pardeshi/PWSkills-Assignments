{
 "cells": [
  {
   "cell_type": "markdown",
   "id": "24d61367",
   "metadata": {},
   "source": [
    "##  Assignment 38 - 14 March 2023 : Divya Pardeshi"
   ]
  },
  {
   "cell_type": "markdown",
   "id": "c6489cf4",
   "metadata": {},
   "source": [
    "__Q1. Write a Python function that takes in two arrays of data and calculates the F-value for a variance ratio\n",
    "test. The function should return the F-value and the corresponding p-value for the test.__"
   ]
  },
  {
   "cell_type": "markdown",
   "id": "6a72d2f5",
   "metadata": {},
   "source": [
    "__Ans.__"
   ]
  },
  {
   "cell_type": "code",
   "execution_count": 1,
   "id": "a1c06c50",
   "metadata": {},
   "outputs": [
    {
     "name": "stdout",
     "output_type": "stream",
     "text": [
      "F-value: 1.5625\n",
      "P-value: 0.33801018557478857\n"
     ]
    }
   ],
   "source": [
    "import numpy as np\n",
    "import scipy.stats as stats\n",
    "\n",
    "def variance_ratio_test(data1, data2):\n",
    "    # Calculate the sample variances\n",
    "    var1 = np.var(data1, ddof=1)\n",
    "    var2 = np.var(data2, ddof=1)\n",
    "    \n",
    "    # Calculate the F-value\n",
    "    f_value = var1 / var2\n",
    "    \n",
    "    # Degrees of freedom for the two samples\n",
    "    df1 = len(data1) - 1\n",
    "    df2 = len(data2) - 1\n",
    "    \n",
    "    # Calculate the p-value using the F-distribution\n",
    "    p_value = 1 - stats.f.cdf(f_value, df1, df2)\n",
    "    \n",
    "    return f_value, p_value\n",
    "\n",
    "# Example usage\n",
    "data1 = [10, 15, 20, 25, 30]\n",
    "data2 = [8, 12, 16, 20, 24]\n",
    "\n",
    "f_value, p_value = variance_ratio_test(data1, data2)\n",
    "print(\"F-value:\", f_value)\n",
    "print(\"P-value:\", p_value)\n"
   ]
  },
  {
   "cell_type": "markdown",
   "id": "1442a9bd",
   "metadata": {},
   "source": [
    "__Q2. Given a significance level of 0.05 and the degrees of freedom for the numerator and denominator of an\n",
    "F-distribution, write a Python function that returns the critical F-value for a two-tailed test.__"
   ]
  },
  {
   "cell_type": "markdown",
   "id": "af115f1e",
   "metadata": {},
   "source": [
    "__Ans.__"
   ]
  },
  {
   "cell_type": "code",
   "execution_count": 2,
   "id": "dd046445",
   "metadata": {},
   "outputs": [
    {
     "name": "stdout",
     "output_type": "stream",
     "text": [
      "Critical F-value (Lower): 0.15107670102998205\n",
      "Critical F-value (Upper): 4.236085668188633\n"
     ]
    }
   ],
   "source": [
    "from scipy.stats import f\n",
    "\n",
    "def critical_f_value(alpha, dfn, dfd):\n",
    "    \"\"\"\n",
    "    Calculates the critical F-value for a two-tailed test.\n",
    "    \"\"\"\n",
    "    # Calculate the F-value for the upper alpha/2 quantile\n",
    "    f_upper = f.ppf(1 - alpha / 2, dfn, dfd)\n",
    "    \n",
    "    # Calculate the F-value for the lower alpha/2 quantile\n",
    "    f_lower = f.ppf(alpha / 2, dfn, dfd)\n",
    "    \n",
    "    # Return the tuple of critical F-values for two-tailed test\n",
    "    return f_lower, f_upper\n",
    "\n",
    "# Example usage\n",
    "alpha = 0.05\n",
    "degrees_of_freedom_numerator = 5\n",
    "degrees_of_freedom_denominator = 10\n",
    "\n",
    "critical_f_lower, critical_f_upper = critical_f_value(alpha, degrees_of_freedom_numerator, degrees_of_freedom_denominator)\n",
    "print(\"Critical F-value (Lower):\", critical_f_lower)\n",
    "print(\"Critical F-value (Upper):\", critical_f_upper)\n"
   ]
  },
  {
   "cell_type": "markdown",
   "id": "ccfd2efc",
   "metadata": {},
   "source": [
    "__Q3. Write a Python program that generates random samples from two normal distributions with known\n",
    "variances and uses an F-test to determine if the variances are equal. The program should output the F-\n",
    "value, degrees of freedom, and p-value for the test.__"
   ]
  },
  {
   "cell_type": "markdown",
   "id": "d1f9bc96",
   "metadata": {},
   "source": [
    "__Ans.__"
   ]
  },
  {
   "cell_type": "code",
   "execution_count": 3,
   "id": "01335dad",
   "metadata": {},
   "outputs": [
    {
     "name": "stdout",
     "output_type": "stream",
     "text": [
      "F-value: 1.1027130161816716\n",
      "Degrees of Freedom (Numerator): 99\n",
      "Degrees of Freedom (Denominator): 99\n",
      "P-value: 0.3138048199496446\n"
     ]
    }
   ],
   "source": [
    "import numpy as np\n",
    "from scipy.stats import f\n",
    "\n",
    "def perform_f_test(sample1, sample2):\n",
    "    \"\"\"\n",
    "    Performs an F-test to determine if the variances of two samples are equal.\n",
    "    \"\"\"\n",
    "    var1 = np.var(sample1, ddof=1)\n",
    "    var2 = np.var(sample2, ddof=1)\n",
    "    \n",
    "    if var1 >= var2:\n",
    "        f_statistic = var1 / var2\n",
    "        dfn = len(sample1) - 1\n",
    "        dfd = len(sample2) - 1\n",
    "    else:\n",
    "        f_statistic = var2 / var1\n",
    "        dfn = len(sample2) - 1\n",
    "        dfd = len(sample1) - 1\n",
    "    \n",
    "    p_value = 1 - f.cdf(f_statistic, dfn, dfd)\n",
    "    \n",
    "    return f_statistic, dfn, dfd, p_value\n",
    "\n",
    "# Generate random samples from normal distributions\n",
    "np.random.seed(42)  # For reproducibility\n",
    "sample_size = 100\n",
    "mean1 = 10\n",
    "stddev1 = 3\n",
    "sample1 = np.random.normal(mean1, stddev1, sample_size)\n",
    "\n",
    "mean2 = 10\n",
    "stddev2 = 3\n",
    "sample2 = np.random.normal(mean2, stddev2, sample_size)\n",
    "\n",
    "# Perform the F-test\n",
    "f_value, dfn, dfd, p_value = perform_f_test(sample1, sample2)\n",
    "\n",
    "# Print the results\n",
    "print(\"F-value:\", f_value)\n",
    "print(\"Degrees of Freedom (Numerator):\", dfn)\n",
    "print(\"Degrees of Freedom (Denominator):\", dfd)\n",
    "print(\"P-value:\", p_value)\n"
   ]
  },
  {
   "cell_type": "markdown",
   "id": "23730d06",
   "metadata": {},
   "source": [
    "__Q4.The variances of two populations are known to be 10 and 15. A sample of 12 observations is taken from\n",
    "each population. Conduct an F-test at the 5% significance level to determine if the variances are\n",
    "significantly different.__"
   ]
  },
  {
   "cell_type": "markdown",
   "id": "6f3c4067",
   "metadata": {},
   "source": [
    "__Ans.__"
   ]
  },
  {
   "cell_type": "code",
   "execution_count": 4,
   "id": "25b86c56",
   "metadata": {},
   "outputs": [
    {
     "name": "stdout",
     "output_type": "stream",
     "text": [
      "F-statistic: 0.6666666666666666\n",
      "Degrees of Freedom (Numerator): 11\n",
      "Degrees of Freedom (Denominator): 11\n",
      "Critical F-value (Lower): 0.28787755798459863\n",
      "Critical F-value (Upper): 3.473699051085809\n",
      "P-value: 0.7438051006321003\n",
      "Fail to reject null hypothesis: Variances are not significantly different.\n"
     ]
    }
   ],
   "source": [
    "import numpy as np\n",
    "from scipy.stats import f\n",
    "\n",
    "# Known population variances\n",
    "variance1 = 10\n",
    "variance2 = 15\n",
    "\n",
    "# Sample sizes\n",
    "n1 = 12\n",
    "n2 = 12\n",
    "\n",
    "# Calculate F-statistic and degrees of freedom\n",
    "f_statistic = variance1 / variance2\n",
    "dfn = n1 - 1\n",
    "dfd = n2 - 1\n",
    "\n",
    "# Significance level\n",
    "alpha = 0.05\n",
    "\n",
    "# Calculate critical F-value for a two-tailed test\n",
    "critical_f_lower = f.ppf(alpha / 2, dfn, dfd)\n",
    "critical_f_upper = f.ppf(1 - alpha / 2, dfn, dfd)\n",
    "\n",
    "# Calculate p-value\n",
    "p_value = 1 - f.cdf(f_statistic, dfn, dfd)\n",
    "\n",
    "# Print the results\n",
    "print(\"F-statistic:\", f_statistic)\n",
    "print(\"Degrees of Freedom (Numerator):\", dfn)\n",
    "print(\"Degrees of Freedom (Denominator):\", dfd)\n",
    "print(\"Critical F-value (Lower):\", critical_f_lower)\n",
    "print(\"Critical F-value (Upper):\", critical_f_upper)\n",
    "print(\"P-value:\", p_value)\n",
    "\n",
    "# Compare the F-statistic with critical F-values and make a decision\n",
    "if f_statistic < critical_f_lower or f_statistic > critical_f_upper:\n",
    "    print(\"Reject null hypothesis: Variances are significantly different.\")\n",
    "else:\n",
    "    print(\"Fail to reject null hypothesis: Variances are not significantly different.\")\n"
   ]
  },
  {
   "cell_type": "markdown",
   "id": "f1046a6c",
   "metadata": {},
   "source": [
    "__Q5. A manufacturer claims that the variance of the diameter of a certain product is 0.005. A sample of 25\n",
    "products is taken, and the sample variance is found to be 0.006. Conduct an F-test at the 1% significance\n",
    "level to determine if the claim is justified.__"
   ]
  },
  {
   "cell_type": "markdown",
   "id": "01bb14d9",
   "metadata": {},
   "source": [
    "__Ans.__"
   ]
  },
  {
   "cell_type": "code",
   "execution_count": 5,
   "id": "cbb7927d",
   "metadata": {},
   "outputs": [
    {
     "name": "stdout",
     "output_type": "stream",
     "text": [
      "F-statistic: 1.2\n",
      "Degrees of Freedom (Numerator and Denominator): 24\n",
      "Critical F-value (Lower): 0.3370701342685674\n",
      "Critical F-value (Upper): 2.966741631292762\n",
      "P-value: 0.3293654682817244\n",
      "Fail to reject null hypothesis: The claim about the variance is justified.\n"
     ]
    }
   ],
   "source": [
    "from scipy.stats import f\n",
    "\n",
    "# Claimed population variance and sample variance\n",
    "claimed_variance = 0.005\n",
    "sample_variance = 0.006\n",
    "\n",
    "# Sample size\n",
    "n = 25\n",
    "\n",
    "# Degrees of freedom\n",
    "dfn = n - 1\n",
    "dfd = n - 1\n",
    "\n",
    "# Calculate F-statistic\n",
    "f_statistic = sample_variance / claimed_variance\n",
    "\n",
    "# Significance level\n",
    "alpha = 0.01\n",
    "\n",
    "# Calculate critical F-value for a two-tailed test\n",
    "critical_f_lower = f.ppf(alpha / 2, dfn, dfd)\n",
    "critical_f_upper = f.ppf(1 - alpha / 2, dfn, dfd)\n",
    "\n",
    "# Calculate p-value\n",
    "p_value = 1 - f.cdf(f_statistic, dfn, dfd)\n",
    "\n",
    "# Print the results\n",
    "print(\"F-statistic:\", f_statistic)\n",
    "print(\"Degrees of Freedom (Numerator and Denominator):\", dfn)\n",
    "print(\"Critical F-value (Lower):\", critical_f_lower)\n",
    "print(\"Critical F-value (Upper):\", critical_f_upper)\n",
    "print(\"P-value:\", p_value)\n",
    "\n",
    "# Compare the F-statistic with critical F-values and make a decision\n",
    "if f_statistic < critical_f_lower or f_statistic > critical_f_upper:\n",
    "    print(\"Reject null hypothesis: The claim about the variance is not justified.\")\n",
    "else:\n",
    "    print(\"Fail to reject null hypothesis: The claim about the variance is justified.\")\n"
   ]
  },
  {
   "cell_type": "markdown",
   "id": "661a3ce5",
   "metadata": {},
   "source": [
    "__Q6. Write a Python function that takes in the degrees of freedom for the numerator and denominator of an\n",
    "F-distribution and calculates the mean and variance of the distribution. The function should return the\n",
    "mean and variance as a tuple.__"
   ]
  },
  {
   "cell_type": "markdown",
   "id": "babe976c",
   "metadata": {},
   "source": [
    "__Ans.__"
   ]
  },
  {
   "cell_type": "code",
   "execution_count": 6,
   "id": "ed74ca9a",
   "metadata": {},
   "outputs": [
    {
     "name": "stdout",
     "output_type": "stream",
     "text": [
      "Mean: 1.25\n",
      "Variance: 1.3541666666666667\n"
     ]
    }
   ],
   "source": [
    "def f_distribution_mean_variance(dfn, dfd):\n",
    "    \"\"\"\n",
    "    Calculates the mean and variance of an F-distribution.\n",
    "    \"\"\"\n",
    "    if dfd <= 2:\n",
    "        raise ValueError(\"Degrees of freedom for the denominator must be greater than 2.\")\n",
    "    \n",
    "    mean = dfd / (dfd - 2)\n",
    "    variance = (2 * (dfd ** 2) * (dfn + dfd - 2)) / (dfn * (dfd - 2) ** 2 * (dfd - 4))\n",
    "    \n",
    "    return mean, variance\n",
    "\n",
    "# Example usage\n",
    "degrees_of_freedom_numerator = 5\n",
    "degrees_of_freedom_denominator = 10\n",
    "\n",
    "mean, variance = f_distribution_mean_variance(degrees_of_freedom_numerator, degrees_of_freedom_denominator)\n",
    "print(\"Mean:\", mean)\n",
    "print(\"Variance:\", variance)\n"
   ]
  },
  {
   "cell_type": "markdown",
   "id": "a5c40fb8",
   "metadata": {},
   "source": [
    "__Q7. A random sample of 10 measurements is taken from a normal population with unknown variance. The\n",
    "sample variance is found to be 25. Another random sample of 15 measurements is taken from another\n",
    "normal population with unknown variance, and the sample variance is found to be 20. Conduct an F-test\n",
    "at the 10% significance level to determine if the variances are significantly different.__"
   ]
  },
  {
   "cell_type": "markdown",
   "id": "ef9abdbc",
   "metadata": {},
   "source": [
    "__Ans.__"
   ]
  },
  {
   "cell_type": "code",
   "execution_count": 7,
   "id": "cc430083",
   "metadata": {},
   "outputs": [
    {
     "name": "stdout",
     "output_type": "stream",
     "text": [
      "F-statistic: 1.25\n",
      "Degrees of Freedom (Numerator and Denominator): 9 14\n",
      "Critical F-value (Lower): 0.3305268601412525\n",
      "Critical F-value (Upper): 2.6457907352338195\n",
      "P-value: 0.3416097191292977\n",
      "Fail to reject null hypothesis: Variances are not significantly different.\n"
     ]
    }
   ],
   "source": [
    "from scipy.stats import f\n",
    "\n",
    "# Sample variances\n",
    "sample_variance1 = 25\n",
    "sample_variance2 = 20\n",
    "\n",
    "# Sample sizes\n",
    "n1 = 10\n",
    "n2 = 15\n",
    "\n",
    "# Degrees of freedom\n",
    "dfn1 = n1 - 1\n",
    "dfn2 = n2 - 1\n",
    "\n",
    "# Calculate F-statistic\n",
    "if sample_variance1 >= sample_variance2:\n",
    "    f_statistic = sample_variance1 / sample_variance2\n",
    "    dfn = dfn1\n",
    "    dfd = dfn2\n",
    "else:\n",
    "    f_statistic = sample_variance2 / sample_variance1\n",
    "    dfn = dfn2\n",
    "    dfd = dfn1\n",
    "\n",
    "# Significance level\n",
    "alpha = 0.10\n",
    "\n",
    "# Calculate critical F-value for a two-tailed test\n",
    "critical_f_lower = f.ppf(alpha / 2, dfn, dfd)\n",
    "critical_f_upper = f.ppf(1 - alpha / 2, dfn, dfd)\n",
    "\n",
    "# Calculate p-value\n",
    "p_value = 1 - f.cdf(f_statistic, dfn, dfd)\n",
    "\n",
    "# Print the results\n",
    "print(\"F-statistic:\", f_statistic)\n",
    "print(\"Degrees of Freedom (Numerator and Denominator):\", dfn, dfd)\n",
    "print(\"Critical F-value (Lower):\", critical_f_lower)\n",
    "print(\"Critical F-value (Upper):\", critical_f_upper)\n",
    "print(\"P-value:\", p_value)\n",
    "\n",
    "# Compare the F-statistic with critical F-values and make a decision\n",
    "if f_statistic < critical_f_lower or f_statistic > critical_f_upper:\n",
    "    print(\"Reject null hypothesis: Variances are significantly different.\")\n",
    "else:\n",
    "    print(\"Fail to reject null hypothesis: Variances are not significantly different.\")\n"
   ]
  },
  {
   "cell_type": "markdown",
   "id": "e5e7cc77",
   "metadata": {},
   "source": [
    "__Q8. The following data represent the waiting times in minutes at two different restaurants on a Saturday\n",
    "night: Restaurant A: 24, 25, 28, 23, 22, 20, 27; Restaurant B: 31, 33, 35, 30, 32, 36. Conduct an F-test at the 5%\n",
    "significance level to determine if the variances are significantly different.__"
   ]
  },
  {
   "cell_type": "markdown",
   "id": "780d8c9b",
   "metadata": {},
   "source": [
    "__Ans.__"
   ]
  },
  {
   "cell_type": "code",
   "execution_count": 8,
   "id": "201366f7",
   "metadata": {},
   "outputs": [
    {
     "name": "stdout",
     "output_type": "stream",
     "text": [
      "F-statistic: 1.4551907719609583\n",
      "Degrees of Freedom (Numerator and Denominator): 6 5\n",
      "Critical F-value (Lower): 0.16701279718024772\n",
      "Critical F-value (Upper): 6.977701858535566\n",
      "P-value: 0.3487407873968742\n",
      "Fail to reject null hypothesis: Variances are not significantly different.\n"
     ]
    }
   ],
   "source": [
    "from scipy.stats import f\n",
    "\n",
    "# Waiting time data for Restaurant A and Restaurant B\n",
    "data_a = [24, 25, 28, 23, 22, 20, 27]\n",
    "data_b = [31, 33, 35, 30, 32, 36]\n",
    "\n",
    "# Sample variances\n",
    "sample_variance_a = sum((x - sum(data_a) / len(data_a)) ** 2 for x in data_a) / (len(data_a) - 1)\n",
    "sample_variance_b = sum((x - sum(data_b) / len(data_b)) ** 2 for x in data_b) / (len(data_b) - 1)\n",
    "\n",
    "# Sample sizes\n",
    "n1 = len(data_a)\n",
    "n2 = len(data_b)\n",
    "\n",
    "# Degrees of freedom\n",
    "dfn1 = n1 - 1\n",
    "dfn2 = n2 - 1\n",
    "\n",
    "# Calculate F-statistic\n",
    "if sample_variance_a >= sample_variance_b:\n",
    "    f_statistic = sample_variance_a / sample_variance_b\n",
    "    dfn = dfn1\n",
    "    dfd = dfn2\n",
    "else:\n",
    "    f_statistic = sample_variance_b / sample_variance_a\n",
    "    dfn = dfn2\n",
    "    dfd = dfn1\n",
    "\n",
    "# Significance level\n",
    "alpha = 0.05\n",
    "\n",
    "# Calculate critical F-value for a two-tailed test\n",
    "critical_f_lower = f.ppf(alpha / 2, dfn, dfd)\n",
    "critical_f_upper = f.ppf(1 - alpha / 2, dfn, dfd)\n",
    "\n",
    "# Calculate p-value\n",
    "p_value = 1 - f.cdf(f_statistic, dfn, dfd)\n",
    "\n",
    "# Print the results\n",
    "print(\"F-statistic:\", f_statistic)\n",
    "print(\"Degrees of Freedom (Numerator and Denominator):\", dfn, dfd)\n",
    "print(\"Critical F-value (Lower):\", critical_f_lower)\n",
    "print(\"Critical F-value (Upper):\", critical_f_upper)\n",
    "print(\"P-value:\", p_value)\n",
    "\n",
    "# Compare the F-statistic with critical F-values and make a decision\n",
    "if f_statistic < critical_f_lower or f_statistic > critical_f_upper:\n",
    "    print(\"Reject null hypothesis: Variances are significantly different.\")\n",
    "else:\n",
    "    print(\"Fail to reject null hypothesis: Variances are not significantly different.\")\n"
   ]
  },
  {
   "cell_type": "markdown",
   "id": "fc926129",
   "metadata": {},
   "source": [
    "__Q9. The following data represent the test scores of two groups of students: Group A: 80, 85, 90, 92, 87, 83;\n",
    "Group B: 75, 78, 82, 79, 81, 84. Conduct an F-test at the 1% significance level to determine if the variances\n",
    "are significantly different.__"
   ]
  },
  {
   "cell_type": "markdown",
   "id": "4e774b85",
   "metadata": {},
   "source": [
    "__Ans.__"
   ]
  },
  {
   "cell_type": "code",
   "execution_count": 9,
   "id": "0f5f23b3",
   "metadata": {},
   "outputs": [
    {
     "name": "stdout",
     "output_type": "stream",
     "text": [
      "F-statistic: 1.9442622950819677\n",
      "Degrees of Freedom (Numerator and Denominator): 5 5\n",
      "Critical F-value (Lower): 0.066936171954696\n",
      "Critical F-value (Upper): 14.939605459912224\n",
      "P-value: 0.2415521774535344\n",
      "Fail to reject null hypothesis: Variances are not significantly different.\n"
     ]
    }
   ],
   "source": [
    "from scipy.stats import f\n",
    "\n",
    "# Test score data for Group A and Group B\n",
    "data_a = [80, 85, 90, 92, 87, 83]\n",
    "data_b = [75, 78, 82, 79, 81, 84]\n",
    "\n",
    "# Sample variances\n",
    "sample_variance_a = sum((x - sum(data_a) / len(data_a)) ** 2 for x in data_a) / (len(data_a) - 1)\n",
    "sample_variance_b = sum((x - sum(data_b) / len(data_b)) ** 2 for x in data_b) / (len(data_b) - 1)\n",
    "\n",
    "# Sample sizes\n",
    "n1 = len(data_a)\n",
    "n2 = len(data_b)\n",
    "\n",
    "# Degrees of freedom\n",
    "dfn1 = n1 - 1\n",
    "dfn2 = n2 - 1\n",
    "\n",
    "# Calculate F-statistic\n",
    "if sample_variance_a >= sample_variance_b:\n",
    "    f_statistic = sample_variance_a / sample_variance_b\n",
    "    dfn = dfn1\n",
    "    dfd = dfn2\n",
    "else:\n",
    "    f_statistic = sample_variance_b / sample_variance_a\n",
    "    dfn = dfn2\n",
    "    dfd = dfn1\n",
    "\n",
    "# Significance level\n",
    "alpha = 0.01\n",
    "\n",
    "# Calculate critical F-value for a two-tailed test\n",
    "critical_f_lower = f.ppf(alpha / 2, dfn, dfd)\n",
    "critical_f_upper = f.ppf(1 - alpha / 2, dfn, dfd)\n",
    "\n",
    "# Calculate p-value\n",
    "p_value = 1 - f.cdf(f_statistic, dfn, dfd)\n",
    "\n",
    "# Print the results\n",
    "print(\"F-statistic:\", f_statistic)\n",
    "print(\"Degrees of Freedom (Numerator and Denominator):\", dfn, dfd)\n",
    "print(\"Critical F-value (Lower):\", critical_f_lower)\n",
    "print(\"Critical F-value (Upper):\", critical_f_upper)\n",
    "print(\"P-value:\", p_value)\n",
    "\n",
    "# Compare the F-statistic with critical F-values and make a decision\n",
    "if f_statistic < critical_f_lower or f_statistic > critical_f_upper:\n",
    "    print(\"Reject null hypothesis: Variances are significantly different.\")\n",
    "else:\n",
    "    print(\"Fail to reject null hypothesis: Variances are not significantly different.\")\n"
   ]
  },
  {
   "cell_type": "code",
   "execution_count": null,
   "id": "fca6d7fe",
   "metadata": {},
   "outputs": [],
   "source": []
  }
 ],
 "metadata": {
  "kernelspec": {
   "display_name": "Python 3 (ipykernel)",
   "language": "python",
   "name": "python3"
  },
  "language_info": {
   "codemirror_mode": {
    "name": "ipython",
    "version": 3
   },
   "file_extension": ".py",
   "mimetype": "text/x-python",
   "name": "python",
   "nbconvert_exporter": "python",
   "pygments_lexer": "ipython3",
   "version": "3.10.9"
  }
 },
 "nbformat": 4,
 "nbformat_minor": 5
}
