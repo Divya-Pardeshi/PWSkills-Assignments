{
 "cells": [
  {
   "cell_type": "markdown",
   "id": "835466e8",
   "metadata": {},
   "source": [
    "## Assignment 9 - 9 February 2023 : Divya Pardeshi"
   ]
  },
  {
   "cell_type": "markdown",
   "id": "c4ffeed9",
   "metadata": {},
   "source": [
    "__Q1. Create a vehicle class with an init method having instance variables as name_of_vehicle, max_speed \n",
    "and average_of_vehicle.__"
   ]
  },
  {
   "cell_type": "markdown",
   "id": "6232d6f6",
   "metadata": {},
   "source": [
    "__Ans.__"
   ]
  },
  {
   "cell_type": "code",
   "execution_count": 1,
   "id": "0edffa25",
   "metadata": {},
   "outputs": [],
   "source": [
    "class Vehicle:\n",
    "    def __init__(self, name_of_vehicle, max_speed, average_of_vehicle):\n",
    "        self.name_of_vehicle = name_of_vehicle\n",
    "        self.max_speed = max_speed\n",
    "        self.average_of_vehicle = average_of_vehicle"
   ]
  },
  {
   "cell_type": "code",
   "execution_count": 2,
   "id": "0f15c363",
   "metadata": {},
   "outputs": [
    {
     "name": "stdout",
     "output_type": "stream",
     "text": [
      "My vehicle name is Kia\n",
      "It has max speed of 200 kmph\n",
      "It has Average Mileage of 40 km/l\n"
     ]
    }
   ],
   "source": [
    "car = Vehicle(\"Kia\", 200, 40)\n",
    "print(f'My vehicle name is {car.name_of_vehicle}')\n",
    "print(f'It has max speed of {car.max_speed} kmph')\n",
    "print(f'It has Average Mileage of {car.average_of_vehicle} km/l')"
   ]
  },
  {
   "cell_type": "markdown",
   "id": "cd11a6af",
   "metadata": {},
   "source": [
    "__Q2.  Create a child class car from the vehicle class created in Que 1, which will inherit the vehicle class. \n",
    "Create a method named seating_capacity which takes capacity as an argument and returns the name of \n",
    "the vehicle and its seating capacity__"
   ]
  },
  {
   "cell_type": "markdown",
   "id": "7fc638ba",
   "metadata": {},
   "source": [
    "__Ans.__"
   ]
  },
  {
   "cell_type": "code",
   "execution_count": 3,
   "id": "ea059aa1",
   "metadata": {},
   "outputs": [],
   "source": [
    "class Car(Vehicle):\n",
    "    def seating_capacity(self, capacity):\n",
    "        \"\"\"\n",
    "        This function takes capacity as an argument\n",
    "        and returns the vehicle name and seating capacity.\n",
    "        \"\"\"\n",
    "        return self.name_of_vehicle, capacity"
   ]
  },
  {
   "cell_type": "code",
   "execution_count": 4,
   "id": "3e3e05b1",
   "metadata": {},
   "outputs": [
    {
     "name": "stdout",
     "output_type": "stream",
     "text": [
      "('Sedan', 4)\n"
     ]
    }
   ],
   "source": [
    "car = Car(\"Sedan\", 5, \"km/l\")\n",
    "print(car.seating_capacity(4))  "
   ]
  },
  {
   "cell_type": "markdown",
   "id": "366910c9",
   "metadata": {},
   "source": [
    "__Q3. What is multiple inheritance? Write a python code to demonstrate multiple inheritance.__"
   ]
  },
  {
   "cell_type": "markdown",
   "id": "ce7c5a5f",
   "metadata": {},
   "source": [
    "__Ans.__"
   ]
  },
  {
   "cell_type": "markdown",
   "id": "a463d2ed",
   "metadata": {},
   "source": [
    "Multiple inheritance is a feature in object-oriented programming where a class can inherit attributes and methods from multiple parent classes. This allows a child class to inherit and combine the characteristics of multiple classes.\n",
    "\n",
    "In Python, you can demonstrate multiple inheritance by creating a child class that inherits from multiple parent classes. Here's an example:"
   ]
  },
  {
   "cell_type": "code",
   "execution_count": 5,
   "id": "92006866",
   "metadata": {},
   "outputs": [
    {
     "name": "stdout",
     "output_type": "stream",
     "text": [
      "Parrot is eating.\n",
      "Parrot is chirping.\n",
      "Flying high!\n"
     ]
    }
   ],
   "source": [
    "class Animal:\n",
    "    def __init__(self, name):\n",
    "        self.name = name\n",
    "\n",
    "    def eat(self):\n",
    "        print(f\"{self.name} is eating.\")\n",
    "\n",
    "\n",
    "class Flyable:\n",
    "    def fly(self):\n",
    "        print(\"Flying high!\")\n",
    "\n",
    "\n",
    "class Bird(Animal, Flyable):\n",
    "    def __init__(self, name):\n",
    "        super().__init__(name)\n",
    "\n",
    "    def chirp(self):\n",
    "        print(f\"{self.name} is chirping.\")\n",
    "\n",
    "\n",
    "# Create an instance of Bird\n",
    "parrot = Bird(\"Parrot\")\n",
    "\n",
    "# Call methods from the parent classes\n",
    "parrot.eat()     \n",
    "parrot.chirp() \n",
    "\n",
    "# Call method from the Flyable class\n",
    "parrot.fly()     \n"
   ]
  },
  {
   "cell_type": "markdown",
   "id": "b32bda5e",
   "metadata": {},
   "source": [
    "__Q4. What are getter and setter in python? Create a class and create a getter and a setter method in this \n",
    "class__"
   ]
  },
  {
   "cell_type": "markdown",
   "id": "3db51968",
   "metadata": {},
   "source": [
    "__Ans.__"
   ]
  },
  {
   "cell_type": "markdown",
   "id": "53c4ea40",
   "metadata": {},
   "source": [
    "In Python, getters and setters are methods that allow controlled access to class attributes or properties. They are used to retrieve (get) or modify (set) the values of private or protected class variables. Getters and setters provide an additional layer of encapsulation and help enforce data integrity and access control.\n",
    "\n",
    "Here's an example that demonstrates the use of getters and setters in a class:"
   ]
  },
  {
   "cell_type": "code",
   "execution_count": 6,
   "id": "b7786328",
   "metadata": {},
   "outputs": [
    {
     "name": "stdout",
     "output_type": "stream",
     "text": [
      "John\n",
      "30\n",
      "Jane\n",
      "25\n"
     ]
    }
   ],
   "source": [
    "class Person:\n",
    "    def __init__(self, name, age):\n",
    "        self._name = name\n",
    "        self._age = age\n",
    "\n",
    "    def get_name(self):\n",
    "        return self._name\n",
    "\n",
    "    def set_name(self, new_name):\n",
    "        self._name = new_name\n",
    "\n",
    "    def get_age(self):\n",
    "        return self._age\n",
    "\n",
    "    def set_age(self, new_age):\n",
    "        if new_age >= 0:\n",
    "            self._age = new_age\n",
    "\n",
    "# Create an instance of the Person class\n",
    "person = Person(\"John\", 30)\n",
    "\n",
    "# Use the getter methods to retrieve attribute values\n",
    "print(person.get_name())  \n",
    "print(person.get_age())   \n",
    "\n",
    "# Use the setter methods to modify attribute values\n",
    "person.set_name(\"Jane\")\n",
    "person.set_age(25)\n",
    "\n",
    "# Use the getter methods again to verify the changes\n",
    "print(person.get_name())  \n",
    "print(person.get_age())   "
   ]
  },
  {
   "cell_type": "markdown",
   "id": "09d8a5c8",
   "metadata": {},
   "source": [
    "In this example, the `Person` class has private attributes `_name` and `_age`. The getter methods (`get_name` and `get_age`) are used to retrieve the values of these attributes, while the setter methods (`set_name` and `set_age`) are used to modify their values.\n",
    "\n",
    "The getter methods simply return the values of the respective attributes. The setter methods, on the other hand, perform additional checks or logic before assigning new values to the attributes. In the case of `set_age`, it ensures that the new age is a non-negative value.\n",
    "\n",
    "By using getter and setter methods, we can control the access to the attributes and perform any necessary validation or transformations before setting or retrieving the values."
   ]
  },
  {
   "cell_type": "markdown",
   "id": "1c986f3d",
   "metadata": {},
   "source": [
    "__Q5.What is method overriding in python? Write a python code to demonstrate method overriding.__"
   ]
  },
  {
   "cell_type": "markdown",
   "id": "b771777b",
   "metadata": {},
   "source": [
    "__Ans.__"
   ]
  },
  {
   "cell_type": "markdown",
   "id": "e0312806",
   "metadata": {},
   "source": [
    "Method overriding is a feature in object-oriented programming where a subclass provides its own implementation of a method that is already defined in its superclass. The overriding method in the subclass has the same name, parameters, and return type as the method in the superclass.\n",
    "\n",
    "Here's an example that demonstrates method overriding in Python:"
   ]
  },
  {
   "cell_type": "code",
   "execution_count": 7,
   "id": "8dd34e89",
   "metadata": {},
   "outputs": [
    {
     "name": "stdout",
     "output_type": "stream",
     "text": [
      "Driving a vehicle.\n",
      "Driving a car.\n",
      "Driving a motorcycle.\n"
     ]
    }
   ],
   "source": [
    "class Vehicle:\n",
    "    def drive(self):\n",
    "        print(\"Driving a vehicle.\")\n",
    "\n",
    "class Car(Vehicle):\n",
    "    def drive(self):\n",
    "        print(\"Driving a car.\")\n",
    "\n",
    "class Motorcycle(Vehicle):\n",
    "    def drive(self):\n",
    "        print(\"Driving a motorcycle.\")\n",
    "\n",
    "# Create instances of the classes\n",
    "vehicle = Vehicle()\n",
    "car = Car()\n",
    "motorcycle = Motorcycle()\n",
    "\n",
    "# Call the drive method on each object\n",
    "vehicle.drive()      \n",
    "car.drive()         \n",
    "motorcycle.drive() \n"
   ]
  },
  {
   "cell_type": "markdown",
   "id": "c9afc47c",
   "metadata": {},
   "source": [
    "In this example, we have a base class called `Vehicle` with a method `drive()`. We then define two subclasses, `Car` and `Motorcycle`, which inherit from the `Vehicle` class. Both subclasses override the `drive()` method with their own implementation.\n",
    "\n",
    "When we create instances of the classes (`vehicle`, `car`, `motorcycle`), we can call the `drive()` method on each object. The method invocation is resolved based on the actual type of the object at runtime. This means that even though the objects are declared as instances of the base class `Vehicle`, the overridden methods in the respective subclasses (`Car` and `Motorcycle`) are called, producing different output for each object.\n",
    "\n",
    "Method overriding allows subclasses to provide their own implementation of methods defined in the superclass, allowing for customized behavior and specialization."
   ]
  },
  {
   "cell_type": "code",
   "execution_count": null,
   "id": "939e607b",
   "metadata": {},
   "outputs": [],
   "source": []
  }
 ],
 "metadata": {
  "kernelspec": {
   "display_name": "Python 3 (ipykernel)",
   "language": "python",
   "name": "python3"
  },
  "language_info": {
   "codemirror_mode": {
    "name": "ipython",
    "version": 3
   },
   "file_extension": ".py",
   "mimetype": "text/x-python",
   "name": "python",
   "nbconvert_exporter": "python",
   "pygments_lexer": "ipython3",
   "version": "3.10.9"
  }
 },
 "nbformat": 4,
 "nbformat_minor": 5
}
