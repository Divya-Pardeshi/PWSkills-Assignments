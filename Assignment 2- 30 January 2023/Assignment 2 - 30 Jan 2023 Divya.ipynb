{
 "cells": [
  {
   "cell_type": "markdown",
   "id": "9b2ac92d",
   "metadata": {},
   "source": [
    "##  Assignment 2 - 30 Jan 2023 Divya"
   ]
  },
  {
   "cell_type": "markdown",
   "id": "8751bc1e",
   "metadata": {},
   "source": [
    "__Q1) Write a program to accept percentage from the user and display the grade according to the following criteria:__"
   ]
  },
  {
   "cell_type": "markdown",
   "id": "019290aa",
   "metadata": {},
   "source": [
    " Marks | Grade |\n",
    "| --- | --- |\n",
    "| >90 | A  | \n",
    "| >80 and <=90 | B |\n",
    "| >=60 and <=80 | C |\n",
    "| below 60 | D "
   ]
  },
  {
   "cell_type": "markdown",
   "id": "a2fc9716",
   "metadata": {},
   "source": [
    "__Ans.__"
   ]
  },
  {
   "cell_type": "code",
   "execution_count": 1,
   "id": "4fb1c2c2",
   "metadata": {},
   "outputs": [
    {
     "name": "stdout",
     "output_type": "stream",
     "text": [
      "Enter the percentage: 70\n",
      "Grade: C\n"
     ]
    }
   ],
   "source": [
    "percentage = float(input(\"Enter the percentage: \"))\n",
    "\n",
    "if percentage >= 90:\n",
    "    grade = \"A\"\n",
    "elif percentage >= 80:\n",
    "    grade = \"B\"\n",
    "elif percentage >= 70:\n",
    "    grade = \"C\"\n",
    "elif percentage >= 60:\n",
    "    grade = \"D\"\n",
    "else:\n",
    "    grade = \"F\"\n",
    "\n",
    "print(\"Grade:\", grade)\n"
   ]
  },
  {
   "cell_type": "markdown",
   "id": "b40902f8",
   "metadata": {},
   "source": [
    "__Q2) Write a program to accept the cost price of a bike and display the road tax to be paid according to the following criteria:__"
   ]
  },
  {
   "cell_type": "markdown",
   "id": "360cb1e1",
   "metadata": {},
   "source": [
    " Tax | Cost Price(in Rs)|\n",
    "| --- | --- |\n",
    "| 15% | >100000  | \n",
    "| 10% | >50000 and <=100000 |\n",
    "| 5% | <=50000 |"
   ]
  },
  {
   "cell_type": "markdown",
   "id": "d420d400",
   "metadata": {},
   "source": [
    "__Ans.__"
   ]
  },
  {
   "cell_type": "code",
   "execution_count": 2,
   "id": "60aaa60a",
   "metadata": {},
   "outputs": [
    {
     "name": "stdout",
     "output_type": "stream",
     "text": [
      "Enter the cost price of the bike: 80000\n",
      "Road tax to be paid: 12000.0\n"
     ]
    }
   ],
   "source": [
    "cost_price = float(input(\"Enter the cost price of the bike: \"))\n",
    "\n",
    "if cost_price <= 10000:\n",
    "    road_tax = 0\n",
    "elif cost_price <= 50000:\n",
    "    road_tax = cost_price * 0.10\n",
    "elif cost_price <= 100000:\n",
    "    road_tax = cost_price * 0.15\n",
    "else:\n",
    "    road_tax = cost_price * 0.20\n",
    "\n",
    "print(\"Road tax to be paid:\", road_tax)\n"
   ]
  },
  {
   "cell_type": "markdown",
   "id": "e6ed8d57",
   "metadata": {},
   "source": [
    "__Q3) Accept any city from the user and display monuments of that city__"
   ]
  },
  {
   "cell_type": "markdown",
   "id": "18a83921",
   "metadata": {},
   "source": [
    " City | Monument|\n",
    "| --- | --- |\n",
    "| Delhi | Red Fort  | \n",
    "| Agra | Taj Mahal |\n",
    "| Jaipur | Jal Mahal |"
   ]
  },
  {
   "cell_type": "markdown",
   "id": "5ca10759",
   "metadata": {},
   "source": [
    "__Ans.__"
   ]
  },
  {
   "cell_type": "code",
   "execution_count": 3,
   "id": "97777586",
   "metadata": {},
   "outputs": [
    {
     "name": "stdout",
     "output_type": "stream",
     "text": [
      "Enter a city: agra\n",
      "City name is: agra\n",
      "Monument name is: Taj Mahal\n"
     ]
    }
   ],
   "source": [
    "city = input(\"Enter a city: \")\n",
    "\n",
    "if city.lower() == \"delhi\":\n",
    "    monument = \"Red Fort\"\n",
    "elif city.lower() == \"agra\":\n",
    "    monument = \"Taj Mahal\"\n",
    "elif city.lower() == \"jaipur\":\n",
    "    monument = \"Jal Mahal\"\n",
    "else:\n",
    "    monument = \"Monument not found for this city.\"\n",
    "\n",
    "print(\"City name is:\", city)\n",
    "print(\"Monument name is:\", monument)\n"
   ]
  },
  {
   "cell_type": "markdown",
   "id": "7edccd7a",
   "metadata": {},
   "source": [
    "__Q4) Check how many times a given number can be divided by 3 before it is less than or equal to 10.__"
   ]
  },
  {
   "cell_type": "markdown",
   "id": "38fc32b5",
   "metadata": {},
   "source": [
    "__Ans.__"
   ]
  },
  {
   "cell_type": "code",
   "execution_count": 4,
   "id": "7028473f",
   "metadata": {},
   "outputs": [
    {
     "name": "stdout",
     "output_type": "stream",
     "text": [
      "Enter a number: 30\n",
      "The number can be divided by 3 1 times before it is less than or equal to 10.\n"
     ]
    }
   ],
   "source": [
    "number = int(input(\"Enter a number: \"))\n",
    "count = 0\n",
    "\n",
    "while number > 10:\n",
    "    number /= 3\n",
    "    count += 1\n",
    "\n",
    "print(\"The number can be divided by 3\", count, \"times before it is less than or equal to 10.\")\n"
   ]
  },
  {
   "cell_type": "markdown",
   "id": "f39ce789",
   "metadata": {},
   "source": [
    "__Q5) Why and When to Use while Loop in Python give a detailed description with example__"
   ]
  },
  {
   "cell_type": "markdown",
   "id": "d1e9c481",
   "metadata": {},
   "source": [
    "__Ans.__"
   ]
  },
  {
   "cell_type": "raw",
   "id": "bccd11b6",
   "metadata": {},
   "source": [
    "Python While Loop is used to execute a block of statements repeatedly until a given condition is satisfied. And when the condition becomes false, the line immediately after the loop in the program is executed.\n",
    "\n",
    "Syntax: \n",
    "\n",
    "while expression:\n",
    "    statement(s)\n",
    "    \n",
    "While loop falls under the category of indefinite iteration. Indefinite iteration means that the number of times the loop is executed isn’t specified explicitly in advance. \n",
    "\n",
    "Statements represent all the statements indented by the same number of character spaces after a programming construct are considered to be part of a single block of code. Python uses indentation as its method of grouping statements. When a while loop is executed, expr is first evaluated in a Boolean context and if it is true, the loop body is executed. Then the expr is checked again, if it is still true then the body is executed again and this continues until the expression becomes false."
   ]
  },
  {
   "cell_type": "code",
   "execution_count": 5,
   "id": "b7332d9b",
   "metadata": {},
   "outputs": [
    {
     "name": "stdout",
     "output_type": "stream",
     "text": [
      "Hello PWSkills\n",
      "Hello PWSkills\n",
      "Hello PWSkills\n"
     ]
    }
   ],
   "source": [
    "# Python program to illustrate\n",
    "# while loop\n",
    "count = 0\n",
    "while (count < 3):\n",
    "    count = count + 1\n",
    "    print(\"Hello PWSkills\")"
   ]
  },
  {
   "cell_type": "markdown",
   "id": "91867854",
   "metadata": {},
   "source": [
    "__Q6) Use nested while loop to print 3 different pattern__"
   ]
  },
  {
   "cell_type": "markdown",
   "id": "baab79e2",
   "metadata": {},
   "source": [
    "__Ans.__"
   ]
  },
  {
   "cell_type": "code",
   "execution_count": 6,
   "id": "1024ea1d",
   "metadata": {},
   "outputs": [
    {
     "name": "stdout",
     "output_type": "stream",
     "text": [
      "*\n",
      "**\n",
      "***\n",
      "****\n",
      "*****\n"
     ]
    }
   ],
   "source": [
    "# Pattern 1\n",
    "\n",
    "row = 1\n",
    "while row <= 5:\n",
    "    col = 1\n",
    "    while col <= row:\n",
    "        print('*', end='')\n",
    "        col += 1\n",
    "    print()\n",
    "    row += 1\n"
   ]
  },
  {
   "cell_type": "code",
   "execution_count": 7,
   "id": "8bdd4ad7",
   "metadata": {},
   "outputs": [
    {
     "name": "stdout",
     "output_type": "stream",
     "text": [
      "    *\n",
      "   **\n",
      "  ***\n",
      " ****\n",
      "*****\n"
     ]
    }
   ],
   "source": [
    "# Pattern 2\n",
    "\n",
    "row = 1\n",
    "while row <= 5:\n",
    "    col = 1\n",
    "    while col <= 5 - row:\n",
    "        print(' ', end='')\n",
    "        col += 1\n",
    "    col = 1\n",
    "    while col <= row:\n",
    "        print('*', end='')\n",
    "        col += 1\n",
    "    print()\n",
    "    row += 1\n"
   ]
  },
  {
   "cell_type": "code",
   "execution_count": 8,
   "id": "00f6a7d7",
   "metadata": {},
   "outputs": [
    {
     "name": "stdout",
     "output_type": "stream",
     "text": [
      "*****\n",
      "****\n",
      "***\n",
      "**\n",
      "*\n"
     ]
    }
   ],
   "source": [
    "# Pattern 3\n",
    "\n",
    "row = 5\n",
    "while row >= 1:\n",
    "    col = 1\n",
    "    while col <= row:\n",
    "        print('*', end='')\n",
    "        col += 1\n",
    "    print()\n",
    "    row -= 1\n"
   ]
  },
  {
   "cell_type": "markdown",
   "id": "984d08c0",
   "metadata": {},
   "source": [
    "__Q7) Reverse a while loop to display numbers from 10 to 1.__"
   ]
  },
  {
   "cell_type": "markdown",
   "id": "81ccced0",
   "metadata": {},
   "source": [
    "__Ans.__"
   ]
  },
  {
   "cell_type": "code",
   "execution_count": 9,
   "id": "0b679228",
   "metadata": {},
   "outputs": [
    {
     "name": "stdout",
     "output_type": "stream",
     "text": [
      "10\n",
      "9\n",
      "8\n",
      "7\n",
      "6\n",
      "5\n",
      "4\n",
      "3\n",
      "2\n",
      "1\n"
     ]
    }
   ],
   "source": [
    "num = 10\n",
    "while num >= 1:\n",
    "    print(num)\n",
    "    num -= 1"
   ]
  }
 ],
 "metadata": {
  "kernelspec": {
   "display_name": "Python 3 (ipykernel)",
   "language": "python",
   "name": "python3"
  },
  "language_info": {
   "codemirror_mode": {
    "name": "ipython",
    "version": 3
   },
   "file_extension": ".py",
   "mimetype": "text/x-python",
   "name": "python",
   "nbconvert_exporter": "python",
   "pygments_lexer": "ipython3",
   "version": "3.10.9"
  }
 },
 "nbformat": 4,
 "nbformat_minor": 5
}
