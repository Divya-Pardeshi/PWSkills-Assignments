{
 "cells": [
  {
   "cell_type": "markdown",
   "id": "7b9e5443-8670-4012-b4ba-f9a925835c72",
   "metadata": {},
   "source": [
    "## Assignment 32 - 08 March 2023 Divya"
   ]
  },
  {
   "cell_type": "markdown",
   "id": "7ae33128-bd6f-4f28-bc6b-5ec985ed1d1a",
   "metadata": {},
   "source": [
    "**Q1.What is the Probability density function?**"
   ]
  },
  {
   "cell_type": "markdown",
   "id": "f1890b16-e313-47b1-b27e-a9d5e2025153",
   "metadata": {},
   "source": [
    "The probability density function (PDF) is a mathematical function that describes the probability distribution of a random variable in a continuous probability distribution. It is a function that describes the relative likelihood of observing a particular value of the random variable. The PDF is defined as the derivative of the cumulative distribution function (CDF), which gives the probability that the random variable takes a value less than or equal to a particular value.\n",
    "\n",
    "The PDF is non-negative for all values of the random variable, and the area under the curve of the PDF over the entire range of the random variable is equal to one. The PDF can be used to compute the probability of the random variable taking on any value within a certain range by integrating the PDF over that range."
   ]
  },
  {
   "cell_type": "markdown",
   "id": "abb57608-c47b-47e6-b9c0-3234bdd5f17b",
   "metadata": {},
   "source": [
    "**Q2.What are the types of Probability distribution?**"
   ]
  },
  {
   "cell_type": "markdown",
   "id": "1783352d-152c-499c-bb55-165eaf4cede6",
   "metadata": {},
   "source": [
    "There are many types of probability distributions, but some of the most common ones include:\n",
    "\n",
    "`Normal Distribution`: Also known as Gaussian distribution, it is the most widely used probability distribution. It is symmetric and bell-shaped and is used to model many natural phenomena, such as the heights of individuals in a population.Binomial Distribution: This is used when the outcome of an experiment has only two possibilities, such as heads or tails. It models the number of successes in a fixed number of trials.\n",
    "\n",
    "`Poisson Distribution`: This distribution is used to model the number of occurrences of an event in a fixed time interval or space, such as the number of cars passing a certain point in an hour.\n",
    "\n",
    "`Exponential Distribution`: This is used to model the time between events that occur independently and at a constant rate, such as the time between phone calls to a call center.\n",
    "\n",
    "`Uniform Distribution`: This distribution is used when each outcome in a set is equally likely, such as rolling a fair die.Gamma Distribution: This distribution is used to model the waiting time for a given number of events to occur.\n",
    "\n",
    "`Chi-Square Distribution`: This distribution is used to test whether an observed frequency distribution differs from an expected frequency distribution.\n",
    "\n",
    "`Beta Distribution`: This distribution is used to model probabilities between 0 and 1, such as the probability of success in a medical treatment."
   ]
  },
  {
   "cell_type": "code",
   "execution_count": null,
   "id": "6ced3192-0898-45b7-8960-d124d9372c92",
   "metadata": {},
   "outputs": [],
   "source": []
  },
  {
   "cell_type": "markdown",
   "id": "0efae261-f84d-483b-9c40-62c64c95ee02",
   "metadata": {},
   "source": [
    "**Q3.Write a Python function to calculate the probability density function of a normal distribution with given mean and standard deviation at a given point.**"
   ]
  },
  {
   "cell_type": "code",
   "execution_count": 1,
   "id": "1e460ff3-8f67-4d79-bd98-05685e5f54d2",
   "metadata": {},
   "outputs": [
    {
     "data": {
      "text/plain": [
       "0.3989422804014327"
      ]
     },
     "execution_count": 1,
     "metadata": {},
     "output_type": "execute_result"
    }
   ],
   "source": [
    "import math\n",
    "\n",
    "def normal_pdf(x, mu, sigma):\n",
    "    \"\"\"\n",
    "    This function calculates the probability density function of a normal distribution\n",
    "    with mean mu and standard deviation sigma at point x.\n",
    "    \"\"\"\n",
    "    exponent = -(x - mu)**2 / (2 * sigma**2)\n",
    "    denominator = sigma * math.sqrt(2 * math.pi)\n",
    "    return (1 / denominator) * math.exp(exponent)\n",
    "\n",
    "normal_pdf(0, 0, 1)\n"
   ]
  },
  {
   "cell_type": "markdown",
   "id": "c5ac8391-24ce-41ea-9f8e-06ecb5666010",
   "metadata": {},
   "source": [
    "**Q4.What are the properties of Binomial distribution? Give two examples of events where binomial distribution can be applied.**"
   ]
  },
  {
   "cell_type": "markdown",
   "id": "39441cce-f62b-4fc6-9f12-6848006a338d",
   "metadata": {},
   "source": [
    "\n",
    "The properties of the binomial distribution are as follows:\n",
    "\n",
    "The outcome of each trial is either a success or a failure.\n",
    "The probability of success (denoted by p) remains constant across all trials.\n",
    "The trials are independent of each other.\n",
    "The distribution is discrete and has a finite number of trials (n).\n",
    "The distribution is symmetric when p=0.5\n",
    "Here are two examples of events where binomial distribution can be applied:\n",
    "\n",
    "Flipping a coin:\n",
    "When we flip a coin, the outcome of each flip is either a head or a tail. The probability of getting a head (or a tail) remains constant at 0.5 across all flips, and the flips are independent of each other. We can use a binomial distribution to model the number of heads we get in a fixed number of coin flips.\n",
    "\n",
    "Medical testing: \n",
    "Suppose we have a medical test that can detect a disease. The outcome of each test is either positive (indicating the presence of the disease) or negative (indicating the absence of the disease). The probability of a positive test result (p) remains constant across all tests, and the tests are independent of each other. We can use a binomial distribution to model the number of positive test results we get in a fixed number of tests."
   ]
  },
  {
   "cell_type": "code",
   "execution_count": null,
   "id": "9ca241eb-a6c7-432d-ae0b-30610c6c77b5",
   "metadata": {},
   "outputs": [],
   "source": []
  },
  {
   "cell_type": "markdown",
   "id": "3e6e57de-99f7-45e3-bd1b-f5ae27ce0ed0",
   "metadata": {},
   "source": [
    "**Q5.Generate a random sample of size 1000 from a binomial distribution with probability of success 0.4 and plot a histogram of the results using matplotlib**"
   ]
  },
  {
   "cell_type": "code",
   "execution_count": 2,
   "id": "edc84469-f5e4-4a04-adbc-794239235d3e",
   "metadata": {},
   "outputs": [
    {
     "data": {
      "image/png": "[encoded data removed]",
      "text/plain": [
       "<Figure size 640x480 with 1 Axes>"
      ]
     },
     "metadata": {},
     "output_type": "display_data"
    }
   ],
   "source": [
    "import numpy as np\n",
    "import matplotlib.pyplot as plt\n",
    "\n",
    "# Set the parameters\n",
    "n = 1000\n",
    "p = 0.4\n",
    "\n",
    "# Generate the sample\n",
    "sample = np.random.binomial(n, p, size=1000)\n",
    "\n",
    "# Plot the histogram\n",
    "plt.hist(sample, bins='auto', color='red', alpha=0.7, rwidth=0.85)\n",
    "plt.grid(axis='y', alpha=0.75)\n",
    "plt.xlabel('Value')\n",
    "plt.ylabel('Frequency')\n",
    "plt.title('Histogram of Binomial Distribution')\n",
    "plt.show()\n"
   ]
  },
  {
   "cell_type": "markdown",
   "id": "fc6193fa-ca0f-407d-83d4-c7d1a637d3e1",
   "metadata": {},
   "source": [
    "**Q6. Write a Python function to calculate the cumulative distribution function of a Poisson distribution\n",
    "with given mean at a given point.**"
   ]
  },
  {
   "cell_type": "code",
   "execution_count": 3,
   "id": "65fa1974-fe8c-4715-87cd-396a85dc67d4",
   "metadata": {},
   "outputs": [
    {
     "name": "stdout",
     "output_type": "stream",
     "text": [
      "0.8945918945308227\n"
     ]
    }
   ],
   "source": [
    "import numpy as np\n",
    "from scipy.special import factorial\n",
    "\n",
    "def poisson_cdf(k,mean):\n",
    "    cdf =0.0\n",
    "    for x in range(k+1):\n",
    "        cdf += (np.exp(-mean)*mean**x) /factorial(x)\n",
    "    return cdf\n",
    "        \n",
    "# Example usage:\n",
    "print(poisson_cdf(5, 3.2))        "
   ]
  },
  {
   "cell_type": "code",
   "execution_count": 4,
   "id": "5d082efb-590e-44c3-923a-06498850239c",
   "metadata": {},
   "outputs": [
    {
     "name": "stdout",
     "output_type": "stream",
     "text": [
      "CDF at point 5 is 0.8945918945308227\n"
     ]
    }
   ],
   "source": [
    "# more compact\n",
    "from scipy.stats import poisson\n",
    "\n",
    "def poisson_cdf(mean, point):\n",
    "    return poisson.cdf(point, mean)\n",
    "\n",
    "mean = 3.2\n",
    "point = 5\n",
    "\n",
    "cdf = poisson_cdf(mean, point)\n",
    "print(f\"CDF at point {point} is {cdf}\")"
   ]
  },
  {
   "cell_type": "markdown",
   "id": "9d180029-c217-47aa-adc4-5183d207e498",
   "metadata": {},
   "source": [
    "**Q7.How Binomial distribution different from Poisson distribution?**"
   ]
  },
  {
   "cell_type": "markdown",
   "id": "2290e8a4-aed8-4f2c-968e-cfb7df4744d4",
   "metadata": {},
   "source": [
    "The main differences between the binomial distribution and the Poisson distribution are:\n",
    "\n",
    "1. The binomial distribution describes the number of successes in a fixed number of independent Bernoulli trials, where each trial has two possible outcomes (success or failure) and a constant probability of success. The Poisson distribution, on the other hand, describes the number of events occurring in a fixed interval of time or space, where the events occur randomly and independently at an average rate.\n",
    "\n",
    "2. The binomial distribution is discrete, meaning it deals with whole numbers, while the Poisson distribution is also discrete but can deal with any non-negative integer.\n",
    "\n",
    "3. The binomial distribution has two parameters: the number of trials (n) and the probability of success (p). ThePoisson distribution has only one parameter: the average rate (λ) at which events occur.\n",
    "\n",
    "4. The binomial distribution is symmetric when the probability of success is 0.5, while the Poisson distribution is skewed to the right.\n",
    "\n",
    "5. The binomial distribution is applicable when the number of trials is fixed and independent, and the probability of success remains constant. The Poisson distribution is applicable when the events occur randomly and independently at an average rate."
   ]
  },
  {
   "cell_type": "code",
   "execution_count": null,
   "id": "9358397e-58da-4705-99aa-b22c2d81c395",
   "metadata": {},
   "outputs": [],
   "source": []
  },
  {
   "cell_type": "markdown",
   "id": "c15655a5-43f4-41cc-a119-ec160182e120",
   "metadata": {},
   "source": [
    "**Q8.Generate a random sample of size 1000 from a Poisson distribution with mean 5 and calculate the,\n",
    "sample mean and variance.**"
   ]
  },
  {
   "cell_type": "code",
   "execution_count": 5,
   "id": "2870208c-5be9-469e-8008-20486e6ca09c",
   "metadata": {},
   "outputs": [
    {
     "name": "stdout",
     "output_type": "stream",
     "text": [
      "Sample Mean: 0.405\n",
      "Sample Variance: 0.41497500000000004\n"
     ]
    }
   ],
   "source": [
    "import numpy as np\n",
    "\n",
    "# Set the parameters\n",
    "n = 1000\n",
    "p = 0.4\n",
    "\n",
    "# Generate the sample\n",
    "sample = np.random.poisson(p,n)\n",
    "\n",
    "# Calculate sample mean\n",
    "sample_mean = np.mean(sample)\n",
    "\n",
    "# Calculate sample variance\n",
    "sample_variance = np.var(sample)\n",
    "\n",
    "print(f\"Sample Mean: {sample_mean}\")\n",
    "print(f\"Sample Variance: {sample_variance}\")"
   ]
  },
  {
   "cell_type": "markdown",
   "id": "8a655a50-fae7-4834-9a9b-48c40a83e799",
   "metadata": {},
   "source": [
    "**Q9 How mean and variance are related in Binomial distribution and Poisson distribution?**"
   ]
  },
  {
   "cell_type": "markdown",
   "id": "799990c3-3a63-4195-aa15-85983ca1180b",
   "metadata": {},
   "source": [
    "In both the binomial distribution and the Poisson distribution:\n",
    "\n",
    "1. The mean is equal to the product of the number of trials (n) and the probability of success (p) for the binomial distribution, and it is equal to the average rate (λ) for the Poisson distribution. Mathematically, this can be expressed as μ = n * p for the binomial distribution and μ = λ for the Poisson distribution.\n",
    "\n",
    "2. The variance is equal to the product of the number of trials (n), the probability of success (p), and the probability of failure (1 - p) for the binomial distribution. For the Poisson distribution, the variance is equal to the average rate (λ). Mathematically, this can be expressed as σ^2 = n * p * (1 - p) for the binomial distribution and σ^2 = λ for the Poisson distribution."
   ]
  },
  {
   "cell_type": "markdown",
   "id": "495489c5-bca1-4b7f-844c-af01112e0ec2",
   "metadata": {},
   "source": [
    "**Q10.In normal distribution with respect to mean position, where does the least frequent data appear?**"
   ]
  },
  {
   "cell_type": "markdown",
   "id": "e0baf855-bac0-4896-ab8c-3c91c6c91e02",
   "metadata": {},
   "source": [
    "In a normal distribution, the least frequent data appears in the tails of the distribution, which are located at the extremes. The tails of a normal distribution represent the values that are far away from the mean. As you move away from the mean towards the tails, the probability density decreases rapidly. Therefore, the data points in the tails are less frequent compared to the data points near the mean."
   ]
  }
 ],
 "metadata": {
  "kernelspec": {
   "display_name": "Python 3 (ipykernel)",
   "language": "python",
   "name": "python3"
  },
  "language_info": {
   "codemirror_mode": {
    "name": "ipython",
    "version": 3
   },
   "file_extension": ".py",
   "mimetype": "text/x-python",
   "name": "python",
   "nbconvert_exporter": "python",
   "pygments_lexer": "ipython3",
   "version": "3.11.7"
  }
 },
 "nbformat": 4,
 "nbformat_minor": 5
}
