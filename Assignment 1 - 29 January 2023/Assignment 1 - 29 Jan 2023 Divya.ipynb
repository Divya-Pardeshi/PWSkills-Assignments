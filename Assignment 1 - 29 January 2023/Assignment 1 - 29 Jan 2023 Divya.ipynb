{
 "cells": [
  {
   "cell_type": "markdown",
   "id": "65b98312",
   "metadata": {},
   "source": [
    "## Assignment 1 - 29 January 2023 : Divya Pardeshi"
   ]
  },
  {
   "cell_type": "markdown",
   "id": "4b0fa789",
   "metadata": {},
   "source": [
    "__Q1) Who developed Python Programming Language?__"
   ]
  },
  {
   "cell_type": "markdown",
   "id": "484e0ea1",
   "metadata": {},
   "source": [
    "__Ans.__ Python Programming language is designed by a Dutch programmer Guido van Rossum in the Netherlands"
   ]
  },
  {
   "cell_type": "markdown",
   "id": "21a9c3f4",
   "metadata": {},
   "source": [
    "__Q2) Which type of Programming does Python support?__"
   ]
  },
  {
   "cell_type": "markdown",
   "id": "4a74e0c0",
   "metadata": {},
   "source": [
    "__Ans.__ Python is an interpreted programming language, which supports object-oriented, structured, and functional programming."
   ]
  },
  {
   "cell_type": "markdown",
   "id": "2fcc822e",
   "metadata": {},
   "source": [
    "__Q3) Is Python case sensitive when dealing with identifiers?__"
   ]
  },
  {
   "cell_type": "markdown",
   "id": "7ebbc343",
   "metadata": {},
   "source": [
    "__Ans.__ Yes, Python is case sensitive when dealing with identifiers. In Python, identifiers include variable names, function names, class names, module names, etc.\n",
    "\n",
    "This means that uppercase and lowercase letters are considered distinct and separate. For example, the variable names \"myVariable,\" \"myvariable,\" and \"MyVariable\" are all treated as different identifiers in Python."
   ]
  },
  {
   "cell_type": "markdown",
   "id": "992cc590",
   "metadata": {},
   "source": [
    "__Q4) What is the correct extension of the Python file?__"
   ]
  },
  {
   "cell_type": "markdown",
   "id": "46f994ab",
   "metadata": {},
   "source": [
    "__Ans.__ The correct extension for Python files is \".py\". When you save a Python script or program, it is typically saved with a file name followed by the \".py\" extension."
   ]
  },
  {
   "cell_type": "markdown",
   "id": "ad5cf040",
   "metadata": {},
   "source": [
    "__Q5) Is Python code compiled or interpreted?__"
   ]
  },
  {
   "cell_type": "markdown",
   "id": "de4e3eb9",
   "metadata": {},
   "source": [
    "__Ans.__ Python is an interpreted language, which means the source code of a Python program is converted into bytecode that is then executed by the Python virtual machine. Python is different from major compiled languages, such as C and C + +, as Python code is not required to be built and linked like code for these languages."
   ]
  },
  {
   "cell_type": "markdown",
   "id": "54bff9af",
   "metadata": {},
   "source": [
    "__Q6) Name a few blocks of code used to define in Python Language?__"
   ]
  },
  {
   "cell_type": "markdown",
   "id": "24dcfd0c",
   "metadata": {},
   "source": [
    "__Ans.__ Indentation is used to define a block of code in python. Braces {} are used to define a block of code in most programming languages, like C, C++, and Java. But this indentation makes python unique among all programming languages."
   ]
  },
  {
   "cell_type": "markdown",
   "id": "05bbd15c",
   "metadata": {},
   "source": [
    "__Q7) State a character used to give single-line comments in Python?__"
   ]
  },
  {
   "cell_type": "markdown",
   "id": "f2f2f598",
   "metadata": {},
   "source": [
    "__Ans.__ In Python, the character \"#\" (hash or pound symbol) is used to create single-line comments. When the \"#\" character is encountered in a line of code, everything after it on that line is treated as a comment and is ignored by the Python interpreter."
   ]
  },
  {
   "cell_type": "markdown",
   "id": "1b657979",
   "metadata": {},
   "source": [
    "__Q8) Mention functions which can help us to find the version of python that we are currently working on?__"
   ]
  },
  {
   "cell_type": "markdown",
   "id": "d71a8f1a",
   "metadata": {},
   "source": [
    "__Ans.__ Here are three functions and modules that can help you find the version of Python you are currently working on:\n",
    "\n",
    "1. `sys.version`:\n",
    "The `sys` module provides access to system-specific parameters and functions, including the Python version. The `sys.version` attribute returns the Python version as a string.\n",
    "\n",
    "```python\n",
    "import sys\n",
    "\n",
    "print(sys.version)  # Prints the Python version\n",
    "```\n",
    "\n",
    "2. `platform.python_version()`:\n",
    "The `platform` module provides an interface to access platform-specific information, including the Python version. The `platform.python_version()` function returns the Python version as a string.\n",
    "\n",
    "```python\n",
    "import platform\n",
    "\n",
    "print(platform.python_version())  # Prints the Python version as a string\n",
    "```\n",
    "\n",
    "3. `sys.version_info`:\n",
    "The `sys.version_info` attribute returns a tuple that contains detailed information about the Python version, including major, minor, micro, release level, and release serial.\n",
    "\n",
    "```python\n",
    "import sys\n",
    "\n",
    "print(sys.version_info)  # Prints detailed information about the Python version\n",
    "```\n",
    "\n",
    "These functions and modules can be used to retrieve information about the version of Python you are currently using in your code."
   ]
  },
  {
   "cell_type": "markdown",
   "id": "d438695b",
   "metadata": {},
   "source": [
    "__Q9) Python supports the creation of anonymous functions at runtime, using a construct called__"
   ]
  },
  {
   "cell_type": "markdown",
   "id": "444521d6",
   "metadata": {},
   "source": [
    "__Ans.__ Python supports the creation of anonymous functions at runtime using a construct called \"lambda\" functions. Lambda functions are also known as anonymous functions because they don't require a defined name like regular functions. They are typically used for simple, one-line expressions."
   ]
  },
  {
   "cell_type": "markdown",
   "id": "a43ed3bf",
   "metadata": {},
   "source": [
    "__Q10) What does pip stand for python?__"
   ]
  },
  {
   "cell_type": "markdown",
   "id": "9a747ded",
   "metadata": {},
   "source": [
    "__Ans.__ The term \"pip\" stands for \"Pip Installs Packages.\" Pip is a package manager used for installing, managing, and uninstalling Python packages and libraries. It is the standard package manager for Python and is widely used in the Python community."
   ]
  },
  {
   "cell_type": "markdown",
   "id": "0cc3840d",
   "metadata": {},
   "source": [
    "__Q11) Mention a few built-in functions in Python?__"
   ]
  },
  {
   "cell_type": "markdown",
   "id": "d3ff2911",
   "metadata": {},
   "source": [
    "__Ans.__ Python provides a rich set of built-in functions that are readily available for use without requiring any import statements. Here are a few commonly used built-in functions in Python:\n",
    "\n",
    "1. `print()`: Outputs the specified values to the standard output (usually the console).\n",
    "2. `len()`: Returns the length (number of items) of an object such as a string, list, or tuple.\n",
    "3. `type()`: Returns the type of an object.\n",
    "4. `input()`: Allows user input from the console and returns the entered value as a string.\n",
    "5. `range()`: Generates a sequence of numbers within a specified range.\n",
    "6. `int()`: Converts a value to an integer.\n",
    "7. `float()`: Converts a value to a floating-point number.\n",
    "8. `str()`: Converts a value to a string.\n",
    "9. `list()`: Creates a list object.\n",
    "10. `dict()`: Creates a dictionary object.\n",
    "11. `tuple()`: Creates a tuple object.\n",
    "12. `max()`: Returns the largest item in an iterable or the maximum among two or more values.\n",
    "13. `min()`: Returns the smallest item in an iterable or the minimum among two or more values.\n",
    "14. `abs()`: Returns the absolute value of a number.\n",
    "15. `sum()`: Returns the sum of all elements in an iterable.\n",
    "16. `sorted()`: Returns a sorted list from the items in an iterable.\n",
    "17. `enumerate()`: Returns an iterator that generates pairs of indices and values from an iterable.\n",
    "18. `zip()`: Combines multiple iterables into a single iterator of tuples.\n",
    "19. `range()`: Generates a sequence of numbers within a specified range.\n",
    "20. `open()`: Opens a file and returns a file object for reading, writing, or both.\n",
    "\n",
    "These are just a few examples of the built-in functions available in Python. There are many more built-in functions that provide a wide range of functionality for performing common operations."
   ]
  },
  {
   "cell_type": "markdown",
   "id": "ac588f91",
   "metadata": {},
   "source": [
    "__Q12) What is the maximum possible length of an identifier in Python?__"
   ]
  },
  {
   "cell_type": "markdown",
   "id": "037e1741",
   "metadata": {},
   "source": [
    "__Ans.__ The maximum possible length of an identifier in Python language is 79 characters"
   ]
  },
  {
   "cell_type": "markdown",
   "id": "630361b6",
   "metadata": {},
   "source": [
    "__Q13) What are the benefits of using Python?__"
   ]
  },
  {
   "cell_type": "markdown",
   "id": "ac05900a",
   "metadata": {},
   "source": [
    "__Ans.__ There are several benefits to using Python as a programming language. Here are some of the key advantages:\n",
    "\n",
    "1. Readability and Simplicity: Python emphasizes code readability with its clean and intuitive syntax. It uses indentation to define code blocks, making it easier to understand and maintain. The simplicity of Python enables developers to write clear and concise code, leading to increased productivity.\n",
    "\n",
    "2. Large and Active Community: Python has a vast and active community of developers. This means there are numerous resources, libraries, and frameworks available for various tasks and domains. The active community also ensures that Python is continuously evolving and improving.\n",
    "\n",
    "3. Extensive Standard Library: Python comes with a comprehensive standard library that provides a wide range of functionalities for tasks such as file handling, networking, web development, data manipulation, and more. The standard library eliminates the need for additional installations or dependencies for many common tasks.\n",
    "\n",
    "4. Cross-platform Compatibility: Python is a cross-platform language, meaning it can run on various operating systems like Windows, macOS, and Linux without major modifications. This portability makes it easier to develop applications that can be deployed on different platforms.\n",
    "\n",
    "5. Flexibility and Versatility: Python is a highly versatile language that can be used for various purposes. It is well-suited for web development, data analysis, scientific computing, artificial intelligence, machine learning, scripting, automation, and more. Its flexibility makes it a popular choice across different domains.\n",
    "\n",
    "6. Integration Capabilities: Python offers excellent integration capabilities with other languages such as C, C++, and Java. This allows developers to leverage existing code and libraries from other languages within Python programs.\n",
    "\n",
    "7. Rapid Prototyping and Development: Python's simplicity and high-level abstractions make it an excellent choice for rapid prototyping and development. It enables quick iteration and experimentation, which is beneficial for projects that require fast turnaround times.\n",
    "\n",
    "8. Strong Support for Data Analysis and Scientific Computing: Python has robust libraries and frameworks such as NumPy, pandas, and SciPy that provide extensive support for data analysis, scientific computing, and numerical operations. These libraries make Python a popular choice for data scientists and researchers.\n",
    "\n",
    "These are just a few of the many benefits of using Python. Its combination of simplicity, readability, extensive libraries, and a supportive community makes it a powerful and widely adopted programming language."
   ]
  },
  {
   "cell_type": "markdown",
   "id": "6d2f980c",
   "metadata": {},
   "source": [
    "__Q14) How is memory managed in Python?__"
   ]
  },
  {
   "cell_type": "markdown",
   "id": "c2b64528",
   "metadata": {},
   "source": [
    "__Ans.__ In Python, memory management is handled automatically through a combination of techniques, including reference counting, garbage collection, and memory pooling. Here's an overview of how memory is managed in Python:\n",
    "\n",
    "1. Reference Counting: Python uses reference counting as the primary memory management technique. Each object in Python has a reference count that keeps track of the number of references pointing to it. When an object's reference count reaches zero, meaning there are no more references to it, the memory occupied by the object is automatically deallocated.\n",
    "\n",
    "2. Garbage Collection: In addition to reference counting, Python has a garbage collector that is responsible for reclaiming memory used by objects with cyclical references. Objects that are involved in cyclic references (i.e., a group of objects that reference each other but have no external references) cannot be freed by reference counting alone. The garbage collector identifies and collects these cyclically referenced objects to prevent memory leaks.\n",
    "\n",
    "3. Memory Pooling: Python uses a memory manager that manages memory in larger blocks called \"pools.\" It allocates memory from the operating system in large chunks and then subdivides them into smaller blocks to satisfy individual memory requests. This helps reduce the overhead of frequently requesting and releasing memory for small objects.\n",
    "\n",
    "4. Automatic Memory Deallocation: When an object's memory is deallocated, Python automatically calls the object's destructor, if defined, to perform any necessary cleanup operations before the memory is released. This allows for proper resource management, such as closing files or releasing system resources, before the object is destroyed.\n",
    "\n",
    "Python's memory management system works transparently in the background, handling memory allocation and deallocation for developers. It eliminates the need for manual memory management and reduces the risk of memory leaks and dangling references. However, it's still important to be mindful of memory usage, avoid unnecessary object creation, and manage resources explicitly when required to ensure efficient memory utilization in Python programs."
   ]
  },
  {
   "cell_type": "markdown",
   "id": "100bfaa9",
   "metadata": {},
   "source": [
    "__Q15) How to install Python on Windows and set path variables?__"
   ]
  },
  {
   "cell_type": "markdown",
   "id": "f814bed4",
   "metadata": {},
   "source": [
    "__Ans.__ To install Python on Windows and set up the path variables, you can follow these steps:\n",
    "\n",
    "1. Download Python: \n",
    "   - Visit the official Python website at https://www.python.org/.\n",
    "   - Go to the Downloads section.\n",
    "   - Choose the latest stable version of Python for Windows (e.g., Python 3.9.6).\n",
    "   - Select the installer suitable for your Windows architecture (32-bit or 64-bit).\n",
    "\n",
    "2. Run the Python Installer:\n",
    "   - Double-click the downloaded installer file (.exe) to launch the Python installation wizard.\n",
    "   - Check the box \"Add Python to PATH\" during the installation process. This ensures that the Python executable and scripts will be added to the system's PATH variable.\n",
    "\n",
    "3. Customize Installation (optional):\n",
    "   - On the \"Customize Python\" screen, you can choose to customize the installation location, optional features, and installation options as per your preferences.\n",
    "   - It is generally recommended to leave the default settings unless you have specific requirements.\n",
    "\n",
    "4. Complete the Installation:\n",
    "   - Click \"Install\" to start the installation process.\n",
    "   - Wait for the installation to complete. Ensure that the \"Setup was successful\" message is displayed.\n",
    "\n",
    "5. Verify the Installation:\n",
    "   - Open the Command Prompt (press Win + R, type \"cmd\", and hit Enter).\n",
    "   - Type \"python\" and press Enter. This should launch the Python interactive shell, indicating that Python is successfully installed.\n",
    "\n",
    "6. Set PATH Variables (if not added during installation):\n",
    "   - If you didn't select the \"Add Python to PATH\" option during installation, you'll need to manually add the Python installation path to the system's PATH variable.\n",
    "   - Open the Control Panel and go to \"System and Security\" or \"System\" (depending on your Windows version).\n",
    "   - Click on \"System\" to open the System Properties dialog.\n",
    "   - Click on \"Advanced system settings\" or \"Advanced\" tab.\n",
    "   - Click on the \"Environment Variables\" button.\n",
    "   - In the \"System Variables\" section, scroll down and select the \"Path\" variable.\n",
    "   - Click \"Edit\" and add the path to the Python installation directory (e.g., C:\\Python39) at the end of the \"Variable value\" field. Ensure that each path is separated by a semicolon (;).\n",
    "   - Click \"OK\" to save the changes.\n",
    "\n",
    "After completing these steps, Python should be installed on your Windows system, and you should be able to run Python from the Command Prompt by typing \"python\". The path variables ensure that you can run Python from any directory without specifying the full path to the Python executable."
   ]
  },
  {
   "cell_type": "markdown",
   "id": "40365c39",
   "metadata": {},
   "source": [
    "__Q16) Is indentation required in python?__"
   ]
  },
  {
   "cell_type": "markdown",
   "id": "a454251d",
   "metadata": {},
   "source": [
    "__Ans.__ Yes, indentation is required in Python. Unlike many other programming languages that use braces or keywords to define code blocks, Python uses indentation to indicate the structure and grouping of statements within a block of code.\n",
    "\n",
    "The Python language specification enforces the use of consistent indentation to define blocks such as loops, conditionals, functions, and classes. By convention, four spaces or a tab character are used for each level of indentation.\n",
    "\n",
    "Here's an example of how indentation is used in Python:\n",
    "\n",
    "```python\n",
    "if condition:\n",
    "    # Indented block of code\n",
    "    statement1\n",
    "    statement2\n",
    "    # ...\n",
    "else:\n",
    "    # Indented block of code\n",
    "    statement3\n",
    "    statement4\n",
    "    # ...\n",
    "```\n",
    "\n",
    "In the above code, the statements inside the `if` and `else` blocks are indented at the same level. This indentation defines the scope of each block and determines which statements are executed based on the condition."
   ]
  },
  {
   "cell_type": "code",
   "execution_count": null,
   "id": "4f011730",
   "metadata": {},
   "outputs": [],
   "source": []
  }
 ],
 "metadata": {
  "kernelspec": {
   "display_name": "Python 3 (ipykernel)",
   "language": "python",
   "name": "python3"
  },
  "language_info": {
   "codemirror_mode": {
    "name": "ipython",
    "version": 3
   },
   "file_extension": ".py",
   "mimetype": "text/x-python",
   "name": "python",
   "nbconvert_exporter": "python",
   "pygments_lexer": "ipython3",
   "version": "3.10.9"
  }
 },
 "nbformat": 4,
 "nbformat_minor": 5
}
