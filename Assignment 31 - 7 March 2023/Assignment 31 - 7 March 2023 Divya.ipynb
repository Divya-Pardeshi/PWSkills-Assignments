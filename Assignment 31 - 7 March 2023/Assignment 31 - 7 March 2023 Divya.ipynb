{
 "cells": [
  {
   "cell_type": "markdown",
   "id": "a7c14237",
   "metadata": {},
   "source": [
    "##  Assignment 31 - 7 March 2023 : Divya Pardeshi"
   ]
  },
  {
   "cell_type": "markdown",
   "id": "9780b4d3",
   "metadata": {},
   "source": [
    "__Q1. What are the three measures of central tendency?__"
   ]
  },
  {
   "cell_type": "markdown",
   "id": "b97f89b4",
   "metadata": {},
   "source": [
    "__Ans__\n",
    "\n",
    "The three measures of central tendency are:\n",
    "\n",
    "1. Mean: The mean is the average value of a dataset. It is calculated by summing all the values and then dividing by the total number of data points. The mean represents the center or typical value of the data.\n",
    "\n",
    "2. Median: The median is the middle value of a dataset when the data is arranged in ascending or descending order. If there is an even number of data points, the median is the average of the two middle values. The median divides the data into two equal halves.\n",
    "\n",
    "3. Mode: The mode is the value that appears most frequently in a dataset. A dataset can have one mode (unimodal), two modes (bimodal), or more (multimodal). In some cases, the dataset may have no mode if all values occur with the same frequency."
   ]
  },
  {
   "cell_type": "markdown",
   "id": "a6ad0ebc",
   "metadata": {},
   "source": [
    "__Q2. What is the difference between the mean, median, and mode? How are they used to measure the\n",
    "central tendency of a dataset__"
   ]
  },
  {
   "cell_type": "markdown",
   "id": "83984be3",
   "metadata": {},
   "source": [
    "__Ans__\n",
    "\n",
    "The mean, median, and mode are three different measures of central tendency used to describe the typical or central value of a dataset. Each measure has its strengths and is used in different scenarios depending on the nature of the data. Let's explore the differences between them and how they are used:\n",
    "\n",
    "1. Mean:\n",
    "- Definition: The mean is the sum of all values in a dataset divided by the total number of data points. Mathematically, it is represented as: Mean = (Sum of all values) / (Number of data points).\n",
    "- Use: The mean is widely used in statistics and is appropriate when dealing with data that is approximately normally distributed or symmetric. It gives equal weight to all data points, making it sensitive to extreme values (outliers). The mean is used to represent the center of the data when the distribution is roughly bell-shaped.\n",
    "\n",
    "2. Median:\n",
    "- Definition: The median is the middle value of a dataset when the data is arranged in ascending or descending order. If there is an even number of data points, the median is the average of the two middle values.\n",
    "- Use: The median is useful when the data is skewed or contains outliers. It is not influenced by extreme values and provides a better measure of central tendency in such situations. The median represents the center of the data by dividing it into two equal halves, making it robust to extreme values.\n",
    "\n",
    "3. Mode:\n",
    "- Definition: The mode is the value that appears most frequently in a dataset. A dataset can have one mode (unimodal), two modes (bimodal), or more (multimodal). In some cases, the dataset may have no mode if all values occur with the same frequency.\n",
    "- Use: The mode is commonly used when dealing with categorical or nominal data and with discrete data that has repeated values. It represents the most frequent value or category in the dataset and can be helpful in identifying the most common outcome or characteristic.\n",
    "\n",
    "In summary, the mean, median, and mode are measures of central tendency that provide different ways of summarizing the center or typical value of a dataset. The mean is influenced by all data points and is appropriate for normally distributed data. The median is robust to extreme values and is suitable for skewed data. The mode is used with categorical and nominal data to represent the most frequent value. Understanding these measures helps in choosing the most appropriate way to describe the central tendency of the dataset based on its characteristics."
   ]
  },
  {
   "cell_type": "markdown",
   "id": "83611601",
   "metadata": {},
   "source": [
    "__Q3. Measure the three measures of central tendency for the given height data:__\n",
    "\n",
    "[178,177,176,177,178.2,178,175,179,180,175,178.9,176.2,177,172.5,178,176.5]"
   ]
  },
  {
   "cell_type": "markdown",
   "id": "25fbdbec",
   "metadata": {},
   "source": [
    "__Ans__\n",
    "\n",
    "To calculate the three measures of central tendency (mean, median, and mode) for the given height data, follow these steps:\n",
    "\n",
    "Step 1: Arrange the data in ascending order:\n",
    "\n",
    "[172.5, 175, 175, 176, 176, 176.2, 176.5, 177, 177, 178, 178, 178, 178, 178.2, 179, 180]\n",
    "\n",
    "Step 2: Calculate the Mean:\n",
    "\n",
    "Mean = (Sum of all values) / (Number of data points)\n",
    "\n",
    "Mean = (172.5 + 175 + 175 + 176 + 176 + 176.2 + 176.5 + 177 + 177 + 178 + 178 + 178 + 178 + 178.2 + 179 + 180) / 16\n",
    "\n",
    "Mean ≈ 177.5375\n",
    "\n",
    "Step 3: Calculate the Median:\n",
    "\n",
    "Since there are 16 data points, the median will be the average of the two middle values.\n",
    "\n",
    "Median = (176.5 + 177) / 2\n",
    "\n",
    "Median ≈ 176.75\n",
    "\n",
    "Step 4: Calculate the Mode:\n",
    "\n",
    "The mode is the value that appears most frequently. In this case, the height 178 appears three times, which is the highest frequency in the dataset.\n",
    "\n",
    "Mode = 178\n",
    "\n",
    "So, the measures of central tendency for the given height data are:\n",
    "- Mean ≈ 177.5375\n",
    "- Median ≈ 176.75\n",
    "- Mode = 178\n",
    "\n",
    "The mean represents the average height of the dataset, the median is the middle height value, and the mode indicates the most frequent height in the dataset."
   ]
  },
  {
   "cell_type": "markdown",
   "id": "951e377e",
   "metadata": {},
   "source": [
    "#### Alternative Method Using Python:"
   ]
  },
  {
   "cell_type": "code",
   "execution_count": 1,
   "id": "6c464b11",
   "metadata": {},
   "outputs": [
    {
     "name": "stdout",
     "output_type": "stream",
     "text": [
      "Mean Height: 177.01875\n",
      "Median Height: 177.0\n",
      "Mode Height: 178\n"
     ]
    }
   ],
   "source": [
    "# Given height data\n",
    "height_data = [178, 177, 176, 177, 178.2, 178, 175, 179, 180, 175, 178.9, 176.2, 177, 172.5, 178, 176.5]\n",
    "\n",
    "# Import necessary libraries\n",
    "import statistics\n",
    "\n",
    "# Calculate the mean\n",
    "mean_height = statistics.mean(height_data)\n",
    "print(\"Mean Height:\", mean_height)\n",
    "\n",
    "# Calculate the median\n",
    "median_height = statistics.median(height_data)\n",
    "print(\"Median Height:\", median_height)\n",
    "\n",
    "# Calculate the mode\n",
    "mode_height = statistics.mode(height_data)\n",
    "print(\"Mode Height:\", mode_height)"
   ]
  },
  {
   "cell_type": "markdown",
   "id": "d88a4766",
   "metadata": {},
   "source": [
    "__Q4. Find the standard deviation for the given data:__\n",
    "\n",
    "[178,177,176,177,178.2,178,175,179,180,175,178.9,176.2,177,172.5,178,176.5]"
   ]
  },
  {
   "cell_type": "markdown",
   "id": "5218af5a",
   "metadata": {},
   "source": [
    "__Ans__"
   ]
  },
  {
   "cell_type": "code",
   "execution_count": 2,
   "id": "0af4485d",
   "metadata": {},
   "outputs": [
    {
     "name": "stdout",
     "output_type": "stream",
     "text": [
      "Standard Deviation: 1.7885814036548633\n"
     ]
    }
   ],
   "source": [
    "import numpy as np\n",
    "\n",
    "data = [178, 177, 176, 177, 178.2, 178, 175, 179, 180, 175, 178.9, 176.2, 177, 172.5, 178, 176.5]\n",
    "\n",
    "# Step 1: Calculate the mean (average)\n",
    "mean_value = np.mean(data)\n",
    "\n",
    "# Step 3: Calculate the variance by finding the average of the squared differences\n",
    "variance = np.var(data)\n",
    "\n",
    "# Step 4: Take the square root of the variance to get the standard deviation\n",
    "standard_deviation = np.std(data)\n",
    "\n",
    "print(\"Standard Deviation:\", standard_deviation)\n"
   ]
  },
  {
   "cell_type": "markdown",
   "id": "682ea5bb",
   "metadata": {},
   "source": [
    "__Q5. How are measures of dispersion such as range, variance, and standard deviation used to describe\n",
    "the spread of a dataset? Provide an example.__"
   ]
  },
  {
   "cell_type": "markdown",
   "id": "b9c8a249",
   "metadata": {},
   "source": [
    "__Ans__\n",
    "\n",
    "Measures of dispersion, such as range, variance, and standard deviation, are used to describe the spread or variability of a dataset. They provide valuable insights into how the data points are scattered around the measures of central tendency (mean, median, or mode). Let's explore how each measure is used to describe the spread of a dataset:\n",
    "\n",
    "1. Range:\n",
    "The range is the simplest measure of dispersion and is calculated as the difference between the maximum and minimum values in the dataset.\n",
    "\n",
    "Use: The range gives an idea of the spread of the data from the minimum to the maximum value. It provides a rough estimate of the data's variability but can be sensitive to extreme values (outliers). It is easy to calculate but may not provide a complete picture of the data's dispersion when the dataset is large or contains outliers.\n",
    "\n",
    "Example:\n",
    "Consider the following dataset representing the ages of a group of individuals:\n",
    "\n",
    "[25, 30, 32, 27, 29, 31, 28, 34]\n",
    "\n",
    "Range = Maximum Value - Minimum Value = 34 - 25 = 9\n",
    "\n",
    "The range is 9, indicating that the ages range from 25 to 34.\n",
    "\n",
    "2. Variance:\n",
    "Variance measures the average squared deviation of each data point from the mean. It quantifies the spread or dispersion of the data around the mean.\n",
    "\n",
    "Use: Variance provides a more precise measure of variability compared to the range. It takes into account the differences between all data points and the mean, making it more sensitive to the data's distribution. However, it involves squaring the differences, which can be less intuitive.\n",
    "\n",
    "Example:\n",
    "Using the same age dataset as before, the mean is calculated to be 29.125 (rounded to three decimal places). The variance is calculated as follows:\n",
    "\n",
    "Variance = Σ (data point - mean)² / number of data points\n",
    "\n",
    "Variance = [(25-29.125)² + (30-29.125)² + (32-29.125)² + (27-29.125)² + (29-29.125)² + (31-29.125)² + (28-29.125)² + (34-29.125)²] / 8\n",
    "\n",
    "Variance ≈ 9.25 (rounded to two decimal places)\n",
    "\n",
    "3. Standard Deviation:\n",
    "The standard deviation is the square root of the variance. It measures the average amount by which data points deviate from the mean.\n",
    "\n",
    "Use: The standard deviation is a widely used measure of dispersion and is especially valuable when the data is approximately normally distributed. It provides a meaningful metric for the spread of the data around the mean. Unlike variance, it is in the same unit as the data, making it more interpretable.\n",
    "\n",
    "Example:\n",
    "Using the variance from the previous example, the standard deviation is calculated as follows:\n",
    "\n",
    "Standard Deviation ≈ √9.25 ≈ 3.04 (rounded to two decimal places)\n",
    "\n",
    "The standard deviation of approximately 3.04 indicates that, on average, the ages deviate from the mean (29.125) by around 3.04 years.\n",
    "\n",
    "In summary, measures of dispersion (range, variance, and standard deviation) complement measures of central tendency (mean, median, and mode) in describing a dataset. They provide valuable information about how the data points are distributed around the central value, offering insights into the variability and spread of the data."
   ]
  },
  {
   "cell_type": "markdown",
   "id": "9f96dc28",
   "metadata": {},
   "source": [
    "#### Alternative Method Using Python:"
   ]
  },
  {
   "cell_type": "code",
   "execution_count": 3,
   "id": "8b2f5ed5",
   "metadata": {},
   "outputs": [
    {
     "name": "stdout",
     "output_type": "stream",
     "text": [
      "Range: 9\n",
      "Variance: 8.285714285714286\n",
      "Standard Deviation: 2.878491668515698\n"
     ]
    }
   ],
   "source": [
    "# Given age data\n",
    "age_data = [25, 30, 32, 27, 29, 31, 28, 34]\n",
    "\n",
    "# Import necessary libraries\n",
    "import statistics\n",
    "\n",
    "# Calculate the range\n",
    "range_age = max(age_data) - min(age_data)\n",
    "print(\"Range:\", range_age)\n",
    "\n",
    "# Calculate the variance\n",
    "variance_age = statistics.variance(age_data)\n",
    "print(\"Variance:\", variance_age)\n",
    "\n",
    "# Calculate the standard deviation\n",
    "std_dev_age = statistics.stdev(age_data)\n",
    "print(\"Standard Deviation:\", std_dev_age)\n"
   ]
  },
  {
   "cell_type": "markdown",
   "id": "d835d21d",
   "metadata": {},
   "source": [
    "__Q6. What is a Venn diagram?__"
   ]
  },
  {
   "cell_type": "markdown",
   "id": "bd9159ad",
   "metadata": {},
   "source": [
    "__Ans__\n",
    "\n",
    "Venn diagrams are the diagrams that are used to represent the sets, relation between the sets and operation performed on them, in a pictorial way. Venn diagram, introduced by John Venn (1834-1883), uses circles (overlapping, intersecting and non-intersecting), to denote the relationship between sets. A Venn diagram is also called a set diagram or a logic diagram showing different set operations such as the intersection of sets, union of sets and difference of sets. It is also used to depict subsets of a set."
   ]
  },
  {
   "cell_type": "markdown",
   "id": "80b907f5",
   "metadata": {},
   "source": [
    "__Q7. For the two given sets A = (2,3,4,5,6,7) & B = (0,2,6,8,10).__\n",
    "\n",
    "Find:\n",
    "(i) A ∩ B\n",
    "(ii) A ⋃ B"
   ]
  },
  {
   "cell_type": "markdown",
   "id": "907b01d2",
   "metadata": {},
   "source": [
    "__Ans__\n",
    "(i) A ∩ B = {2, 6}\n",
    "\n",
    "(ii) A ⋃ B = {0, 2, 3, 4, 5, 6, 7, 8, 10}"
   ]
  },
  {
   "cell_type": "markdown",
   "id": "f2c8aa5b",
   "metadata": {},
   "source": [
    "__Q8. What do you understand about skewness in data?__"
   ]
  },
  {
   "cell_type": "markdown",
   "id": "55ce5905",
   "metadata": {},
   "source": [
    "__Ans__ \n",
    "\n",
    "Skewness is a statistical measure that helps us understand the asymmetry in the distribution of data points in a dataset. It provides valuable insights into the shape of the distribution and the extent to which it deviates from a symmetrical or normal distribution.\n",
    "\n",
    "Skewness can be classified into three main types:\n",
    "\n",
    "1. **Positive Skewness (Right-skewed)**: In a positively skewed distribution, the tail on the right-hand side of the distribution is longer or more spread out than the left-hand side. The majority of the data points are concentrated on the left side, and the right side extends further. The mean is typically greater than the median and mode in a positively skewed distribution.\n",
    "\n",
    "2. **Negative Skewness (Left-skewed)**: In a negatively skewed distribution, the tail on the left-hand side of the distribution is longer or more spread out than the right-hand side. The bulk of the data points are concentrated on the right side, and the left side extends further. The mean is typically less than the median and mode in a negatively skewed distribution.\n",
    "\n",
    "3. **Zero Skewness (Symmetrical)**: A distribution is considered symmetric if it has no skewness. In a symmetrical distribution, the data points are evenly distributed on both sides of the central value (mean, median, and mode are approximately equal).\n",
    "\n",
    "Skewness is a crucial measure in data analysis because it impacts the interpretation of statistics and influences various modeling and statistical techniques. For instance, in finance, understanding skewness is essential for managing risk and identifying potential outliers in investment returns. In inferential statistics, skewness can affect hypothesis testing and confidence interval estimations."
   ]
  },
  {
   "cell_type": "code",
   "execution_count": 4,
   "id": "71ad3858",
   "metadata": {},
   "outputs": [
    {
     "data": {
      "image/png": "[encoded data removed]",
      "text/plain": [
       "<Figure size 640x480 with 1 Axes>"
      ]
     },
     "metadata": {},
     "output_type": "display_data"
    }
   ],
   "source": [
    "import numpy as np\n",
    "import matplotlib.pyplot as plt\n",
    "\n",
    "# Example 1: Positive Skewness (Right-skewed)\n",
    "data_positive_skew = np.random.exponential(scale=2, size=1000)  # Exponential distribution for positive skewness\n",
    "plt.hist(data_positive_skew, bins=50, color='blue', alpha=0.7)\n",
    "plt.title('Positive Skewness (Right-skewed)')\n",
    "plt.xlabel('Data Points')\n",
    "plt.ylabel('Frequency')\n",
    "plt.show()"
   ]
  },
  {
   "cell_type": "code",
   "execution_count": 5,
   "id": "17ee6e61",
   "metadata": {},
   "outputs": [
    {
     "data": {
      "image/png": "[encoded data removed]",
      "text/plain": [
       "<Figure size 640x480 with 1 Axes>"
      ]
     },
     "metadata": {},
     "output_type": "display_data"
    }
   ],
   "source": [
    "# Example 2: Negative Skewness (Left-skewed)\n",
    "data_negative_skew = -np.random.exponential(scale=2, size=1000)  # Negative of exponential distribution for negative skewness\n",
    "plt.hist(data_negative_skew, bins=50, color='green', alpha=0.7)\n",
    "plt.title('Negative Skewness (Left-skewed)')\n",
    "plt.xlabel('Data Points')\n",
    "plt.ylabel('Frequency')\n",
    "plt.show()"
   ]
  },
  {
   "cell_type": "code",
   "execution_count": 6,
   "id": "0f4595da",
   "metadata": {},
   "outputs": [
    {
     "data": {
      "image/png": "[encoded data removed]",
      "text/plain": [
       "<Figure size 640x480 with 1 Axes>"
      ]
     },
     "metadata": {},
     "output_type": "display_data"
    }
   ],
   "source": [
    "# Example 3: Zero Skewness (Symmetrical)\n",
    "data_symmetrical = np.random.normal(loc=0, scale=2, size=1000)  # Normal distribution for symmetrical data\n",
    "plt.hist(data_symmetrical, bins=50, color='orange', alpha=0.7)\n",
    "plt.title('Zero Skewness (Symmetrical)')\n",
    "plt.xlabel('Data Points')\n",
    "plt.ylabel('Frequency')\n",
    "plt.show()"
   ]
  },
  {
   "cell_type": "markdown",
   "id": "007f42d0",
   "metadata": {},
   "source": [
    "__Q9. If a data is right skewed then what will be the position of median with respect to mean?__"
   ]
  },
  {
   "cell_type": "markdown",
   "id": "d7fc196c",
   "metadata": {},
   "source": [
    "__Ans__\n",
    "\n",
    "In a right-skewed (positively skewed) distribution, the position of the median with respect to the mean will be to the left of the mean.\n",
    "\n",
    "To understand why this happens, let's consider the characteristics of a right-skewed distribution:\n",
    "\n",
    "1. The majority of data points are concentrated on the left-hand side of the distribution.\n",
    "2. The right tail of the distribution extends further, with a few large values.\n",
    "3. The mean is pulled to the right by these larger values in the right tail.\n",
    "\n",
    "Since the mean is sensitive to extreme values, the presence of the few large values in the right tail of the distribution pulls the mean towards the right. As a result, the mean gets \"pulled\" in the direction of the long tail, leading it to be larger than the median.\n",
    "\n",
    "On the other hand, the median represents the middle value of the data when arranged in ascending or descending order. It is not influenced by extreme values in the same way the mean is. As the majority of the data points are on the left side of the distribution, the median tends to be closer to the bulk of the data points and will be to the left of the mean.\n"
   ]
  },
  {
   "cell_type": "code",
   "execution_count": 7,
   "id": "e716935f",
   "metadata": {},
   "outputs": [
    {
     "data": {
      "image/png": "[encoded data removed]",
      "text/plain": [
       "<Figure size 640x480 with 1 Axes>"
      ]
     },
     "metadata": {},
     "output_type": "display_data"
    },
    {
     "name": "stdout",
     "output_type": "stream",
     "text": [
      "Mean: 1.9854360461118163\n",
      "Median: 1.4046729724944504\n"
     ]
    }
   ],
   "source": [
    "import numpy as np\n",
    "import matplotlib.pyplot as plt\n",
    "\n",
    "# Create a right-skewed distribution\n",
    "data_right_skew = np.random.exponential(scale=2, size=1000)\n",
    "\n",
    "# Calculate the mean and median\n",
    "mean_value = np.mean(data_right_skew)\n",
    "median_value = np.median(data_right_skew)\n",
    "\n",
    "# Plot the histogram\n",
    "plt.hist(data_right_skew, bins=50, color='blue', alpha=0.7)\n",
    "plt.axvline(x=mean_value, color='red', linestyle='dashed', linewidth=2, label='Mean')\n",
    "plt.axvline(x=median_value, color='green', linestyle='dashed', linewidth=2, label='Median')\n",
    "plt.title('Right-Skewed Distribution')\n",
    "plt.xlabel('Data Points')\n",
    "plt.ylabel('Frequency')\n",
    "plt.legend()\n",
    "plt.show()\n",
    "\n",
    "print(\"Mean:\", mean_value)\n",
    "print(\"Median:\", median_value)\n"
   ]
  },
  {
   "cell_type": "markdown",
   "id": "c1c1125f",
   "metadata": {},
   "source": [
    "__Q10. Explain the difference between covariance and correlation. How are these measures used in\n",
    "statistical analysis?__"
   ]
  },
  {
   "cell_type": "markdown",
   "id": "6e5d1313",
   "metadata": {},
   "source": [
    "__Ans__\n",
    "\n",
    "**Difference between Covariance and Correlation:**\n",
    "\n",
    "1. **Covariance:**\n",
    "   - Covariance measures the degree to which two variables change together.\n",
    "   - It indicates whether an increase in one variable is associated with an increase or decrease in the other variable.\n",
    "   - The value of covariance can be positive, negative, or zero, depending on the direction of the relationship.\n",
    "   - However, covariance alone does not provide a clear indication of the strength or intensity of the relationship between the variables.\n",
    "   \n",
    "   Mathematically, the covariance between two variables X and Y is calculated as follows:\n",
    "~~~\n",
    "cov(X,Y) = E[(X - E[X])(Y - E[Y])]\n",
    "~~~\n",
    "\n",
    "\n",
    "2. **Correlation:**\n",
    "   - Correlation is a standardized measure of the linear relationship between two variables.\n",
    "   - It provides a value between -1 and 1, indicating the strength and direction of the linear association.\n",
    "   - A correlation coefficient of 1 indicates a perfect positive linear relationship, -1 indicates a perfect negative linear relationship, and 0 indicates no linear relationship.\n",
    "   \n",
    "The correlation coefficient between two variables X and Y is calculated as follows:\n",
    "~~~\n",
    "corr(X,Y) = cov(X,Y) / (SD[X]*SD[Y])\n",
    "~~~\n",
    "\n",
    "**Usage in Statistical Analysis:**\n",
    "\n",
    "1. **Covariance:**\n",
    "   - Covariance is used to understand the direction of association between two variables in a dataset.\n",
    "   - It is beneficial in exploratory data analysis, where researchers want to identify potential relationships between variables.\n",
    "   - In finance, covariance is used to analyze the relationships between different assets, such as stocks, and to build diversified portfolios to manage risk.\n",
    "\n",
    "2. **Correlation:**\n",
    "   - Correlation is extensively used to determine the strength and direction of the relationship between variables.\n",
    "   - It is a crucial tool in linear regression, where the correlation coefficient helps identify how well a linear model fits the data.\n",
    "   - In data preprocessing for machine learning, correlation analysis helps detect multicollinearity, which can affect the stability of predictive models.\n",
    "   - In scientific research, correlation is used to examine the association between variables in various studies, such as medicine, psychology, and social sciences."
   ]
  },
  {
   "cell_type": "markdown",
   "id": "9805afb5",
   "metadata": {},
   "source": [
    "__Q11. What is the formula for calculating the sample mean? Provide an example calculation for a\n",
    "dataset.__"
   ]
  },
  {
   "cell_type": "markdown",
   "id": "3df649c0",
   "metadata": {},
   "source": [
    "__Ans__\n",
    "##### The formula for calculating the sample mean is:\n",
    "\n",
    "~~~\n",
    "x̄ = (x₁ + x₂ + ... + xn) / n\n",
    "~~~\n",
    "\n",
    "##### where x₁, x₂, ..., xn are the values in the dataset, and n is the number of values in the sample."
   ]
  },
  {
   "cell_type": "markdown",
   "id": "8691e366",
   "metadata": {},
   "source": [
    "###### Example\n",
    "~~~\n",
    "Sample: 4, 6, 2, 9, 5\n",
    "\n",
    "x̄ = (4 + 6 + 2 + 9 + 5) / 5\n",
    "x̄ = 26 / 5\n",
    "x̄ = 5.2\n",
    "~~~"
   ]
  },
  {
   "cell_type": "markdown",
   "id": "e1f0d5c5",
   "metadata": {},
   "source": [
    "__Q12. For a normal distribution data what is the relationship between its measure of central tendency?__"
   ]
  },
  {
   "cell_type": "markdown",
   "id": "9cf6980f",
   "metadata": {},
   "source": [
    "__Ans__ For a normal distribution, three measures of central tendency are commonly used: the mean, median, and mode. In a normal distribution, these measures have a specific relationship:\n",
    "\n",
    "1. **Mean (μ):**\n",
    "   - The mean of a normal distribution is the most widely used measure of central tendency.\n",
    "   - In a perfectly symmetrical normal distribution, the mean is equal to the median and the mode.\n",
    "   - The mean is located at the center of the distribution, dividing it into two equal halves.\n",
    "\n",
    "2. **Median:**\n",
    "   - In a perfectly symmetrical normal distribution, the median is equal to the mean and the mode.\n",
    "   - The median represents the middle value in a dataset when the data points are sorted in ascending or descending order.\n",
    "   - In a normal distribution, the median is also located at the center of the distribution.\n",
    "\n",
    "3. **Mode:**\n",
    "   - The mode in a normal distribution is the value that appears most frequently in the dataset.\n",
    "   - In a perfectly symmetrical normal distribution, the mode is equal to the mean and the median.\n",
    "   - In a normal distribution, there is only one mode.\n",
    "\n",
    "In summary, for a perfectly symmetrical normal distribution, the mean, median, and mode are equal and located at the center of the distribution. This relationship holds due to the balanced and symmetrical nature of the normal distribution, where the data is evenly distributed around the center, resulting in the three measures converging to the same value."
   ]
  },
  {
   "cell_type": "markdown",
   "id": "a3c1aa1a",
   "metadata": {},
   "source": [
    "![normal](https://www.americanboard.org/ptk/wp-content/uploads/2017/03/normaldist.jpg)"
   ]
  },
  {
   "cell_type": "markdown",
   "id": "ae015e3c",
   "metadata": {},
   "source": [
    "__Q13. How is covariance different from correlation?__"
   ]
  },
  {
   "cell_type": "markdown",
   "id": "3f2879a3",
   "metadata": {},
   "source": [
    "__Ans__\n",
    "\n",
    "Covariance and correlation are both measures that describe the relationship between two variables in a dataset. However, they differ in several important aspects:\n",
    "\n",
    "1. **Definition:**\n",
    "   - Covariance measures the degree to which two variables change together. It indicates whether an increase in one variable is associated with an increase or decrease in the other variable.\n",
    "   - Correlation, on the other hand, is a standardized measure of the linear relationship between two variables. It provides a value between -1 and 1, indicating the strength and direction of the linear association.\n",
    "\n",
    "2. **Units of Measurement:**\n",
    "   - Covariance is not scaled and depends on the units of the variables being measured. Therefore, it is not directly interpretable and can be difficult to compare across different datasets with different units.\n",
    "   - Correlation, being a standardized measure, is unitless and does not depend on the units of the variables. This makes correlation more interpretable and suitable for comparing the strength of relationships across datasets with different units.\n",
    "\n",
    "3. **Range of Values:**\n",
    "   - Covariance can take any real value, positive, negative, or zero, depending on the direction of the relationship between the variables. However, its magnitude alone does not indicate the strength of the relationship.\n",
    "   - Correlation ranges from -1 to 1, where a value of 1 indicates a perfect positive linear relationship, -1 indicates a perfect negative linear relationship, and 0 indicates no linear relationship. The magnitude of the correlation coefficient represents the strength of the linear relationship.\n",
    "\n",
    "4. **Interpretation:**\n",
    "   - Covariance, by itself, does not provide a clear indication of the strength or direction of the relationship between variables.\n",
    "   - Correlation, being standardized, provides a consistent interpretation of the degree of association between variables. Positive correlation indicates that as one variable increases, the other tends to increase as well, while negative correlation indicates that as one variable increases, the other tends to decrease.\n",
    "\n",
    "5. **Multivariate Data:**\n",
    "   - Covariance can be extended to describe the relationships between multiple variables in a dataset by using covariance matrices. However, it becomes more challenging to interpret and compare when dealing with several variables.\n",
    "   - Correlation is well-suited for analyzing multivariate data since correlation matrices provide a comprehensive view of the relationships between all pairs of variables."
   ]
  },
  {
   "cell_type": "markdown",
   "id": "c2565e15",
   "metadata": {},
   "source": [
    "__Q14. How do outliers affect measures of central tendency and dispersion? Provide an example.__"
   ]
  },
  {
   "cell_type": "markdown",
   "id": "66a2e55c",
   "metadata": {},
   "source": [
    "__Ans__\n",
    "\n",
    "Outliers can have a significant impact on measures of central tendency and dispersion, particularly the mean and standard deviation.\n",
    "In terms of central tendency, outliers can pull the mean away from the center of the data, making it a less representative measure of the typical value in the dataset. The effect of outliers on the median, however, is less pronounced, as the median is less affected by extreme values.\n",
    " In terms of dispersion, outliers can also have a significant impact on the standard deviation, which is a measure of the spread of the data around the mean. Because the standard deviation is influenced by the distance between each value and the mean, outliers that are far from the center of the data can cause the standard deviation to be larger than it would be without the outlier."
   ]
  },
  {
   "cell_type": "code",
   "execution_count": 8,
   "id": "18dfcbaf",
   "metadata": {},
   "outputs": [],
   "source": [
    "heights = [178,177,176,177,178.2,178,175,179,180,175,178.9,176.2,177,172.5,178,176.5]"
   ]
  },
  {
   "cell_type": "code",
   "execution_count": 9,
   "id": "f5903a75",
   "metadata": {},
   "outputs": [],
   "source": [
    "## Creating a function to calculate and return mean , median and mode for given list\n",
    "import numpy as np\n",
    "from scipy.stats import mode\n",
    "def central_tendency(l:list):\n",
    "    avg = np.mean(l)\n",
    "    mdn = np.median(l)\n",
    "    md = mode(l,keepdims=False)\n",
    "    return avg , mdn, md"
   ]
  },
  {
   "cell_type": "code",
   "execution_count": 10,
   "id": "1e232056",
   "metadata": {},
   "outputs": [
    {
     "name": "stdout",
     "output_type": "stream",
     "text": [
      "Mean of heights WITHOUT outlier is   : 177.01875\n",
      "Median of heights WITHOUT outlier is : 177.0\n",
      "Mode of heights WITHOUT outlier is   : ModeResult(mode=177.0, count=3)\n"
     ]
    }
   ],
   "source": [
    "# Measure Of Central Tendency\n",
    "avg1, mdn1, md1 = central_tendency(heights)\n",
    "print(f'Mean of heights WITHOUT outlier is   : {avg1}')\n",
    "print(f'Median of heights WITHOUT outlier is : {mdn1}')\n",
    "print(f'Mode of heights WITHOUT outlier is   : {md1}') "
   ]
  },
  {
   "cell_type": "code",
   "execution_count": 11,
   "id": "02ce43a9",
   "metadata": {},
   "outputs": [
    {
     "name": "stdout",
     "output_type": "stream",
     "text": [
      "Standard Deviation of heights WITHOUT outlier is : 1.7885814036548633\n"
     ]
    }
   ],
   "source": [
    "# Measure Of Dispersion\n",
    "std1 = np.std(heights)\n",
    "print(f'Standard Deviation of heights WITHOUT outlier is : {std1}')"
   ]
  },
  {
   "cell_type": "markdown",
   "id": "d3ded6e0",
   "metadata": {},
   "source": [
    "#### Adding a outlier to heights Data , added a 1000.0 as a height value as an outlier"
   ]
  },
  {
   "cell_type": "code",
   "execution_count": 12,
   "id": "2477b399",
   "metadata": {},
   "outputs": [
    {
     "name": "stdout",
     "output_type": "stream",
     "text": [
      "[178, 177, 176, 177, 178.2, 178, 175, 179, 180, 175, 178.9, 176.2, 177, 172.5, 178, 176.5, 1000.0]\n"
     ]
    }
   ],
   "source": [
    "import copy\n",
    "heights_2 = copy.deepcopy(heights)\n",
    "heights_2 = heights_2 + [1000.0]\n",
    "print(heights_2)"
   ]
  },
  {
   "cell_type": "code",
   "execution_count": 13,
   "id": "ae55c67d",
   "metadata": {},
   "outputs": [
    {
     "name": "stdout",
     "output_type": "stream",
     "text": [
      "Mean of heights WITH outlier is   : 225.4294117647059\n",
      "Median of heights WITH outlier is : 177.0\n",
      "Mode of heights WITH outlier is   : ModeResult(mode=177.0, count=3)\n"
     ]
    }
   ],
   "source": [
    "# Central Tendency with Outlier\n",
    "avg2, mdn2, md2 = central_tendency(heights_2)\n",
    "print(f'Mean of heights WITH outlier is   : {avg2}')\n",
    "print(f'Median of heights WITH outlier is : {mdn2}')\n",
    "print(f'Mode of heights WITH outlier is   : {md2}') "
   ]
  },
  {
   "cell_type": "code",
   "execution_count": 14,
   "id": "813b34c6",
   "metadata": {},
   "outputs": [
    {
     "name": "stdout",
     "output_type": "stream",
     "text": [
      "Standard Deviation of heights WITHOUT outlier is : 193.65042113441513\n"
     ]
    }
   ],
   "source": [
    "# Dispersion with Outlier\n",
    "std2 = np.std(heights_2)\n",
    "print(f'Standard Deviation of heights WITHOUT outlier is : {std2}')"
   ]
  },
  {
   "cell_type": "markdown",
   "id": "9169b0f7",
   "metadata": {},
   "source": [
    "### Comparison of results with and without outliers:"
   ]
  },
  {
   "cell_type": "code",
   "execution_count": 15,
   "id": "3cdfb5a8",
   "metadata": {},
   "outputs": [],
   "source": [
    "comparison_dict = {\n",
    "    'Descriptive Statistic':['Mean','Median','Mode','Standard Deviation'],\n",
    "    'Orignal' : [avg1,mdn1,md1[0],std1],\n",
    "    'Outlier' : [avg2,mdn2,md2[0],std2]    \n",
    "}"
   ]
  },
  {
   "cell_type": "code",
   "execution_count": 16,
   "id": "7f8e4e7c",
   "metadata": {},
   "outputs": [
    {
     "data": {
      "text/html": [
       "<div>\n",
       "<style scoped>\n",
       "    .dataframe tbody tr th:only-of-type {\n",
       "        vertical-align: middle;\n",
       "    }\n",
       "\n",
       "    .dataframe tbody tr th {\n",
       "        vertical-align: top;\n",
       "    }\n",
       "\n",
       "    .dataframe thead th {\n",
       "        text-align: right;\n",
       "    }\n",
       "</style>\n",
       "<table border=\"1\" class=\"dataframe\">\n",
       "  <thead>\n",
       "    <tr style=\"text-align: right;\">\n",
       "      <th></th>\n",
       "      <th>Descriptive Statistic</th>\n",
       "      <th>Orignal</th>\n",
       "      <th>Outlier</th>\n",
       "    </tr>\n",
       "  </thead>\n",
       "  <tbody>\n",
       "    <tr>\n",
       "      <th>0</th>\n",
       "      <td>Mean</td>\n",
       "      <td>177.018750</td>\n",
       "      <td>225.429412</td>\n",
       "    </tr>\n",
       "    <tr>\n",
       "      <th>1</th>\n",
       "      <td>Median</td>\n",
       "      <td>177.000000</td>\n",
       "      <td>177.000000</td>\n",
       "    </tr>\n",
       "    <tr>\n",
       "      <th>2</th>\n",
       "      <td>Mode</td>\n",
       "      <td>177.000000</td>\n",
       "      <td>177.000000</td>\n",
       "    </tr>\n",
       "    <tr>\n",
       "      <th>3</th>\n",
       "      <td>Standard Deviation</td>\n",
       "      <td>1.788581</td>\n",
       "      <td>193.650421</td>\n",
       "    </tr>\n",
       "  </tbody>\n",
       "</table>\n",
       "</div>"
      ],
      "text/plain": [
       "  Descriptive Statistic     Orignal     Outlier\n",
       "0                  Mean  177.018750  225.429412\n",
       "1                Median  177.000000  177.000000\n",
       "2                  Mode  177.000000  177.000000\n",
       "3    Standard Deviation    1.788581  193.650421"
      ]
     },
     "execution_count": 16,
     "metadata": {},
     "output_type": "execute_result"
    }
   ],
   "source": [
    "import pandas as pd\n",
    "comparison_df = pd.DataFrame(comparison_dict)\n",
    "comparison_df"
   ]
  },
  {
   "cell_type": "code",
   "execution_count": 17,
   "id": "c95e9ca2",
   "metadata": {},
   "outputs": [
    {
     "data": {
      "text/html": [
       "<div>\n",
       "<style scoped>\n",
       "    .dataframe tbody tr th:only-of-type {\n",
       "        vertical-align: middle;\n",
       "    }\n",
       "\n",
       "    .dataframe tbody tr th {\n",
       "        vertical-align: top;\n",
       "    }\n",
       "\n",
       "    .dataframe thead th {\n",
       "        text-align: right;\n",
       "    }\n",
       "</style>\n",
       "<table border=\"1\" class=\"dataframe\">\n",
       "  <thead>\n",
       "    <tr style=\"text-align: right;\">\n",
       "      <th></th>\n",
       "      <th>Descriptive Statistic</th>\n",
       "      <th>Orignal</th>\n",
       "      <th>Outlier</th>\n",
       "      <th>difference</th>\n",
       "    </tr>\n",
       "  </thead>\n",
       "  <tbody>\n",
       "    <tr>\n",
       "      <th>0</th>\n",
       "      <td>Mean</td>\n",
       "      <td>177.018750</td>\n",
       "      <td>225.429412</td>\n",
       "      <td>48.410662</td>\n",
       "    </tr>\n",
       "    <tr>\n",
       "      <th>1</th>\n",
       "      <td>Median</td>\n",
       "      <td>177.000000</td>\n",
       "      <td>177.000000</td>\n",
       "      <td>0.000000</td>\n",
       "    </tr>\n",
       "    <tr>\n",
       "      <th>2</th>\n",
       "      <td>Mode</td>\n",
       "      <td>177.000000</td>\n",
       "      <td>177.000000</td>\n",
       "      <td>0.000000</td>\n",
       "    </tr>\n",
       "    <tr>\n",
       "      <th>3</th>\n",
       "      <td>Standard Deviation</td>\n",
       "      <td>1.788581</td>\n",
       "      <td>193.650421</td>\n",
       "      <td>191.861840</td>\n",
       "    </tr>\n",
       "  </tbody>\n",
       "</table>\n",
       "</div>"
      ],
      "text/plain": [
       "  Descriptive Statistic     Orignal     Outlier  difference\n",
       "0                  Mean  177.018750  225.429412   48.410662\n",
       "1                Median  177.000000  177.000000    0.000000\n",
       "2                  Mode  177.000000  177.000000    0.000000\n",
       "3    Standard Deviation    1.788581  193.650421  191.861840"
      ]
     },
     "execution_count": 17,
     "metadata": {},
     "output_type": "execute_result"
    }
   ],
   "source": [
    "comparison_df['difference']=comparison_df['Outlier']-comparison_df['Orignal']\n",
    "comparison_df"
   ]
  },
  {
   "cell_type": "markdown",
   "id": "27e1edf3",
   "metadata": {},
   "source": [
    "##### Conclusion: Above results show that the outliers have a very strong impact on Mean and Standard Deviation for a given data."
   ]
  },
  {
   "cell_type": "code",
   "execution_count": null,
   "id": "9da1ba0b",
   "metadata": {},
   "outputs": [],
   "source": []
  }
 ],
 "metadata": {
  "kernelspec": {
   "display_name": "Python 3 (ipykernel)",
   "language": "python",
   "name": "python3"
  },
  "language_info": {
   "codemirror_mode": {
    "name": "ipython",
    "version": 3
   },
   "file_extension": ".py",
   "mimetype": "text/x-python",
   "name": "python",
   "nbconvert_exporter": "python",
   "pygments_lexer": "ipython3",
   "version": "3.10.9"
  }
 },
 "nbformat": 4,
 "nbformat_minor": 5
}
