{
 "cells": [
  {
   "cell_type": "markdown",
   "id": "7e89dd3b",
   "metadata": {},
   "source": [
    "## Assignment 4 - 3 Feb 2023 : Divya Pardeshi"
   ]
  },
  {
   "cell_type": "markdown",
   "id": "aa6ea820",
   "metadata": {},
   "source": [
    "__Q1. Which keyword is used to create a function? Create a function to return a list of odd numbers in the\n",
    "range of 1 to 25.__"
   ]
  },
  {
   "cell_type": "markdown",
   "id": "f5c4086a",
   "metadata": {},
   "source": [
    "__Ans.__"
   ]
  },
  {
   "cell_type": "markdown",
   "id": "052e9f34",
   "metadata": {},
   "source": [
    "The 'def' keyword is used to create a function"
   ]
  },
  {
   "cell_type": "code",
   "execution_count": 1,
   "id": "da797f22",
   "metadata": {},
   "outputs": [
    {
     "name": "stdout",
     "output_type": "stream",
     "text": [
      "[1, 3, 5, 7, 9, 11, 13, 15, 17, 19, 21, 23, 25]\n"
     ]
    }
   ],
   "source": [
    "def get_odd_numbers():\n",
    "    odd_numbers = []\n",
    "    for num in range(1, 26):\n",
    "        if num % 2 != 0:\n",
    "            odd_numbers.append(num)\n",
    "    return odd_numbers\n",
    "\n",
    "# Call the function\n",
    "result = get_odd_numbers()\n",
    "print(result)\n"
   ]
  },
  {
   "cell_type": "markdown",
   "id": "07bf6422",
   "metadata": {},
   "source": [
    "__Q2. Why *args and **kwargs is used in some functions? Create a function each for *args and **kwargs to\n",
    "demonstrate their use.__"
   ]
  },
  {
   "cell_type": "markdown",
   "id": "24cf509b",
   "metadata": {},
   "source": [
    "__Ans.__"
   ]
  },
  {
   "cell_type": "markdown",
   "id": "86a507f0",
   "metadata": {},
   "source": [
    "*args specifies the number of non-keyworded arguments that can be passed and the operations that can be performed on the function in Python whereas **kwargs is a variable number of keyworded arguments that can be passed to a function that can perform dictionary operations."
   ]
  },
  {
   "cell_type": "code",
   "execution_count": 2,
   "id": "e56c29e9",
   "metadata": {},
   "outputs": [
    {
     "name": "stdout",
     "output_type": "stream",
     "text": [
      "15\n"
     ]
    }
   ],
   "source": [
    "## args example\n",
    "def sum_numbers(*args):\n",
    "    total = 0\n",
    "    for num in args:\n",
    "        total += num\n",
    "    return total\n",
    "\n",
    "result = sum_numbers(1, 2, 3, 4, 5)\n",
    "print(result)  # Output: 15\n"
   ]
  },
  {
   "cell_type": "code",
   "execution_count": 3,
   "id": "a0265787",
   "metadata": {},
   "outputs": [
    {
     "name": "stdout",
     "output_type": "stream",
     "text": [
      "name: Jessica\n",
      "age: 25\n",
      "city: New York\n"
     ]
    }
   ],
   "source": [
    "#kwargs example\n",
    "def print_info(**kwargs):\n",
    "    for key, value in kwargs.items():\n",
    "        print(f\"{key}: {value}\")\n",
    "\n",
    "print_info(name=\"Jessica\", age=25, city=\"New York\")\n"
   ]
  },
  {
   "cell_type": "markdown",
   "id": "0cd50b69",
   "metadata": {},
   "source": [
    "__Q3. What is an iterator in python? Name the method used to initialise the iterator object and the method\n",
    "used for iteration. Use these methods to print the first five elements of the given list [2, 4, 6, 8, 10, 12, 14, 16,\n",
    "18, 20].__"
   ]
  },
  {
   "cell_type": "markdown",
   "id": "3b3892ba",
   "metadata": {},
   "source": [
    "__Ans.__"
   ]
  },
  {
   "cell_type": "markdown",
   "id": "44bd1c4d",
   "metadata": {},
   "source": [
    "In Python, an iterator is an object that implements the iterator protocol, which allows you to iterate over elements of a collection, such as a list, tuple, or dictionary, in a sequential manner. It provides a way to access the elements of a collection one at a time, without needing to access the entire collection at once.\n",
    "\n",
    "An iterator must define two methods:\n",
    "\n",
    "__iter__(): This method returns the iterator object itself. It is used to initialize the iterator and allows the iterator to be iterated or looped over.\n",
    "\n",
    "__next__(): This method returns the next element in the iteration. It is called repeatedly to retrieve the next element in the sequence. When there are no more elements to return, it should raise the StopIteration exception.\n",
    "\n",
    "To use an iterator, you typically create an iterator object from an iterable (an object that can be looped over) using the iter() function. Then, you can retrieve elements from the iterator using the next() function."
   ]
  },
  {
   "cell_type": "code",
   "execution_count": 4,
   "id": "6c2b0f53",
   "metadata": {},
   "outputs": [
    {
     "name": "stdout",
     "output_type": "stream",
     "text": [
      "2\n",
      "4\n",
      "6\n",
      "8\n",
      "10\n"
     ]
    }
   ],
   "source": [
    "my_list = [2, 4, 6, 8, 10, 12, 14, 16, 18, 20]\n",
    "my_iterator = iter(my_list)\n",
    "\n",
    "for i in range(5):\n",
    "    element = next(my_iterator)\n",
    "    print(element)"
   ]
  },
  {
   "cell_type": "markdown",
   "id": "41c98731",
   "metadata": {},
   "source": [
    "__Q4. What is a generator function in python? Why yield keyword is used? Give an example of a generator\n",
    "function.__"
   ]
  },
  {
   "cell_type": "markdown",
   "id": "1149939a",
   "metadata": {},
   "source": [
    "__Ans.__"
   ]
  },
  {
   "cell_type": "markdown",
   "id": "a4b99926",
   "metadata": {},
   "source": [
    "Python provides a generator to create your own iterator function. A generator is a special type of function which does not return a single value, instead, it returns an iterator object with a sequence of values. In a generator function, a yield statement is used rather than a return statement. The following is a simple generator function."
   ]
  },
  {
   "cell_type": "code",
   "execution_count": 5,
   "id": "223d8a4c",
   "metadata": {},
   "outputs": [
    {
     "name": "stdout",
     "output_type": "stream",
     "text": [
      "0\n",
      "1\n",
      "1\n",
      "2\n",
      "3\n",
      "5\n",
      "8\n",
      "13\n",
      "21\n",
      "34\n"
     ]
    }
   ],
   "source": [
    "def fibonacci():\n",
    "    a, b = 0, 1\n",
    "    while True:\n",
    "        yield a\n",
    "        a, b = b, a + b\n",
    "\n",
    "# Create a generator object\n",
    "fib_gen = fibonacci()\n",
    "\n",
    "# Print the first 10 Fibonacci numbers\n",
    "for _ in range(10):\n",
    "    print(next(fib_gen))\n"
   ]
  },
  {
   "cell_type": "markdown",
   "id": "34477905",
   "metadata": {},
   "source": [
    "__Q5. Create a generator function for prime numbers less than 1000. Use the next() method to print the\n",
    "first 20 prime numbers.__"
   ]
  },
  {
   "cell_type": "markdown",
   "id": "57eab236",
   "metadata": {},
   "source": [
    "__Ans.__"
   ]
  },
  {
   "cell_type": "code",
   "execution_count": 6,
   "id": "36ca325b",
   "metadata": {},
   "outputs": [
    {
     "name": "stdout",
     "output_type": "stream",
     "text": [
      "2\n",
      "3\n",
      "5\n",
      "7\n",
      "11\n",
      "13\n",
      "17\n",
      "19\n",
      "23\n",
      "29\n",
      "31\n",
      "37\n",
      "41\n",
      "43\n",
      "47\n",
      "53\n",
      "59\n",
      "61\n",
      "67\n",
      "71\n"
     ]
    }
   ],
   "source": [
    "def primes():\n",
    "    num = 2\n",
    "    while num < 1000:\n",
    "        if is_prime(num):\n",
    "            yield num\n",
    "        num += 1\n",
    "\n",
    "def is_prime(n):\n",
    "    if n <= 1:\n",
    "        return False\n",
    "    for i in range(2, int(n ** 0.5) + 1):\n",
    "        if n % i == 0:\n",
    "            return False\n",
    "    return True\n",
    "\n",
    "# Create a generator object\n",
    "prime_gen = primes()\n",
    "\n",
    "# Print the first 20 prime numbers\n",
    "for i in range(20):\n",
    "    print(next(prime_gen))\n"
   ]
  },
  {
   "cell_type": "code",
   "execution_count": null,
   "id": "fcbeef47",
   "metadata": {},
   "outputs": [],
   "source": []
  }
 ],
 "metadata": {
  "kernelspec": {
   "display_name": "Python 3 (ipykernel)",
   "language": "python",
   "name": "python3"
  },
  "language_info": {
   "codemirror_mode": {
    "name": "ipython",
    "version": 3
   },
   "file_extension": ".py",
   "mimetype": "text/x-python",
   "name": "python",
   "nbconvert_exporter": "python",
   "pygments_lexer": "ipython3",
   "version": "3.10.9"
  }
 },
 "nbformat": 4,
 "nbformat_minor": 5
}
