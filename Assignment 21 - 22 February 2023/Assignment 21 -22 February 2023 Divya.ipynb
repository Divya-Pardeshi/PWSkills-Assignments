{
 "cells": [
  {
   "cell_type": "markdown",
   "id": "3b2b8209-93f0-4201-886f-ab647ebf3d9e",
   "metadata": {},
   "source": [
    "## Assignment 21 -22 February 2023 Divya"
   ]
  },
  {
   "cell_type": "markdown",
   "id": "9713682c",
   "metadata": {},
   "source": [
    "**Go to this given URL and solve the following questions**\n",
    "**URL: https://www.youtube.com/@PW-Foundation/videos**"
   ]
  },
  {
   "cell_type": "code",
   "execution_count": 1,
   "id": "3ce2b260",
   "metadata": {
    "scrolled": true
   },
   "outputs": [
    {
     "name": "stdout",
     "output_type": "stream",
     "text": [
      "Requirement already satisfied: selenium in c:\\users\\divya\\anaconda3\\lib\\site-packages (4.23.1)\n",
      "Requirement already satisfied: urllib3<3,>=1.26 in c:\\users\\divya\\anaconda3\\lib\\site-packages (from urllib3[socks]<3,>=1.26->selenium) (2.0.7)\n",
      "Requirement already satisfied: trio~=0.17 in c:\\users\\divya\\anaconda3\\lib\\site-packages (from selenium) (0.26.0)\n",
      "Requirement already satisfied: trio-websocket~=0.9 in c:\\users\\divya\\anaconda3\\lib\\site-packages (from selenium) (0.11.1)\n",
      "Requirement already satisfied: certifi>=2021.10.8 in c:\\users\\divya\\anaconda3\\lib\\site-packages (from selenium) (2024.2.2)\n",
      "Requirement already satisfied: typing_extensions~=4.9 in c:\\users\\divya\\anaconda3\\lib\\site-packages (from selenium) (4.9.0)\n",
      "Requirement already satisfied: websocket-client~=1.8 in c:\\users\\divya\\anaconda3\\lib\\site-packages (from selenium) (1.8.0)\n",
      "Requirement already satisfied: attrs>=23.2.0 in c:\\users\\divya\\anaconda3\\lib\\site-packages (from trio~=0.17->selenium) (23.2.0)\n",
      "Requirement already satisfied: sortedcontainers in c:\\users\\divya\\anaconda3\\lib\\site-packages (from trio~=0.17->selenium) (2.4.0)\n",
      "Requirement already satisfied: idna in c:\\users\\divya\\anaconda3\\lib\\site-packages (from trio~=0.17->selenium) (3.4)\n",
      "Requirement already satisfied: outcome in c:\\users\\divya\\anaconda3\\lib\\site-packages (from trio~=0.17->selenium) (1.3.0.post0)\n",
      "Requirement already satisfied: sniffio>=1.3.0 in c:\\users\\divya\\anaconda3\\lib\\site-packages (from trio~=0.17->selenium) (1.3.0)\n",
      "Requirement already satisfied: cffi>=1.14 in c:\\users\\divya\\anaconda3\\lib\\site-packages (from trio~=0.17->selenium) (1.16.0)\n",
      "Requirement already satisfied: wsproto>=0.14 in c:\\users\\divya\\anaconda3\\lib\\site-packages (from trio-websocket~=0.9->selenium) (1.2.0)\n",
      "Requirement already satisfied: pysocks!=1.5.7,<2.0,>=1.5.6 in c:\\users\\divya\\anaconda3\\lib\\site-packages (from urllib3[socks]<3,>=1.26->selenium) (1.7.1)\n",
      "Requirement already satisfied: pycparser in c:\\users\\divya\\anaconda3\\lib\\site-packages (from cffi>=1.14->trio~=0.17->selenium) (2.21)\n",
      "Requirement already satisfied: h11<1,>=0.9.0 in c:\\users\\divya\\anaconda3\\lib\\site-packages (from wsproto>=0.14->trio-websocket~=0.9->selenium) (0.14.0)\n",
      "Note: you may need to restart the kernel to use updated packages.\n"
     ]
    }
   ],
   "source": [
    "pip install selenium"
   ]
  },
  {
   "cell_type": "code",
   "execution_count": 2,
   "id": "c34f9fdb",
   "metadata": {},
   "outputs": [
    {
     "name": "stdout",
     "output_type": "stream",
     "text": [
      "Requirement already satisfied: bs4 in c:\\users\\divya\\anaconda3\\lib\\site-packages (0.0.2)\n",
      "Requirement already satisfied: beautifulsoup4 in c:\\users\\divya\\anaconda3\\lib\\site-packages (from bs4) (4.12.2)\n",
      "Requirement already satisfied: soupsieve>1.2 in c:\\users\\divya\\anaconda3\\lib\\site-packages (from beautifulsoup4->bs4) (2.5)\n",
      "Note: you may need to restart the kernel to use updated packages.\n"
     ]
    }
   ],
   "source": [
    "pip install bs4"
   ]
  },
  {
   "cell_type": "code",
   "execution_count": 3,
   "id": "2e13f195",
   "metadata": {},
   "outputs": [],
   "source": [
    "from selenium import webdriver\n",
    "import pandas as pd\n",
    "from selenium.webdriver.common.by import By\n",
    "from bs4 import BeautifulSoup"
   ]
  },
  {
   "cell_type": "code",
   "execution_count": 4,
   "id": "f82ad34e",
   "metadata": {},
   "outputs": [],
   "source": [
    "browser = webdriver.Chrome()"
   ]
  },
  {
   "cell_type": "code",
   "execution_count": 5,
   "id": "348918b2",
   "metadata": {},
   "outputs": [],
   "source": [
    "url = \"https://www.youtube.com/@PW-Foundation/videos\""
   ]
  },
  {
   "cell_type": "code",
   "execution_count": 6,
   "id": "e8c48a1c",
   "metadata": {},
   "outputs": [],
   "source": [
    "browser.get(url)"
   ]
  },
  {
   "cell_type": "markdown",
   "id": "02a44d92",
   "metadata": {},
   "source": [
    "**Q1. Write a python program to extract the video URL of the first five videos.**"
   ]
  },
  {
   "cell_type": "code",
   "execution_count": 8,
   "id": "14d142cf",
   "metadata": {},
   "outputs": [
    {
     "data": {
      "text/plain": [
       "['https://www.youtube.com/watch?v=6gzDoIKlQvI',\n",
       " 'https://www.youtube.com/watch?v=W5XUcAkjFRk',\n",
       " 'https://www.youtube.com/watch?v=h9ioLJRgZtw',\n",
       " 'https://www.youtube.com/watch?v=JALxYbZ0zEg',\n",
       " 'https://www.youtube.com/watch?v=8delcKigT7w']"
      ]
     },
     "execution_count": 8,
     "metadata": {},
     "output_type": "execute_result"
    }
   ],
   "source": [
    "#Finding Video Url by using Tag Name\n",
    "links = browser.find_elements(By.TAG_NAME,\"a\")\n",
    "video_urls = []\n",
    "for i in links:\n",
    "    url = i.get_attribute(\"href\")\n",
    "    video_urls.append(url)\n",
    "    \n",
    "first_5_video_links = []\n",
    "for url in video_urls:\n",
    "    if url == None or \"/watch?v=\" not in url or url in first_5_video_links:\n",
    "        continue\n",
    "    else:\n",
    "        if len(first_5_video_links) == 5:\n",
    "            break\n",
    "        first_5_video_links.append(url)\n",
    "first_5_video_links"
   ]
  },
  {
   "cell_type": "markdown",
   "id": "abce1d8d",
   "metadata": {},
   "source": [
    "**Q2. Write a python program to extract the URL of the video thumbnails of the first five videos.**"
   ]
  },
  {
   "cell_type": "code",
   "execution_count": 9,
   "id": "8f93e71e",
   "metadata": {},
   "outputs": [
    {
     "name": "stdout",
     "output_type": "stream",
     "text": [
      "['https://i.ytimg.com/vi/6gzDoIKlQvI/hqdefault.jpg?sqp=-oaymwEcCNACELwBSFXyq4qpAw4IARUAAIhCGAFwAcABBg==&rs=AOn4CLAIz04tcM2wrQlns2BbRNDr2XO5ig', 'https://i.ytimg.com/vi/W5XUcAkjFRk/hqdefault.jpg?sqp=-oaymwEcCNACELwBSFXyq4qpAw4IARUAAIhCGAFwAcABBg==&rs=AOn4CLCDS-hdTWy_GXBz2rBnD70ys6KpXQ', 'https://i.ytimg.com/vi/h9ioLJRgZtw/hqdefault.jpg?sqp=-oaymwEcCNACELwBSFXyq4qpAw4IARUAAIhCGAFwAcABBg==&rs=AOn4CLB6W7jWsg9MdYIRSj238jXCyXlWfg', 'Url Not found', 'Url Not found']\n"
     ]
    }
   ],
   "source": [
    "# Extract thumbnail URLs\n",
    "thumbnails = browser.find_elements(By.XPATH, \"//*[@id='thumbnail']/yt-image/img\")\n",
    "thumbnail_list = []\n",
    "\n",
    "for i in thumbnails:\n",
    "    t = i.get_attribute(\"src\")\n",
    "    if t is not None:\n",
    "        thumbnail_list.append(t)\n",
    "    if len(thumbnail_list) == 5:\n",
    "        break\n",
    "\n",
    "# Ensure the list has exactly 5 items by adding placeholders if needed\n",
    "while len(thumbnail_list) < 5:\n",
    "    thumbnail_list.append(\"Url Not found\")\n",
    "\n",
    "# Print the list to verify\n",
    "print(thumbnail_list)"
   ]
  },
  {
   "cell_type": "markdown",
   "id": "fae7af69",
   "metadata": {},
   "source": [
    "**Q3. Write a python program to extract the title of the first five videos.**"
   ]
  },
  {
   "cell_type": "code",
   "execution_count": 10,
   "id": "498bd2bd",
   "metadata": {},
   "outputs": [
    {
     "data": {
      "text/plain": [
       "['Full Marks का डर खत्म 😌 Complete Roadmap for MATHS 🔥 Class 10th BOARDS',\n",
       " 'UDAY 2.0 2025 Batch for Class 11th SCIENCE : सपनों की एक पहचान !! 🔥',\n",
       " 'Arjuna JEE/NEET 3.0 2025 Batch किन बच्चों के लिए है ? 🤔🔥',\n",
       " 'PW CHAMPIONS LEAGUE - Official Teaser | COUNT DOWN BEGINS ⌛',\n",
       " 'Complete Roadmap to make Career in LAW 🎯 | Start Your Preparation Now @PWCLAT']"
      ]
     },
     "execution_count": 10,
     "metadata": {},
     "output_type": "execute_result"
    }
   ],
   "source": [
    "#Finding Title by using TagName\n",
    "yt_link=browser.find_elements(By.TAG_NAME, \"yt-formatted-string\")\n",
    "link =[]\n",
    "for i in yt_link:\n",
    "    temp=i.text\n",
    "    link.append(temp)\n",
    "link=link[26:]\n",
    "title = []\n",
    "for i in link:\n",
    "    if i == '':\n",
    "        continue\n",
    "    else:\n",
    "        if len(title)==5:\n",
    "            break\n",
    "        title.append(i)\n",
    "        \n",
    "title"
   ]
  },
  {
   "cell_type": "code",
   "execution_count": 11,
   "id": "56354cd0",
   "metadata": {
    "scrolled": true
   },
   "outputs": [
    {
     "data": {
      "text/plain": [
       "['UNBOXING of Science EXPERIMENT KIT for Class 8th to 10th 🤩🔥',\n",
       " 'GURU PURNIMA Wishes to all our PWians !!❤️🙏🏻',\n",
       " 'Full Marks का डर खत्म 😌 Complete Roadmap for MATHS 🔥 Class 10th BOARDS',\n",
       " 'UDAY 2.0 2025 Batch for Class 11th SCIENCE : सपनों की एक पहचान !! 🔥',\n",
       " 'Arjuna JEE/NEET 3.0 2025 Batch किन बच्चों के लिए है ? 🤔🔥']"
      ]
     },
     "execution_count": 11,
     "metadata": {},
     "output_type": "execute_result"
    }
   ],
   "source": [
    "#Finding First 5 Title by using XPath\n",
    "you_link = browser.find_elements(By.XPATH,\"//*[@id='video-title']\")\n",
    "title_list = []\n",
    "for i in you_link:\n",
    "    t=i.text\n",
    "    if len(title_list) ==5:\n",
    "        break\n",
    "    title_list.append(t)\n",
    "    \n",
    "title_list"
   ]
  },
  {
   "cell_type": "markdown",
   "id": "be1b3f1f",
   "metadata": {},
   "source": [
    "**Q4. Write a python program to extract the number of views of the first five videos.**"
   ]
  },
  {
   "cell_type": "code",
   "execution_count": 12,
   "id": "9d335165",
   "metadata": {},
   "outputs": [
    {
     "data": {
      "text/plain": [
       "['29K views', '26K views', '134K views', '25K views', '31K views']"
      ]
     },
     "execution_count": 12,
     "metadata": {},
     "output_type": "execute_result"
    }
   ],
   "source": [
    "views=browser.find_elements(By.XPATH,\"//*[@id='metadata-line']/span[1]\")\n",
    "views_list=[]\n",
    "for i in views:\n",
    "    t=i.text\n",
    "    if len(views_list) ==5:\n",
    "        break\n",
    "    views_list.append(t)\n",
    "    \n",
    "views_list"
   ]
  },
  {
   "cell_type": "markdown",
   "id": "960f9d8b",
   "metadata": {},
   "source": [
    "**Q5. Write a python program to extract the time of posting of video for the first five videos.**"
   ]
  },
  {
   "cell_type": "code",
   "execution_count": 13,
   "id": "4eb88774",
   "metadata": {
    "scrolled": true
   },
   "outputs": [
    {
     "data": {
      "text/plain": [
       "['1 day ago', '5 days ago', '13 days ago', '2 weeks ago', '2 weeks ago']"
      ]
     },
     "execution_count": 13,
     "metadata": {},
     "output_type": "execute_result"
    }
   ],
   "source": [
    "timee = browser.find_elements(By.XPATH,\"//*[@id='metadata-line']/span[2]\")\n",
    "time_list = []\n",
    "for i in timee:\n",
    "    t=i.text\n",
    "    if len(time_list) ==5:\n",
    "        break\n",
    "    time_list.append(t)\n",
    "    \n",
    "time_list"
   ]
  },
  {
   "cell_type": "markdown",
   "id": "a154866d",
   "metadata": {},
   "source": [
    "**Q6. Save all the data scraped in the above questions in a CSV file.**"
   ]
  },
  {
   "cell_type": "code",
   "execution_count": 14,
   "id": "44c85159",
   "metadata": {},
   "outputs": [],
   "source": [
    "import csv"
   ]
  },
  {
   "cell_type": "code",
   "execution_count": 16,
   "id": "cca73e2b",
   "metadata": {},
   "outputs": [],
   "source": [
    "reviews=[]\n",
    "for i in range(5):\n",
    "        mydict = {\"VideoLink\": str(first_5_video_links[i]),\"ThumbnailUrl\": str(thumbnail_list[i]),\"VideoTitle\": str(title_list[i]), \"Views\": str(views_list[i]), \"Time of Upload\": str(time_list[i])}\n",
    "        reviews.append(mydict)\n",
    "\n",
    "with open(\"Video_details.csv\", \"w\", newline='', encoding='utf-8') as fw:\n",
    "    headers = [\"VideoLink\",\"ThumbnailUrl\",\"VideoTitle\",\"Views\", \"Time of Upload\"]\n",
    "    writer = csv.DictWriter(fw, fieldnames=headers)\n",
    "    writer.writeheader()\n",
    "    writer.writerows(reviews)"
   ]
  },
  {
   "cell_type": "code",
   "execution_count": 18,
   "id": "3dccc6b9-ad09-4387-af0d-4a512d4899bc",
   "metadata": {},
   "outputs": [
    {
     "name": "stdout",
     "output_type": "stream",
     "text": [
      "['VideoLink', 'ThumbnailUrl', 'VideoTitle', 'Views', 'Time of Upload']\n",
      "['https://www.youtube.com/watch?v=6gzDoIKlQvI', 'https://i.ytimg.com/vi/6gzDoIKlQvI/hqdefault.jpg?sqp=-oaymwEcCNACELwBSFXyq4qpAw4IARUAAIhCGAFwAcABBg==&rs=AOn4CLAIz04tcM2wrQlns2BbRNDr2XO5ig', 'UNBOXING of Science EXPERIMENT KIT for Class 8th to 10th 🤩🔥', '29K views', '1 day ago']\n",
      "['https://www.youtube.com/watch?v=W5XUcAkjFRk', 'https://i.ytimg.com/vi/W5XUcAkjFRk/hqdefault.jpg?sqp=-oaymwEcCNACELwBSFXyq4qpAw4IARUAAIhCGAFwAcABBg==&rs=AOn4CLCDS-hdTWy_GXBz2rBnD70ys6KpXQ', 'GURU PURNIMA Wishes to all our PWians !!❤️🙏🏻', '26K views', '5 days ago']\n",
      "['https://www.youtube.com/watch?v=h9ioLJRgZtw', 'https://i.ytimg.com/vi/h9ioLJRgZtw/hqdefault.jpg?sqp=-oaymwEcCNACELwBSFXyq4qpAw4IARUAAIhCGAFwAcABBg==&rs=AOn4CLB6W7jWsg9MdYIRSj238jXCyXlWfg', 'Full Marks का डर खत्म 😌 Complete Roadmap for MATHS 🔥 Class 10th BOARDS', '134K views', '13 days ago']\n",
      "['https://www.youtube.com/watch?v=JALxYbZ0zEg', 'Url Not found', 'UDAY 2.0 2025 Batch for Class 11th SCIENCE : सपनों की एक पहचान !! 🔥', '25K views', '2 weeks ago']\n",
      "['https://www.youtube.com/watch?v=8delcKigT7w', 'Url Not found', 'Arjuna JEE/NEET 3.0 2025 Batch किन बच्चों के लिए है ? 🤔🔥', '31K views', '2 weeks ago']\n"
     ]
    }
   ],
   "source": [
    "\n",
    "# List of possible encodings to try\n",
    "encodings = ['utf-8', 'latin1', 'cp1252']\n",
    "\n",
    "for encoding in encodings:\n",
    "    try:\n",
    "        # Open the CSV file with the specified encoding\n",
    "        with open(\"Video_details.csv\", 'r', newline='', encoding=encoding) as f:\n",
    "            # Create a CSV reader object\n",
    "            reader = csv.reader(f)\n",
    "            \n",
    "            # Iterate over each row in the CSV file\n",
    "            for row in reader:\n",
    "                print(row)\n",
    "                \n",
    "        # If successful, break out of the loop\n",
    "        break\n",
    "    except UnicodeDecodeError:\n",
    "        # Print a message if the decoding fails and try the next encoding\n",
    "        print(f\"Failed to decode with {encoding} encoding.\")\n",
    "    except FileNotFoundError:\n",
    "        print(\"The file Video_details.csv does not exist.\")\n",
    "        break\n",
    "    except Exception as e:\n",
    "        print(f\"An error occurred: {e}\")\n",
    "        break\n"
   ]
  },
  {
   "cell_type": "code",
   "execution_count": null,
   "id": "db42ea23-9ae8-4efa-9407-49591c34208e",
   "metadata": {},
   "outputs": [],
   "source": []
  }
 ],
 "metadata": {
  "kernelspec": {
   "display_name": "Python 3 (ipykernel)",
   "language": "python",
   "name": "python3"
  },
  "language_info": {
   "codemirror_mode": {
    "name": "ipython",
    "version": 3
   },
   "file_extension": ".py",
   "mimetype": "text/x-python",
   "name": "python",
   "nbconvert_exporter": "python",
   "pygments_lexer": "ipython3",
   "version": "3.11.7"
  }
 },
 "nbformat": 4,
 "nbformat_minor": 5
}
