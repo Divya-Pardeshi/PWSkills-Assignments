{
 "cells": [
  {
   "cell_type": "markdown",
   "id": "033a85e5",
   "metadata": {},
   "source": [
    "## Assignment 6 - 5 February 2023 : Divya Pardeshi"
   ]
  },
  {
   "cell_type": "markdown",
   "id": "e1c79e83",
   "metadata": {},
   "source": [
    "__Q1. Explain Class and Object with respect to Object-Oriented Programming. Give a suitable example.__"
   ]
  },
  {
   "cell_type": "markdown",
   "id": "04d689b7",
   "metadata": {},
   "source": [
    "__Ans.__"
   ]
  },
  {
   "cell_type": "markdown",
   "id": "5b3884d3",
   "metadata": {},
   "source": [
    "In object-oriented programming (OOP), a class is a blueprint or a template that defines the structure and behavior of objects. It provides a set of attributes (data) and methods (functions) that define the characteristics and actions that the objects of that class can have. A class serves as a blueprint from which individual objects can be created.\n",
    "\n",
    "An object, on the other hand, is an instance of a class. It is a specific entity that is created based on the definition provided by the class. An object has its own unique set of attributes and can perform actions defined by the methods of its class. Objects are the real entities that interact with each other in an OOP system.\n",
    "\n",
    "Let's consider an example to illustrate the concepts of class and object:\n"
   ]
  },
  {
   "cell_type": "code",
   "execution_count": 1,
   "id": "80503182",
   "metadata": {},
   "outputs": [
    {
     "name": "stdout",
     "output_type": "stream",
     "text": [
      "Toyota\n",
      "X5\n",
      "The Toyota Camry is driving.\n",
      "The BMW X5 is honking.\n"
     ]
    }
   ],
   "source": [
    "class Car:\n",
    "    def __init__(self, brand, model, color):\n",
    "        self.brand = brand\n",
    "        self.model = model\n",
    "        self.color = color\n",
    "\n",
    "    def drive(self):\n",
    "        print(f\"The {self.brand} {self.model} is driving.\")\n",
    "\n",
    "    def honk(self):\n",
    "        print(f\"The {self.brand} {self.model} is honking.\")\n",
    "\n",
    "# Creating objects of the Car class\n",
    "car1 = Car(\"Toyota\", \"Camry\", \"Red\")\n",
    "car2 = Car(\"BMW\", \"X5\", \"Blue\")\n",
    "\n",
    "# Accessing object attributes\n",
    "print(car1.brand)    # Output: Toyota\n",
    "print(car2.model)    # Output: X5\n",
    "\n",
    "# Invoking object methods\n",
    "car1.drive()    # Output: The Toyota Camry is driving.\n",
    "car2.honk()     # Output: The BMW X5 is honking.\n"
   ]
  },
  {
   "cell_type": "markdown",
   "id": "f84a4b22",
   "metadata": {},
   "source": [
    "__Q2. Name the four pillars of OOPs.__"
   ]
  },
  {
   "cell_type": "markdown",
   "id": "4b29843e",
   "metadata": {},
   "source": [
    "__Ans.__"
   ]
  },
  {
   "cell_type": "markdown",
   "id": "72a766ca",
   "metadata": {},
   "source": [
    "The four pillars of object-oriented programming (OOP) are:\n",
    "\n",
    "1. Encapsulation: Encapsulation is the principle of bundling data (attributes) and methods (functions) together within a class. It provides data hiding and allows objects to control access to their internal state. Encapsulation helps achieve data abstraction and protects the internal details of an object from external interference.\n",
    "\n",
    "2. Inheritance: Inheritance is the mechanism by which one class inherits the attributes and methods of another class. It enables code reuse and the creation of a hierarchical relationship between classes. The derived class (subclass) inherits the properties of the base class (superclass) and can extend or modify its behavior. Inheritance promotes code reusability and supports the concept of \"is-a\" relationship.\n",
    "\n",
    "3. Polymorphism: Polymorphism refers to the ability of objects of different classes to respond to the same method in different ways. It allows objects to exhibit different behaviors based on their data type or class hierarchy. Polymorphism can be achieved through method overriding (runtime polymorphism) and method overloading (compile-time polymorphism). Polymorphism enhances code flexibility and modularity.\n",
    "\n",
    "4. Abstraction: Abstraction is the process of simplifying complex systems by representing only the essential features and hiding unnecessary details. It focuses on defining interfaces and hiding implementation details. Abstraction allows programmers to create abstract classes and interfaces that provide a high-level view of the system, allowing for easy maintenance and code organization.\n",
    "\n",
    "These four pillars of OOP provide a strong foundation for designing modular, reusable, and extensible code. They promote code flexibility, maintainability, and scalability, making it easier to develop and manage complex software systems."
   ]
  },
  {
   "cell_type": "markdown",
   "id": "08d99c80",
   "metadata": {},
   "source": [
    "__Q3. Explain why the __init__() function is used. Give a suitable example.__"
   ]
  },
  {
   "cell_type": "markdown",
   "id": "fac63048",
   "metadata": {},
   "source": [
    "__Ans.__"
   ]
  },
  {
   "cell_type": "markdown",
   "id": "3d5d8f71",
   "metadata": {},
   "source": [
    "The `__init__()` function is a special method in Python classes that is automatically called when an object is created from that class. It is commonly used to initialize the attributes of the object, providing a convenient way to set initial values.\n",
    "\n",
    "The primary purpose of the `__init__()` method is to ensure that all necessary setup and initialization tasks are performed when an object is created. By defining this method, you can specify how the object should be initialized, what attributes it should have, and any other necessary configurations.\n",
    "\n",
    "Here's an example to illustrate the use of the `__init__()` method:"
   ]
  },
  {
   "cell_type": "code",
   "execution_count": 2,
   "id": "e89c6bb6",
   "metadata": {},
   "outputs": [
    {
     "name": "stdout",
     "output_type": "stream",
     "text": [
      "Toyota\n",
      "Camry\n",
      "2022\n",
      "0\n",
      "100\n"
     ]
    }
   ],
   "source": [
    "class Car:\n",
    "    def __init__(self, make, model, year):\n",
    "        self.make = make\n",
    "        self.model = model\n",
    "        self.year = year\n",
    "        self.mileage = 0\n",
    "\n",
    "    def drive(self, distance):\n",
    "        self.mileage += distance\n",
    "\n",
    "# Creating an instance of the Car class\n",
    "my_car = Car(\"Toyota\", \"Camry\", 2022)\n",
    "\n",
    "# Accessing the attributes of the object\n",
    "print(my_car.make)    # Output: Toyota\n",
    "print(my_car.model)   # Output: Camry\n",
    "print(my_car.year)    # Output: 2022\n",
    "print(my_car.mileage) # Output: 0\n",
    "\n",
    "# Driving the car and updating the mileage\n",
    "my_car.drive(100)\n",
    "print(my_car.mileage) # Output: 100\n"
   ]
  },
  {
   "cell_type": "markdown",
   "id": "377f83a3",
   "metadata": {},
   "source": [
    "__Q4. Why self is used in OOPs?__"
   ]
  },
  {
   "cell_type": "markdown",
   "id": "6b40183a",
   "metadata": {},
   "source": [
    "__Ans.__"
   ]
  },
  {
   "cell_type": "markdown",
   "id": "dd8e2674",
   "metadata": {},
   "source": [
    "In object-oriented programming (OOP), `self` is a convention used to refer to the instance of a class within the class's methods. It acts as a reference to the object itself. The use of `self` allows you to access and manipulate the attributes and methods of the object within its own scope.\n",
    "\n",
    "When defining methods within a class, the first parameter is typically named `self`, although you can choose any valid variable name. By convention, `self` is used to make the code more readable and maintain consistency across classes.\n",
    "\n",
    "Here are a few reasons why `self` is used in OOP:\n",
    "\n",
    "1. Instance-specific access: `self` allows you to access and modify the attributes and methods of a specific instance of a class. Each object created from the class has its own set of attributes, and `self` ensures that you can operate on the correct instance.\n",
    "\n",
    "2. Differentiating between instance and local variables: By using `self`, you can differentiate between instance variables (attributes) and local variables within a method. It clarifies that you are working with attributes of the object rather than just local variables in that method.\n",
    "\n",
    "3. Method chaining: `self` enables method chaining, which means you can call multiple methods on the same object in a sequential manner. Each method returns `self`, allowing you to call the next method on the resulting object. This facilitates writing concise and expressive code.\n",
    "\n",
    "4. Clarity and readability: The use of `self` makes the code more readable and self-explanatory. It clearly indicates that you are referring to the object itself, enhancing the understanding of the code for both developers and readers.\n",
    "\n",
    "Here's a simple example to illustrate the usage of `self`:"
   ]
  },
  {
   "cell_type": "code",
   "execution_count": 3,
   "id": "2b7f86c3",
   "metadata": {},
   "outputs": [
    {
     "name": "stdout",
     "output_type": "stream",
     "text": [
      "5\n",
      "78.5\n"
     ]
    }
   ],
   "source": [
    "class Circle:\n",
    "    def __init__(self, radius):\n",
    "        self.radius = radius\n",
    "\n",
    "    def calculate_area(self):\n",
    "        return 3.14 * self.radius * self.radius\n",
    "\n",
    "# Creating an instance of the Circle class\n",
    "my_circle = Circle(5)\n",
    "\n",
    "# Accessing the object's attributes and methods using self\n",
    "print(my_circle.radius)              # Output: 5\n",
    "print(my_circle.calculate_area())    # Output: 78.5"
   ]
  },
  {
   "cell_type": "markdown",
   "id": "b742b89b",
   "metadata": {},
   "source": [
    "__Q5. What is inheritance? Give an example for each type of inheritance.__"
   ]
  },
  {
   "cell_type": "markdown",
   "id": "bc2d7579",
   "metadata": {},
   "source": [
    "__Ans.__"
   ]
  },
  {
   "cell_type": "markdown",
   "id": "29ca6a8c",
   "metadata": {},
   "source": [
    "Inheritance is a fundamental concept in object-oriented programming (OOP) that allows one class to inherit properties and methods from another class. The class that inherits is called the \"derived class\" or \"subclass,\" and the class being inherited from is called the \"base class,\" \"parent class,\" or \"superclass.\" Inheritance promotes code reuse, modularity, and supports the principle of hierarchical classification.\n",
    "\n",
    "There are different types of inheritance in Python:\n",
    "\n",
    "1. Single Inheritance:\n",
    "   In single inheritance, a derived class inherits properties and methods from a single base class. It forms a one-to-one parent-child relationship.\n",
    "\n",
    "   Example:\n",
    "   ```python\n",
    "   class Vehicle:\n",
    "       def __init__(self, name):\n",
    "           self.name = name\n",
    "\n",
    "       def drive(self):\n",
    "           print(\"Driving\")\n",
    "\n",
    "   class Car(Vehicle):\n",
    "       def honk(self):\n",
    "           print(\"Honking\")\n",
    "\n",
    "   my_car = Car(\"Toyota\")\n",
    "   my_car.drive()   # Output: Driving\n",
    "   my_car.honk()    # Output: Honking\n",
    "   ```\n",
    "\n",
    "2. Multiple Inheritance:\n",
    "   Multiple inheritance allows a derived class to inherit properties and methods from multiple base classes. It forms a multiple parent-child relationship.\n",
    "\n",
    "   Example:\n",
    "   ```python\n",
    "   class Animal:\n",
    "       def eat(self):\n",
    "           print(\"Eating\")\n",
    "\n",
    "   class Flyable:\n",
    "       def fly(self):\n",
    "           print(\"Flying\")\n",
    "\n",
    "   class Bird(Animal, Flyable):\n",
    "       def chirp(self):\n",
    "           print(\"Chirping\")\n",
    "\n",
    "   my_bird = Bird()\n",
    "   my_bird.eat()    # Output: Eating\n",
    "   my_bird.fly()    # Output: Flying\n",
    "   my_bird.chirp()  # Output: Chirping\n",
    "   ```\n",
    "\n",
    "3. Multilevel Inheritance:\n",
    "   Multilevel inheritance involves creating a derived class from another derived class. It forms a hierarchy of parent-child relationships.\n",
    "\n",
    "   Example:\n",
    "   ```python\n",
    "   class Animal:\n",
    "       def eat(self):\n",
    "           print(\"Eating\")\n",
    "\n",
    "   class Mammal(Animal):\n",
    "       def sleep(self):\n",
    "           print(\"Sleeping\")\n",
    "\n",
    "   class Dog(Mammal):\n",
    "       def bark(self):\n",
    "           print(\"Barking\")\n",
    "\n",
    "   my_dog = Dog()\n",
    "   my_dog.eat()     # Output: Eating\n",
    "   my_dog.sleep()   # Output: Sleeping\n",
    "   my_dog.bark()    # Output: Barking\n",
    "   ```\n",
    "\n",
    "4. Hierarchical Inheritance:\n",
    "   Hierarchical inheritance involves creating multiple derived classes from a single base class. It forms a one-to-many parent-child relationship.\n",
    "\n",
    "   Example:\n",
    "   ```python\n",
    "   class Shape:\n",
    "       def draw(self):\n",
    "           print(\"Drawing\")\n",
    "\n",
    "   class Circle(Shape):\n",
    "       def calculate_area(self):\n",
    "           print(\"Calculating Circle's area\")\n",
    "\n",
    "   class Rectangle(Shape):\n",
    "       def calculate_area(self):\n",
    "           print(\"Calculating Rectangle's area\")\n",
    "\n",
    "   my_circle = Circle()\n",
    "   my_circle.draw()           # Output: Drawing\n",
    "   my_circle.calculate_area() # Output: Calculating Circle's area\n",
    "\n",
    "   my_rectangle = Rectangle()\n",
    "   my_rectangle.draw()           # Output: Drawing\n",
    "   my_rectangle.calculate_area() # Output: Calculating Rectangle's area\n",
    "   ```\n",
    "\n",
    "These examples illustrate different types of inheritance and how classes can inherit properties and methods from other classes, forming various relationships and hierarchies."
   ]
  },
  {
   "cell_type": "code",
   "execution_count": null,
   "id": "f8134a89",
   "metadata": {},
   "outputs": [],
   "source": []
  }
 ],
 "metadata": {
  "kernelspec": {
   "display_name": "Python 3 (ipykernel)",
   "language": "python",
   "name": "python3"
  },
  "language_info": {
   "codemirror_mode": {
    "name": "ipython",
    "version": 3
   },
   "file_extension": ".py",
   "mimetype": "text/x-python",
   "name": "python",
   "nbconvert_exporter": "python",
   "pygments_lexer": "ipython3",
   "version": "3.10.9"
  }
 },
 "nbformat": 4,
 "nbformat_minor": 5
}
