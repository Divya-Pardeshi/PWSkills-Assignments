{
 "cells": [
  {
   "cell_type": "markdown",
   "id": "dfd5b4aa",
   "metadata": {},
   "source": [
    "## Assignment 7 - 6 February 2023 : Divya Pardeshi"
   ]
  },
  {
   "cell_type": "markdown",
   "id": "7157a4a9",
   "metadata": {},
   "source": [
    "__Q1. Create a function which will take a list as an argument and return the product of all the numbers\n",
    "after creating a flat list.\n",
    "Use the below-given list as an argument for your function.\n",
    "list1 = [1,2,3,4, [44,55,66, True], False, (34,56,78,89,34), {1,2,3,3,2,1}, {1:34, \"key2\": [55, 67, 78, 89], 4: (45,\n",
    "22, 61, 34)}, [56, 'data science'], 'Machine Learning']\n",
    "Note: you must extract numeric keys and values of the dictionary also.__"
   ]
  },
  {
   "cell_type": "markdown",
   "id": "4d80e999",
   "metadata": {},
   "source": [
    "__Ans.__"
   ]
  },
  {
   "cell_type": "code",
   "execution_count": 1,
   "id": "7c81bb19",
   "metadata": {},
   "outputs": [],
   "source": [
    "from functools import reduce\n",
    "\n",
    "def flat_and_product(lst):\n",
    "    \"\"\"\n",
    "    This function takes a list extracts all numeric values from it including dictionary keys , values \n",
    "    and returns the product of numeric values as result\n",
    "    \"\"\"\n",
    "    l = [] #Initialize Blank List\n",
    "\n",
    "    # Using for loop to iterate through\n",
    "    for i in lst:        \n",
    "        # If type of element integer or float then append into list\n",
    "        if type(i)==int or type(i)==float:\n",
    "            l.append(i)\n",
    "        \n",
    "        # If type of element list then extend the list l\n",
    "        elif type(i)==list:\n",
    "            l.extend(i)\n",
    "        \n",
    "        # If type of element tuple or sets then typecast and extend the list l\n",
    "        elif type(i)==tuple or type(i)==set:\n",
    "            l.extend(list(i))\n",
    "        \n",
    "        # If type of element is dictionary then extend keys and values into the list l iterate through key and value and extend them        \n",
    "        elif type(i)==dict:\n",
    "            for key, value in i.items():\n",
    "                l.append(key)\n",
    "                \n",
    "                # Checking types of values and performing similar operations\n",
    "                if type(value)==int or type(value)==float:\n",
    "                    l.append(value)\n",
    "                elif type(value)==list:\n",
    "                    l.extend(value)\n",
    "                elif type(value)==tuple or type(value)==set:\n",
    "                    l.extend(list(value))\n",
    "            # For block for dictionary completed\n",
    "        \n",
    "\n",
    "    # Print orignal list\n",
    "    print('Orignal List given : ',lst)\n",
    "        \n",
    "    # Print list before filtering numeric values inside\n",
    "    print('\\nFlat List before filtering numeric values inside nested structures : ',l)\n",
    "\n",
    "    # Apply Filter function and lambda to filter numeric values only\n",
    "    filter_l = list(filter(lambda x: type(x)==int or type(x)==float,l))\n",
    "    print('\\nFlat List after filtering numeric values only : ',filter_l)\n",
    "\n",
    "    # Apply Reduce function to get product from the filtered list\n",
    "    product = reduce(lambda x,y : x*y, filter_l)\n",
    "    \n",
    "    print(\"**********************************************\")\n",
    "    return product"
   ]
  },
  {
   "cell_type": "code",
   "execution_count": 2,
   "id": "3ae5c7bb",
   "metadata": {},
   "outputs": [
    {
     "name": "stdout",
     "output_type": "stream",
     "text": [
      "Orignal List given :  [1, 2, 3, 4, [44, 55, 66, True], False, (34, 56, 78, 89, 34), {1, 2, 3}, {1: 34, 'key2': [55, 67, 78, 89], 4: (45, 22, 61, 34)}, [56, 'data science'], 'Machine Learning']\n",
      "\n",
      "Flat List before filtering numeric values inside nested structures :  [1, 2, 3, 4, 44, 55, 66, True, 34, 56, 78, 89, 34, 1, 2, 3, 1, 34, 'key2', 55, 67, 78, 89, 4, 45, 22, 61, 34, 56, 'data science']\n",
      "\n",
      "Flat List after filtering numeric values only :  [1, 2, 3, 4, 44, 55, 66, 34, 56, 78, 89, 34, 1, 2, 3, 1, 34, 55, 67, 78, 89, 4, 45, 22, 61, 34, 56]\n",
      "**********************************************\n",
      "4134711838987085478833841242112000\n"
     ]
    }
   ],
   "source": [
    "list1 = [1, 2, 3, 4, [44, 55, 66, True], False, (34, 56, 78, 89, 34), {1, 2, 3, 3, 2, 1},\n",
    "         {1: 34, \"key2\": [55, 67, 78, 89], 4: (45, 22, 61, 34)}, [56, 'data science'], 'Machine Learning']\n",
    "\n",
    "result = flat_and_product(list1)\n",
    "print(result)\n"
   ]
  },
  {
   "cell_type": "markdown",
   "id": "7255d131",
   "metadata": {},
   "source": [
    "__Q2. Write a python program for encrypting a message sent to you by your friend. The logic of encryption\n",
    "should be such that, for a the output should be z. For b, the output should be y. For c, the output should\n",
    "be x respectively. Also, the whitespace should be replaced with a dollar sign. Keep the punctuation\n",
    "marks unchanged.__\n",
    "\n",
    "__Input Sentence: I want to become a Data Scientist.__\n",
    "\n",
    "__Encrypt the above input sentence using the program you just created.__\n",
    "\n",
    "__Note: Convert the given input sentence into lowercase before encrypting. The final output should be\n",
    "lowercase.__"
   ]
  },
  {
   "cell_type": "markdown",
   "id": "f6808099",
   "metadata": {},
   "source": [
    "__Ans.__"
   ]
  },
  {
   "cell_type": "code",
   "execution_count": 3,
   "id": "3b619072",
   "metadata": {},
   "outputs": [],
   "source": [
    "def encrypt_message(message):\n",
    "    encrypted_message = \"\"\n",
    "    for char in message:\n",
    "        if char.isalpha():\n",
    "            if char.islower():\n",
    "                encrypted_char = chr(ord('a') + (ord('z') - ord(char)))  # Encrypt lowercase alphabets\n",
    "            else:\n",
    "                encrypted_char = chr(ord('A') + (ord('Z') - ord(char)))  # Encrypt uppercase alphabets\n",
    "        elif char.isspace():\n",
    "            encrypted_char = \"$\"  # Replace whitespace with a dollar sign\n",
    "        else:\n",
    "            encrypted_char = char  # Keep punctuation marks unchanged\n",
    "        encrypted_message += encrypted_char\n",
    "    return encrypted_message"
   ]
  },
  {
   "cell_type": "code",
   "execution_count": 4,
   "id": "94bd0d53",
   "metadata": {},
   "outputs": [
    {
     "name": "stdout",
     "output_type": "stream",
     "text": [
      "r$dzmg$gl$yvxlnv$z$wzgz$hxrvmgrhg.\n"
     ]
    }
   ],
   "source": [
    "# Example usage:\n",
    "input_sentence = \"I want to become a Data Scientist.\"\n",
    "\n",
    "encrypted_sentence = encrypt_message(input_sentence.lower())\n",
    "print(encrypted_sentence)"
   ]
  }
 ],
 "metadata": {
  "kernelspec": {
   "display_name": "Python 3 (ipykernel)",
   "language": "python",
   "name": "python3"
  },
  "language_info": {
   "codemirror_mode": {
    "name": "ipython",
    "version": 3
   },
   "file_extension": ".py",
   "mimetype": "text/x-python",
   "name": "python",
   "nbconvert_exporter": "python",
   "pygments_lexer": "ipython3",
   "version": "3.10.9"
  }
 },
 "nbformat": 4,
 "nbformat_minor": 5
}
