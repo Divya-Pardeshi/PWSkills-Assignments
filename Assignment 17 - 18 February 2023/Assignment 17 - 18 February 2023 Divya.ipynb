{
 "cells": [
  {
   "cell_type": "markdown",
   "id": "87b698fa-3d54-4f7b-ad0e-c000550e2836",
   "metadata": {},
   "source": [
    "## Assignment 17 - 18 February 2023 : Divya Pardeshi"
   ]
  },
  {
   "cell_type": "markdown",
   "id": "041ab2e4-a37c-4b4f-ab4f-7efa77b12559",
   "metadata": {},
   "source": [
    "**Q1. What is an API? Give an Example Where an API is Used in Real Life.**"
   ]
  },
  {
   "cell_type": "markdown",
   "id": "abfc576b-e08b-4e03-9059-5d7da6831238",
   "metadata": {},
   "source": [
    "***API (Application Programming Interface):***\n",
    "An API is a set of rules and protocols for building and interacting with software applications. It defines the methods and data structures that developers can use to interact with the system's functionalities, services, or resources.\n",
    "\n",
    "* Example: Social Media Integration: Many websites and applications use APIs to integrate with social media platforms. For instance, using the Facebook Graph API, developers can allow users to log in to their application using their Facebook credentials, post updates, and fetch user profile information."
   ]
  },
  {
   "cell_type": "markdown",
   "id": "9e7eb63b-f78e-4a53-b0f4-bb542f9cc527",
   "metadata": {},
   "source": [
    "**Q2. Advantages and Disadvantages of Using API**\n"
   ]
  },
  {
   "cell_type": "markdown",
   "id": "f4f6300f-f19c-4b35-b096-41f23004dfde",
   "metadata": {},
   "source": [
    "Advantages:\n",
    "\n",
    "* Automation: APIs allow for automation of tasks, reducing the need for manual intervention.\n",
    "* Efficiency: APIs provide access to the application's functionalities without needing to know its internal logic, speeding up development.\n",
    "* Integration: They enable integration of different systems and applications, enhancing interoperability.\n",
    "* Scalability: APIs support scalability by allowing developers to add functionalities without altering existing code.\n",
    "* Reusability: Code can be reused across different applications, improving productivity.\n",
    "\n",
    "Disadvantages:\n",
    "* Security: Exposing APIs can increase the risk of security vulnerabilities if not properly secured.\n",
    "* Complexity: Understanding and using APIs can be complex, especially for beginners.\n",
    "* Maintenance: APIs require ongoing maintenance and versioning to ensure compatibility with other systems.\n",
    "* Dependency: Reliance on third-party APIs can introduce dependencies, making the application vulnerable to changes or downtimes in the API."
   ]
  },
  {
   "cell_type": "markdown",
   "id": "e4daa596-162d-4a2e-8d92-705564c43706",
   "metadata": {},
   "source": [
    "**Q3. What is a Web API? Differentiate Between API and Web API.**"
   ]
  },
  {
   "cell_type": "markdown",
   "id": "c7c0b30b-75f0-42f4-9a35-c5a77514ff51",
   "metadata": {},
   "source": [
    "* Web API:\n",
    "  \n",
    "A Web API is an API that can be accessed over the web using the HTTP protocol. It is designed to facilitate communication between different software systems via web technologies.\n",
    "\n",
    "**Differences:**\n",
    "\n",
    "* API:\n",
    "\n",
    "General term for interfaces that allow interaction with an application or system.\n",
    "Can be local (within the same system) or remote (between different systems).\n",
    "\n",
    "* Web API:\n",
    "\n",
    "A specific type of API accessible over the web.\n",
    "Utilizes web technologies such as HTTP and REST for communication."
   ]
  },
  {
   "cell_type": "markdown",
   "id": "d4e536b4-7035-47dd-9739-10584ed5e4e2",
   "metadata": {},
   "source": [
    "**Q4. Explain REST and SOAP Architecture. Mention Shortcomings of SOAP.**"
   ]
  },
  {
   "cell_type": "markdown",
   "id": "d64a2f38-4d75-4cd3-95bb-7f9ac931b282",
   "metadata": {},
   "source": [
    "**REST (Representational State Transfer):**\n",
    "\n",
    "* Architecture: REST is an architectural style that uses HTTP requests to interact with resources, identified by URLs.\n",
    "* Operations: Common operations include GET, POST, PUT, DELETE.\n",
    "* Stateless: Each request from client to server must contain all the information the server needs to fulfill the request.\n",
    "* Data Format: Commonly uses JSON or XML.\n",
    "  \n",
    "**SOAP (Simple Object Access Protocol):**\n",
    "\n",
    "* Architecture: SOAP is a protocol for exchanging structured information in the implementation of web services.\n",
    "* Operations: Uses XML to encode messages and relies on other application layer protocols, such as HTTP and SMTP.\n",
    "* Stateful/Stateless: Can be both stateful and stateless.\n",
    "* Data Format: Uses XML exclusively.\n",
    "\n",
    "**Shortcomings of SOAP:**\n",
    "\n",
    "* Complexity: SOAP is more complex to implement and requires more bandwidth due to its reliance on XML.\n",
    "* Overhead: It has higher overhead because of the additional protocols it employs, such as WS-Security, WS-Addressing, etc.\n",
    "* Slower Performance: Generally slower compared to REST due to the complexity and size of the SOAP messages.\n",
    "* Limited Browser Support: SOAP is not as widely supported in web browsers, making it less suitable for web-based applications."
   ]
  },
  {
   "cell_type": "markdown",
   "id": "f50b82ab-238b-4232-aba2-4b958b388d9d",
   "metadata": {},
   "source": [
    "**Q5. Differentiate Between REST and SOAP**"
   ]
  },
  {
   "cell_type": "markdown",
   "id": "4dcfb016-859f-43aa-b6d6-01c853f58433",
   "metadata": {},
   "source": [
    "\n",
    "| Feature                  | REST                                               | SOAP                                               |\n",
    "|--------------------------|----------------------------------------------------|----------------------------------------------------|\n",
    "| **Protocol**             | Architectural style, typically uses HTTP           | Protocol, typically uses HTTP, SMTP, TCP           |\n",
    "| **Message Format**       | JSON, XML, HTML, plain text                        | XML                                                |\n",
    "| **Operations**           | Standard HTTP methods (GET, POST, PUT, DELETE)     | Function calls (methods specified in the SOAP body)|\n",
    "| **Complexity**           | Simple, lightweight                                | Complex, heavyweight                               |\n",
    "| **Stateless**            | Yes                                                | Can be stateful or stateless                       |\n",
    "| **Performance**          | Generally faster due to less overhead              | Slower due to XML parsing and additional processing|\n",
    "| **Security**             | SSL/TLS, OAuth                                     | WS-Security, SSL                                   |\n",
    "| **Flexibility**          | High (can use various data formats)                | Low (strict XML format)                            |\n",
    "| **Error Handling**       | Simple error codes (HTTP status codes)             | Detailed error handling with standard formats      |\n",
    "| **Use Cases**            | Web services, microservices, mobile applications   | Enterprise-level applications, legacy systems      |"
   ]
  },
  {
   "cell_type": "code",
   "execution_count": null,
   "id": "db0e4937-cdcf-4e6e-91c5-0083b94341f4",
   "metadata": {},
   "outputs": [],
   "source": []
  }
 ],
 "metadata": {
  "kernelspec": {
   "display_name": "Python 3 (ipykernel)",
   "language": "python",
   "name": "python3"
  },
  "language_info": {
   "codemirror_mode": {
    "name": "ipython",
    "version": 3
   },
   "file_extension": ".py",
   "mimetype": "text/x-python",
   "name": "python",
   "nbconvert_exporter": "python",
   "pygments_lexer": "ipython3",
   "version": "3.11.7"
  }
 },
 "nbformat": 4,
 "nbformat_minor": 5
}
